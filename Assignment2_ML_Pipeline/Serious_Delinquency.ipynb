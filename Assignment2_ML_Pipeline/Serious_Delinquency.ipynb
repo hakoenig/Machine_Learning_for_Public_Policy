{
 "cells": [
  {
   "cell_type": "code",
   "execution_count": 1,
   "metadata": {
    "collapsed": false
   },
   "outputs": [],
   "source": [
    "#TO-DO:\n",
    "#- how can i ensure that the new features are also present in the test set?\n",
    "# - do not fill with mean of class; but with mean of test set.\n",
    "# move functions out of notebook into py files\n",
    "\n",
    "import pandas as pd\n",
    "import seaborn as sns\n",
    "import numpy as np\n",
    "import matplotlib.pyplot as plt"
   ]
  },
  {
   "cell_type": "code",
   "execution_count": 2,
   "metadata": {
    "collapsed": true
   },
   "outputs": [],
   "source": [
    "#ML imports\n",
    "from sklearn.pipeline import Pipeline\n",
    "from sklearn.model_selection import train_test_split"
   ]
  },
  {
   "cell_type": "code",
   "execution_count": 3,
   "metadata": {
    "collapsed": true
   },
   "outputs": [],
   "source": [
    "#Notebook commands\n",
    "from IPython.core.interactiveshell import InteractiveShell\n",
    "InteractiveShell.ast_node_interactivity = \"all\"\n",
    "\n",
    "%matplotlib inline"
   ]
  },
  {
   "cell_type": "markdown",
   "metadata": {},
   "source": [
    "## Tasks:\n",
    "\n",
    "1. Read Data: For this assignment, assume input is CSV and write a function that can read a csv into python\n",
    "\n",
    "2. Explore Data: You can use the code you wrote for assignment 1 here to generate distributions and data summaries.\n",
    "\n",
    "3. Pre-Process Data: For this assignment, you can limit this to filling in missing values for the variables that have missing values. You can use any simple method to do it (use mean to fill in missing values).\n",
    "\n",
    "4. Generate Features/Predictors: For this assignment, you should write one function that can discretize a continuous variable and one function that can take a categorical variable and create binary/dummy variables from it. Apply them to at least one variable each in this data.\n",
    "\n",
    "5. Build Classifier: For this assignment, select any classifier you feel comfortable with (Logistic Regression for example)\n",
    "\n",
    "6. Evaluate Classifier: you can use any metric you choose for this assignment (accuracy is the easiest one). Feel free to evaluate it on the same data you built the model on (this is not a good idea in general but for this assignment, it is fine). We haven't covered models and evaluation yet, so don't worry about creating validation sets or cross-validation. "
   ]
  },
  {
   "cell_type": "code",
   "execution_count": 4,
   "metadata": {
    "collapsed": false
   },
   "outputs": [],
   "source": [
    "def read_data_from_csv(file_path, index_col=None, split=False, target=None, test_size=None):\n",
    "    \"\"\"\n",
    "    Loads data from csv file.\n",
    "    In:\n",
    "        - file_path: path to csv file\n",
    "        - split: (bool) split data into train & test?\n",
    "        - target: column name of target\n",
    "        - test_size: % of test data\n",
    "    Out:\n",
    "        - data: pandas Dataframe\n",
    "    \"\"\"\n",
    "    data = pd.read_csv(\"data/credit-data.csv\", index_col=index_col)\n",
    "    \n",
    "    if split:\n",
    "        X_train, X_test, y_train, y_test = train_test_split(data.drop([target], axis=1), \n",
    "                                                            data[target], test_size=test_size)\n",
    "        return X_train, X_test, y_train, y_test\n",
    "    return data"
   ]
  },
  {
   "cell_type": "code",
   "execution_count": 5,
   "metadata": {
    "collapsed": false
   },
   "outputs": [
    {
     "data": {
      "text/html": [
       "<div>\n",
       "<table border=\"1\" class=\"dataframe\">\n",
       "  <thead>\n",
       "    <tr style=\"text-align: right;\">\n",
       "      <th></th>\n",
       "      <th>RevolvingUtilizationOfUnsecuredLines</th>\n",
       "      <th>age</th>\n",
       "      <th>zipcode</th>\n",
       "      <th>NumberOfTime30-59DaysPastDueNotWorse</th>\n",
       "      <th>DebtRatio</th>\n",
       "      <th>MonthlyIncome</th>\n",
       "      <th>NumberOfOpenCreditLinesAndLoans</th>\n",
       "      <th>NumberOfTimes90DaysLate</th>\n",
       "      <th>NumberRealEstateLoansOrLines</th>\n",
       "      <th>NumberOfTime60-89DaysPastDueNotWorse</th>\n",
       "      <th>NumberOfDependents</th>\n",
       "      <th>SeriousDlqin2yrs</th>\n",
       "    </tr>\n",
       "    <tr>\n",
       "      <th>PersonID</th>\n",
       "      <th></th>\n",
       "      <th></th>\n",
       "      <th></th>\n",
       "      <th></th>\n",
       "      <th></th>\n",
       "      <th></th>\n",
       "      <th></th>\n",
       "      <th></th>\n",
       "      <th></th>\n",
       "      <th></th>\n",
       "      <th></th>\n",
       "      <th></th>\n",
       "    </tr>\n",
       "  </thead>\n",
       "  <tbody>\n",
       "    <tr>\n",
       "      <th>97175</th>\n",
       "      <td>0.015440</td>\n",
       "      <td>59</td>\n",
       "      <td>60601</td>\n",
       "      <td>0</td>\n",
       "      <td>0.374929</td>\n",
       "      <td>5280.0</td>\n",
       "      <td>12</td>\n",
       "      <td>0</td>\n",
       "      <td>1</td>\n",
       "      <td>0</td>\n",
       "      <td>2.0</td>\n",
       "      <td>0</td>\n",
       "    </tr>\n",
       "    <tr>\n",
       "      <th>42341</th>\n",
       "      <td>0.063856</td>\n",
       "      <td>72</td>\n",
       "      <td>60637</td>\n",
       "      <td>3</td>\n",
       "      <td>0.092517</td>\n",
       "      <td>1469.0</td>\n",
       "      <td>14</td>\n",
       "      <td>0</td>\n",
       "      <td>0</td>\n",
       "      <td>0</td>\n",
       "      <td>0.0</td>\n",
       "      <td>0</td>\n",
       "    </tr>\n",
       "    <tr>\n",
       "      <th>75686</th>\n",
       "      <td>0.017353</td>\n",
       "      <td>46</td>\n",
       "      <td>60618</td>\n",
       "      <td>0</td>\n",
       "      <td>6282.000000</td>\n",
       "      <td>NaN</td>\n",
       "      <td>10</td>\n",
       "      <td>0</td>\n",
       "      <td>3</td>\n",
       "      <td>0</td>\n",
       "      <td>0.0</td>\n",
       "      <td>0</td>\n",
       "    </tr>\n",
       "    <tr>\n",
       "      <th>4644</th>\n",
       "      <td>0.027611</td>\n",
       "      <td>74</td>\n",
       "      <td>60618</td>\n",
       "      <td>0</td>\n",
       "      <td>80.000000</td>\n",
       "      <td>NaN</td>\n",
       "      <td>7</td>\n",
       "      <td>0</td>\n",
       "      <td>0</td>\n",
       "      <td>0</td>\n",
       "      <td>0.0</td>\n",
       "      <td>0</td>\n",
       "    </tr>\n",
       "    <tr>\n",
       "      <th>122531</th>\n",
       "      <td>0.784971</td>\n",
       "      <td>53</td>\n",
       "      <td>60625</td>\n",
       "      <td>0</td>\n",
       "      <td>0.300924</td>\n",
       "      <td>19366.0</td>\n",
       "      <td>17</td>\n",
       "      <td>0</td>\n",
       "      <td>2</td>\n",
       "      <td>0</td>\n",
       "      <td>0.0</td>\n",
       "      <td>0</td>\n",
       "    </tr>\n",
       "  </tbody>\n",
       "</table>\n",
       "</div>"
      ],
      "text/plain": [
       "          RevolvingUtilizationOfUnsecuredLines  age  zipcode  \\\n",
       "PersonID                                                       \n",
       "97175                                 0.015440   59    60601   \n",
       "42341                                 0.063856   72    60637   \n",
       "75686                                 0.017353   46    60618   \n",
       "4644                                  0.027611   74    60618   \n",
       "122531                                0.784971   53    60625   \n",
       "\n",
       "          NumberOfTime30-59DaysPastDueNotWorse    DebtRatio  MonthlyIncome  \\\n",
       "PersonID                                                                     \n",
       "97175                                        0     0.374929         5280.0   \n",
       "42341                                        3     0.092517         1469.0   \n",
       "75686                                        0  6282.000000            NaN   \n",
       "4644                                         0    80.000000            NaN   \n",
       "122531                                       0     0.300924        19366.0   \n",
       "\n",
       "          NumberOfOpenCreditLinesAndLoans  NumberOfTimes90DaysLate  \\\n",
       "PersonID                                                             \n",
       "97175                                  12                        0   \n",
       "42341                                  14                        0   \n",
       "75686                                  10                        0   \n",
       "4644                                    7                        0   \n",
       "122531                                 17                        0   \n",
       "\n",
       "          NumberRealEstateLoansOrLines  NumberOfTime60-89DaysPastDueNotWorse  \\\n",
       "PersonID                                                                       \n",
       "97175                                1                                     0   \n",
       "42341                                0                                     0   \n",
       "75686                                3                                     0   \n",
       "4644                                 0                                     0   \n",
       "122531                               2                                     0   \n",
       "\n",
       "          NumberOfDependents  SeriousDlqin2yrs  \n",
       "PersonID                                        \n",
       "97175                    2.0                 0  \n",
       "42341                    0.0                 0  \n",
       "75686                    0.0                 0  \n",
       "4644                     0.0                 0  \n",
       "122531                   0.0                 0  "
      ]
     },
     "execution_count": 5,
     "metadata": {},
     "output_type": "execute_result"
    }
   ],
   "source": [
    "X_train, X_test, y_train, y_test = read_data_from_csv(\"data/credit-data.csv\", 0, True, \"SeriousDlqin2yrs\", 0.33)\n",
    "data = X_train.join(y_train)\n",
    "\n",
    "data.head()"
   ]
  },
  {
   "cell_type": "markdown",
   "metadata": {},
   "source": [
    "----\n",
    "# Exploring data"
   ]
  },
  {
   "cell_type": "code",
   "execution_count": 6,
   "metadata": {
    "collapsed": false
   },
   "outputs": [
    {
     "name": "stdout",
     "output_type": "stream",
     "text": [
      "Dimension of train dataset: 100500 rows and 12 features.\n",
      "\n"
     ]
    },
    {
     "data": {
      "text/html": [
       "<div>\n",
       "<table border=\"1\" class=\"dataframe\">\n",
       "  <thead>\n",
       "    <tr style=\"text-align: right;\">\n",
       "      <th></th>\n",
       "      <th>RevolvingUtilizationOfUnsecuredLines</th>\n",
       "      <th>age</th>\n",
       "      <th>zipcode</th>\n",
       "      <th>NumberOfTime30-59DaysPastDueNotWorse</th>\n",
       "      <th>DebtRatio</th>\n",
       "      <th>MonthlyIncome</th>\n",
       "      <th>NumberOfOpenCreditLinesAndLoans</th>\n",
       "      <th>NumberOfTimes90DaysLate</th>\n",
       "      <th>NumberRealEstateLoansOrLines</th>\n",
       "      <th>NumberOfTime60-89DaysPastDueNotWorse</th>\n",
       "      <th>NumberOfDependents</th>\n",
       "      <th>SeriousDlqin2yrs</th>\n",
       "    </tr>\n",
       "  </thead>\n",
       "  <tbody>\n",
       "    <tr>\n",
       "      <th>count</th>\n",
       "      <td>100500.000000</td>\n",
       "      <td>100500.000000</td>\n",
       "      <td>100500.000000</td>\n",
       "      <td>100500.000000</td>\n",
       "      <td>100500.000000</td>\n",
       "      <td>8.052200e+04</td>\n",
       "      <td>100500.000000</td>\n",
       "      <td>100500.000000</td>\n",
       "      <td>100500.00000</td>\n",
       "      <td>100500.000000</td>\n",
       "      <td>97876.000000</td>\n",
       "      <td>100500.000000</td>\n",
       "    </tr>\n",
       "    <tr>\n",
       "      <th>mean</th>\n",
       "      <td>6.830816</td>\n",
       "      <td>52.288517</td>\n",
       "      <td>60648.699562</td>\n",
       "      <td>0.423900</td>\n",
       "      <td>356.296898</td>\n",
       "      <td>6.712291e+03</td>\n",
       "      <td>8.471562</td>\n",
       "      <td>0.268149</td>\n",
       "      <td>1.02209</td>\n",
       "      <td>0.242408</td>\n",
       "      <td>0.757346</td>\n",
       "      <td>0.066498</td>\n",
       "    </tr>\n",
       "    <tr>\n",
       "      <th>std</th>\n",
       "      <td>277.358417</td>\n",
       "      <td>14.730967</td>\n",
       "      <td>56.625608</td>\n",
       "      <td>4.223027</td>\n",
       "      <td>2241.911052</td>\n",
       "      <td>1.654228e+04</td>\n",
       "      <td>5.166850</td>\n",
       "      <td>4.199526</td>\n",
       "      <td>1.13633</td>\n",
       "      <td>4.185825</td>\n",
       "      <td>1.114974</td>\n",
       "      <td>0.249151</td>\n",
       "    </tr>\n",
       "    <tr>\n",
       "      <th>min</th>\n",
       "      <td>0.000000</td>\n",
       "      <td>0.000000</td>\n",
       "      <td>60601.000000</td>\n",
       "      <td>0.000000</td>\n",
       "      <td>0.000000</td>\n",
       "      <td>0.000000e+00</td>\n",
       "      <td>0.000000</td>\n",
       "      <td>0.000000</td>\n",
       "      <td>0.00000</td>\n",
       "      <td>0.000000</td>\n",
       "      <td>0.000000</td>\n",
       "      <td>0.000000</td>\n",
       "    </tr>\n",
       "    <tr>\n",
       "      <th>25%</th>\n",
       "      <td>0.030207</td>\n",
       "      <td>41.000000</td>\n",
       "      <td>60625.000000</td>\n",
       "      <td>0.000000</td>\n",
       "      <td>0.176269</td>\n",
       "      <td>3.400000e+03</td>\n",
       "      <td>5.000000</td>\n",
       "      <td>0.000000</td>\n",
       "      <td>0.00000</td>\n",
       "      <td>0.000000</td>\n",
       "      <td>0.000000</td>\n",
       "      <td>0.000000</td>\n",
       "    </tr>\n",
       "    <tr>\n",
       "      <th>50%</th>\n",
       "      <td>0.155427</td>\n",
       "      <td>52.000000</td>\n",
       "      <td>60629.000000</td>\n",
       "      <td>0.000000</td>\n",
       "      <td>0.366891</td>\n",
       "      <td>5.400000e+03</td>\n",
       "      <td>8.000000</td>\n",
       "      <td>0.000000</td>\n",
       "      <td>1.00000</td>\n",
       "      <td>0.000000</td>\n",
       "      <td>0.000000</td>\n",
       "      <td>0.000000</td>\n",
       "    </tr>\n",
       "    <tr>\n",
       "      <th>75%</th>\n",
       "      <td>0.561498</td>\n",
       "      <td>63.000000</td>\n",
       "      <td>60644.000000</td>\n",
       "      <td>0.000000</td>\n",
       "      <td>0.871966</td>\n",
       "      <td>8.273000e+03</td>\n",
       "      <td>11.000000</td>\n",
       "      <td>0.000000</td>\n",
       "      <td>2.00000</td>\n",
       "      <td>0.000000</td>\n",
       "      <td>1.000000</td>\n",
       "      <td>0.000000</td>\n",
       "    </tr>\n",
       "    <tr>\n",
       "      <th>max</th>\n",
       "      <td>50708.000000</td>\n",
       "      <td>109.000000</td>\n",
       "      <td>60804.000000</td>\n",
       "      <td>98.000000</td>\n",
       "      <td>329664.000000</td>\n",
       "      <td>3.008750e+06</td>\n",
       "      <td>58.000000</td>\n",
       "      <td>98.000000</td>\n",
       "      <td>54.00000</td>\n",
       "      <td>98.000000</td>\n",
       "      <td>20.000000</td>\n",
       "      <td>1.000000</td>\n",
       "    </tr>\n",
       "  </tbody>\n",
       "</table>\n",
       "</div>"
      ],
      "text/plain": [
       "       RevolvingUtilizationOfUnsecuredLines            age        zipcode  \\\n",
       "count                         100500.000000  100500.000000  100500.000000   \n",
       "mean                               6.830816      52.288517   60648.699562   \n",
       "std                              277.358417      14.730967      56.625608   \n",
       "min                                0.000000       0.000000   60601.000000   \n",
       "25%                                0.030207      41.000000   60625.000000   \n",
       "50%                                0.155427      52.000000   60629.000000   \n",
       "75%                                0.561498      63.000000   60644.000000   \n",
       "max                            50708.000000     109.000000   60804.000000   \n",
       "\n",
       "       NumberOfTime30-59DaysPastDueNotWorse      DebtRatio  MonthlyIncome  \\\n",
       "count                         100500.000000  100500.000000   8.052200e+04   \n",
       "mean                               0.423900     356.296898   6.712291e+03   \n",
       "std                                4.223027    2241.911052   1.654228e+04   \n",
       "min                                0.000000       0.000000   0.000000e+00   \n",
       "25%                                0.000000       0.176269   3.400000e+03   \n",
       "50%                                0.000000       0.366891   5.400000e+03   \n",
       "75%                                0.000000       0.871966   8.273000e+03   \n",
       "max                               98.000000  329664.000000   3.008750e+06   \n",
       "\n",
       "       NumberOfOpenCreditLinesAndLoans  NumberOfTimes90DaysLate  \\\n",
       "count                    100500.000000            100500.000000   \n",
       "mean                          8.471562                 0.268149   \n",
       "std                           5.166850                 4.199526   \n",
       "min                           0.000000                 0.000000   \n",
       "25%                           5.000000                 0.000000   \n",
       "50%                           8.000000                 0.000000   \n",
       "75%                          11.000000                 0.000000   \n",
       "max                          58.000000                98.000000   \n",
       "\n",
       "       NumberRealEstateLoansOrLines  NumberOfTime60-89DaysPastDueNotWorse  \\\n",
       "count                  100500.00000                         100500.000000   \n",
       "mean                        1.02209                              0.242408   \n",
       "std                         1.13633                              4.185825   \n",
       "min                         0.00000                              0.000000   \n",
       "25%                         0.00000                              0.000000   \n",
       "50%                         1.00000                              0.000000   \n",
       "75%                         2.00000                              0.000000   \n",
       "max                        54.00000                             98.000000   \n",
       "\n",
       "       NumberOfDependents  SeriousDlqin2yrs  \n",
       "count        97876.000000     100500.000000  \n",
       "mean             0.757346          0.066498  \n",
       "std              1.114974          0.249151  \n",
       "min              0.000000          0.000000  \n",
       "25%              0.000000          0.000000  \n",
       "50%              0.000000          0.000000  \n",
       "75%              1.000000          0.000000  \n",
       "max             20.000000          1.000000  "
      ]
     },
     "execution_count": 6,
     "metadata": {},
     "output_type": "execute_result"
    }
   ],
   "source": [
    "# General description of data.\n",
    "print(\"Dimension of train dataset: {} rows and {} features.\\n\".format(data.shape[0], data.shape[1]))\n",
    "data.describe()"
   ]
  },
  {
   "cell_type": "code",
   "execution_count": 7,
   "metadata": {
    "collapsed": false
   },
   "outputs": [
    {
     "data": {
      "text/plain": [
       "0    93817\n",
       "1     6683\n",
       "Name: SeriousDlqin2yrs, dtype: int64"
      ]
     },
     "execution_count": 7,
     "metadata": {},
     "output_type": "execute_result"
    },
    {
     "data": {
      "text/plain": [
       "0    0.933502\n",
       "1    0.066498\n",
       "Name: SeriousDlqin2yrs, dtype: float64"
      ]
     },
     "execution_count": 7,
     "metadata": {},
     "output_type": "execute_result"
    }
   ],
   "source": [
    "# What is the distribution of our target variable?\n",
    "data.SeriousDlqin2yrs.value_counts()\n",
    "data.SeriousDlqin2yrs.value_counts(normalize=True)"
   ]
  },
  {
   "cell_type": "markdown",
   "metadata": {},
   "source": [
    "We are trying to predict who experiences 90 days past due delinquency or worse. In our dataset, this only occurs in 6.6% of the cases."
   ]
  },
  {
   "cell_type": "code",
   "execution_count": 8,
   "metadata": {
    "collapsed": false
   },
   "outputs": [
    {
     "data": {
      "text/plain": [
       "60625    0.223313\n",
       "60629    0.112488\n",
       "60618    0.111463\n",
       "60657    0.111413\n",
       "60601    0.110706\n",
       "60637    0.110637\n",
       "60804    0.110090\n",
       "60644    0.109891\n",
       "Name: zipcode, dtype: float64"
      ]
     },
     "execution_count": 8,
     "metadata": {},
     "output_type": "execute_result"
    },
    {
     "data": {
      "image/png": "[encoded data removed]",
      "text/plain": [
       "<matplotlib.figure.Figure at 0x1123562e8>"
      ]
     },
     "metadata": {},
     "output_type": "display_data"
    }
   ],
   "source": [
    "# Are ZIP codes equally represented?\n",
    "data.zipcode.value_counts(normalize=True)\n",
    "_ = sns.countplot(y=\"zipcode\", data=data)"
   ]
  },
  {
   "cell_type": "markdown",
   "metadata": {},
   "source": [
    "We only have data from 8 zip codes. The data looks equally distributed across zip codes, except for 60625 being responsible for 22% of the entries."
   ]
  },
  {
   "cell_type": "code",
   "execution_count": 9,
   "metadata": {
    "collapsed": false
   },
   "outputs": [
    {
     "data": {
      "text/html": [
       "<div>\n",
       "<table border=\"1\" class=\"dataframe\">\n",
       "  <thead>\n",
       "    <tr style=\"text-align: right;\">\n",
       "      <th>SeriousDlqin2yrs</th>\n",
       "      <th>0</th>\n",
       "      <th>1</th>\n",
       "      <th>total</th>\n",
       "      <th>perc_of_SeriousDlqin2yrs</th>\n",
       "    </tr>\n",
       "    <tr>\n",
       "      <th>zipcode</th>\n",
       "      <th></th>\n",
       "      <th></th>\n",
       "      <th></th>\n",
       "      <th></th>\n",
       "    </tr>\n",
       "  </thead>\n",
       "  <tbody>\n",
       "    <tr>\n",
       "      <th>60601</th>\n",
       "      <td>10419</td>\n",
       "      <td>707</td>\n",
       "      <td>11126</td>\n",
       "      <td>0.063545</td>\n",
       "    </tr>\n",
       "    <tr>\n",
       "      <th>60618</th>\n",
       "      <td>10464</td>\n",
       "      <td>738</td>\n",
       "      <td>11202</td>\n",
       "      <td>0.065881</td>\n",
       "    </tr>\n",
       "    <tr>\n",
       "      <th>60625</th>\n",
       "      <td>20964</td>\n",
       "      <td>1479</td>\n",
       "      <td>22443</td>\n",
       "      <td>0.065900</td>\n",
       "    </tr>\n",
       "    <tr>\n",
       "      <th>60629</th>\n",
       "      <td>10563</td>\n",
       "      <td>742</td>\n",
       "      <td>11305</td>\n",
       "      <td>0.065635</td>\n",
       "    </tr>\n",
       "    <tr>\n",
       "      <th>60637</th>\n",
       "      <td>10353</td>\n",
       "      <td>766</td>\n",
       "      <td>11119</td>\n",
       "      <td>0.068891</td>\n",
       "    </tr>\n",
       "    <tr>\n",
       "      <th>60644</th>\n",
       "      <td>10298</td>\n",
       "      <td>746</td>\n",
       "      <td>11044</td>\n",
       "      <td>0.067548</td>\n",
       "    </tr>\n",
       "    <tr>\n",
       "      <th>60657</th>\n",
       "      <td>10454</td>\n",
       "      <td>743</td>\n",
       "      <td>11197</td>\n",
       "      <td>0.066357</td>\n",
       "    </tr>\n",
       "    <tr>\n",
       "      <th>60804</th>\n",
       "      <td>10302</td>\n",
       "      <td>762</td>\n",
       "      <td>11064</td>\n",
       "      <td>0.068872</td>\n",
       "    </tr>\n",
       "  </tbody>\n",
       "</table>\n",
       "</div>"
      ],
      "text/plain": [
       "SeriousDlqin2yrs      0     1  total  perc_of_SeriousDlqin2yrs\n",
       "zipcode                                                       \n",
       "60601             10419   707  11126                  0.063545\n",
       "60618             10464   738  11202                  0.065881\n",
       "60625             20964  1479  22443                  0.065900\n",
       "60629             10563   742  11305                  0.065635\n",
       "60637             10353   766  11119                  0.068891\n",
       "60644             10298   746  11044                  0.067548\n",
       "60657             10454   743  11197                  0.066357\n",
       "60804             10302   762  11064                  0.068872"
      ]
     },
     "execution_count": 9,
     "metadata": {},
     "output_type": "execute_result"
    }
   ],
   "source": [
    "# How is our target variable distributed by ZIP code?\n",
    "cross_table = pd.crosstab(data.zipcode, data.SeriousDlqin2yrs)\n",
    "cross_table[\"total\"] = cross_table[0] + cross_table[1]\n",
    "cross_table[\"perc_of_SeriousDlqin2yrs\"] = cross_table[1] / cross_table[\"total\"]\n",
    "cross_table"
   ]
  },
  {
   "cell_type": "markdown",
   "metadata": {},
   "source": [
    "While the ZIP code 60625 has the most entries in the dataset, the relative rate of individuals experiencing 90 days past due delinquency or worse is relatively stable across all ZIP codes."
   ]
  },
  {
   "cell_type": "code",
   "execution_count": 10,
   "metadata": {
    "collapsed": false
   },
   "outputs": [
    {
     "data": {
      "text/html": [
       "<div>\n",
       "<table border=\"1\" class=\"dataframe\">\n",
       "  <thead>\n",
       "    <tr style=\"text-align: right;\">\n",
       "      <th></th>\n",
       "      <th>RevolvingUtilizationOfUnsecuredLines</th>\n",
       "      <th>age</th>\n",
       "      <th>zipcode</th>\n",
       "      <th>NumberOfTime30-59DaysPastDueNotWorse</th>\n",
       "      <th>DebtRatio</th>\n",
       "      <th>MonthlyIncome</th>\n",
       "      <th>NumberOfOpenCreditLinesAndLoans</th>\n",
       "      <th>NumberOfTimes90DaysLate</th>\n",
       "      <th>NumberRealEstateLoansOrLines</th>\n",
       "      <th>NumberOfTime60-89DaysPastDueNotWorse</th>\n",
       "      <th>NumberOfDependents</th>\n",
       "    </tr>\n",
       "    <tr>\n",
       "      <th>SeriousDlqin2yrs</th>\n",
       "      <th></th>\n",
       "      <th></th>\n",
       "      <th></th>\n",
       "      <th></th>\n",
       "      <th></th>\n",
       "      <th></th>\n",
       "      <th></th>\n",
       "      <th></th>\n",
       "      <th></th>\n",
       "      <th></th>\n",
       "      <th></th>\n",
       "    </tr>\n",
       "  </thead>\n",
       "  <tbody>\n",
       "    <tr>\n",
       "      <th>0</th>\n",
       "      <td>7.065018</td>\n",
       "      <td>52.746975</td>\n",
       "      <td>60648.635716</td>\n",
       "      <td>0.295138</td>\n",
       "      <td>360.458021</td>\n",
       "      <td>6793.577269</td>\n",
       "      <td>8.514214</td>\n",
       "      <td>0.149973</td>\n",
       "      <td>1.024526</td>\n",
       "      <td>0.140870</td>\n",
       "      <td>0.744037</td>\n",
       "    </tr>\n",
       "    <tr>\n",
       "      <th>1</th>\n",
       "      <td>3.543058</td>\n",
       "      <td>45.852611</td>\n",
       "      <td>60649.595840</td>\n",
       "      <td>2.231483</td>\n",
       "      <td>297.882410</td>\n",
       "      <td>5615.717473</td>\n",
       "      <td>7.872812</td>\n",
       "      <td>1.927129</td>\n",
       "      <td>0.987880</td>\n",
       "      <td>1.667814</td>\n",
       "      <td>0.942665</td>\n",
       "    </tr>\n",
       "  </tbody>\n",
       "</table>\n",
       "</div>"
      ],
      "text/plain": [
       "                  RevolvingUtilizationOfUnsecuredLines        age  \\\n",
       "SeriousDlqin2yrs                                                    \n",
       "0                                             7.065018  52.746975   \n",
       "1                                             3.543058  45.852611   \n",
       "\n",
       "                       zipcode  NumberOfTime30-59DaysPastDueNotWorse  \\\n",
       "SeriousDlqin2yrs                                                       \n",
       "0                 60648.635716                              0.295138   \n",
       "1                 60649.595840                              2.231483   \n",
       "\n",
       "                   DebtRatio  MonthlyIncome  NumberOfOpenCreditLinesAndLoans  \\\n",
       "SeriousDlqin2yrs                                                               \n",
       "0                 360.458021    6793.577269                         8.514214   \n",
       "1                 297.882410    5615.717473                         7.872812   \n",
       "\n",
       "                  NumberOfTimes90DaysLate  NumberRealEstateLoansOrLines  \\\n",
       "SeriousDlqin2yrs                                                          \n",
       "0                                0.149973                      1.024526   \n",
       "1                                1.927129                      0.987880   \n",
       "\n",
       "                  NumberOfTime60-89DaysPastDueNotWorse  NumberOfDependents  \n",
       "SeriousDlqin2yrs                                                            \n",
       "0                                             0.140870            0.744037  \n",
       "1                                             1.667814            0.942665  "
      ]
     },
     "execution_count": 10,
     "metadata": {},
     "output_type": "execute_result"
    }
   ],
   "source": [
    "# What is the mean of a variable for target = 1 and target = 0?\n",
    "data.groupby(\"SeriousDlqin2yrs\").mean()"
   ]
  },
  {
   "cell_type": "markdown",
   "metadata": {},
   "source": [
    "On average, individuals experiencing 90 days past due delinquency or worse ...\n",
    "    - are younger (46.1 vs 52.75)\n",
    "    - have a lower income (5684 vs 6806)\n",
    "    - have a lower debt ratio (297 vs 352). However, these means are likely influenced by outliers or come from cases without monthly income/ with no reported income. Therefore, this comparison only holds if we assume that no income/no reported income shows same distribution across target variable.\n",
    "    - have a lower amount of open credit lines and loans (7.86 vs 8.5)\n",
    "    - have more dependents (0.96 vs 0.74)\n",
    "    - have been more often 30-59/60-89/90 days past due but no worse in the last 2 years."
   ]
  },
  {
   "cell_type": "code",
   "execution_count": 11,
   "metadata": {
    "collapsed": true
   },
   "outputs": [],
   "source": [
    "def plot_correlations(df, title):\n",
    "    \"\"\"\n",
    "    In:\n",
    "        - df: pandas dataframe\n",
    "        - title: title for plot\n",
    "    Out:\n",
    "        -\n",
    "    \"\"\"\n",
    "    ax = plt.axes();\n",
    "    corr = df.corr()\n",
    "    sns.heatmap(corr, xticklabels=corr.columns.values, yticklabels=corr.columns.values, ax=ax);\n",
    "    ax.set_title(title);"
   ]
  },
  {
   "cell_type": "code",
   "execution_count": 12,
   "metadata": {
    "collapsed": false
   },
   "outputs": [
    {
     "data": {
      "image/png": "[encoded data removed]",
      "text/plain": [
       "<matplotlib.figure.Figure at 0x10d7999e8>"
      ]
     },
     "metadata": {},
     "output_type": "display_data"
    }
   ],
   "source": [
    "# How are the variables correlated with each other?\n",
    "plot_correlations(data, 'Correlation matrix')"
   ]
  },
  {
   "cell_type": "code",
   "execution_count": 13,
   "metadata": {
    "collapsed": true
   },
   "outputs": [],
   "source": [
    "#Answer:"
   ]
  },
  {
   "cell_type": "markdown",
   "metadata": {},
   "source": [
    "----\n",
    "# Pre-Processing"
   ]
  },
  {
   "cell_type": "code",
   "execution_count": 14,
   "metadata": {
    "collapsed": false
   },
   "outputs": [
    {
     "data": {
      "text/html": [
       "<div>\n",
       "<table border=\"1\" class=\"dataframe\">\n",
       "  <thead>\n",
       "    <tr style=\"text-align: right;\">\n",
       "      <th></th>\n",
       "      <th>RevolvingUtilizationOfUnsecuredLines</th>\n",
       "      <th>age</th>\n",
       "      <th>zipcode</th>\n",
       "      <th>NumberOfTime30-59DaysPastDueNotWorse</th>\n",
       "      <th>DebtRatio</th>\n",
       "      <th>MonthlyIncome</th>\n",
       "      <th>NumberOfOpenCreditLinesAndLoans</th>\n",
       "      <th>NumberOfTimes90DaysLate</th>\n",
       "      <th>NumberRealEstateLoansOrLines</th>\n",
       "      <th>NumberOfTime60-89DaysPastDueNotWorse</th>\n",
       "      <th>NumberOfDependents</th>\n",
       "      <th>SeriousDlqin2yrs</th>\n",
       "    </tr>\n",
       "    <tr>\n",
       "      <th>PersonID</th>\n",
       "      <th></th>\n",
       "      <th></th>\n",
       "      <th></th>\n",
       "      <th></th>\n",
       "      <th></th>\n",
       "      <th></th>\n",
       "      <th></th>\n",
       "      <th></th>\n",
       "      <th></th>\n",
       "      <th></th>\n",
       "      <th></th>\n",
       "      <th></th>\n",
       "    </tr>\n",
       "  </thead>\n",
       "  <tbody>\n",
       "    <tr>\n",
       "      <th>97175</th>\n",
       "      <td>0.015440</td>\n",
       "      <td>59</td>\n",
       "      <td>60601</td>\n",
       "      <td>0</td>\n",
       "      <td>0.374929</td>\n",
       "      <td>5280.0</td>\n",
       "      <td>12</td>\n",
       "      <td>0</td>\n",
       "      <td>1</td>\n",
       "      <td>0</td>\n",
       "      <td>2.0</td>\n",
       "      <td>0</td>\n",
       "    </tr>\n",
       "    <tr>\n",
       "      <th>42341</th>\n",
       "      <td>0.063856</td>\n",
       "      <td>72</td>\n",
       "      <td>60637</td>\n",
       "      <td>3</td>\n",
       "      <td>0.092517</td>\n",
       "      <td>1469.0</td>\n",
       "      <td>14</td>\n",
       "      <td>0</td>\n",
       "      <td>0</td>\n",
       "      <td>0</td>\n",
       "      <td>0.0</td>\n",
       "      <td>0</td>\n",
       "    </tr>\n",
       "    <tr>\n",
       "      <th>75686</th>\n",
       "      <td>0.017353</td>\n",
       "      <td>46</td>\n",
       "      <td>60618</td>\n",
       "      <td>0</td>\n",
       "      <td>6282.000000</td>\n",
       "      <td>NaN</td>\n",
       "      <td>10</td>\n",
       "      <td>0</td>\n",
       "      <td>3</td>\n",
       "      <td>0</td>\n",
       "      <td>0.0</td>\n",
       "      <td>0</td>\n",
       "    </tr>\n",
       "    <tr>\n",
       "      <th>4644</th>\n",
       "      <td>0.027611</td>\n",
       "      <td>74</td>\n",
       "      <td>60618</td>\n",
       "      <td>0</td>\n",
       "      <td>80.000000</td>\n",
       "      <td>NaN</td>\n",
       "      <td>7</td>\n",
       "      <td>0</td>\n",
       "      <td>0</td>\n",
       "      <td>0</td>\n",
       "      <td>0.0</td>\n",
       "      <td>0</td>\n",
       "    </tr>\n",
       "    <tr>\n",
       "      <th>122531</th>\n",
       "      <td>0.784971</td>\n",
       "      <td>53</td>\n",
       "      <td>60625</td>\n",
       "      <td>0</td>\n",
       "      <td>0.300924</td>\n",
       "      <td>19366.0</td>\n",
       "      <td>17</td>\n",
       "      <td>0</td>\n",
       "      <td>2</td>\n",
       "      <td>0</td>\n",
       "      <td>0.0</td>\n",
       "      <td>0</td>\n",
       "    </tr>\n",
       "  </tbody>\n",
       "</table>\n",
       "</div>"
      ],
      "text/plain": [
       "          RevolvingUtilizationOfUnsecuredLines  age  zipcode  \\\n",
       "PersonID                                                       \n",
       "97175                                 0.015440   59    60601   \n",
       "42341                                 0.063856   72    60637   \n",
       "75686                                 0.017353   46    60618   \n",
       "4644                                  0.027611   74    60618   \n",
       "122531                                0.784971   53    60625   \n",
       "\n",
       "          NumberOfTime30-59DaysPastDueNotWorse    DebtRatio  MonthlyIncome  \\\n",
       "PersonID                                                                     \n",
       "97175                                        0     0.374929         5280.0   \n",
       "42341                                        3     0.092517         1469.0   \n",
       "75686                                        0  6282.000000            NaN   \n",
       "4644                                         0    80.000000            NaN   \n",
       "122531                                       0     0.300924        19366.0   \n",
       "\n",
       "          NumberOfOpenCreditLinesAndLoans  NumberOfTimes90DaysLate  \\\n",
       "PersonID                                                             \n",
       "97175                                  12                        0   \n",
       "42341                                  14                        0   \n",
       "75686                                  10                        0   \n",
       "4644                                    7                        0   \n",
       "122531                                 17                        0   \n",
       "\n",
       "          NumberRealEstateLoansOrLines  NumberOfTime60-89DaysPastDueNotWorse  \\\n",
       "PersonID                                                                       \n",
       "97175                                1                                     0   \n",
       "42341                                0                                     0   \n",
       "75686                                3                                     0   \n",
       "4644                                 0                                     0   \n",
       "122531                               2                                     0   \n",
       "\n",
       "          NumberOfDependents  SeriousDlqin2yrs  \n",
       "PersonID                                        \n",
       "97175                    2.0                 0  \n",
       "42341                    0.0                 0  \n",
       "75686                    0.0                 0  \n",
       "4644                     0.0                 0  \n",
       "122531                   0.0                 0  "
      ]
     },
     "execution_count": 14,
     "metadata": {},
     "output_type": "execute_result"
    }
   ],
   "source": [
    "data.head()"
   ]
  },
  {
   "cell_type": "code",
   "execution_count": 15,
   "metadata": {
    "collapsed": true
   },
   "outputs": [],
   "source": [
    "def keep_track_of_missing_values(df):\n",
    "    \"\"\"\n",
    "    Adds columns indicating if original columns had \n",
    "    missing values.\n",
    "    In:\n",
    "        - df: pandas df\n",
    "    Out:\n",
    "        - df: function modifies df inplace\n",
    "        - list of newly created columns\n",
    "    \"\"\"\n",
    "    new_columns = []\n",
    "    \n",
    "    for column in df:\n",
    "        \n",
    "        if df[column].isnull().values.any():\n",
    "            new_col_name = column + \"_missing\"\n",
    "            new_col = np.zeros(len(df), dtype=np.int)\n",
    "            new_col[df[column].isnull()] = 1\n",
    "            df[new_col_name] = new_col\n",
    "            new_columns.append(new_col_name)\n",
    "    return new_columns"
   ]
  },
  {
   "cell_type": "code",
   "execution_count": 16,
   "metadata": {
    "collapsed": false
   },
   "outputs": [],
   "source": [
    "def fill_missing_values_with_class_mean(df, key):\n",
    "    \"\"\"\n",
    "    Replaces missing values with mean of class.\n",
    "    In:\n",
    "        - df: pandas df\n",
    "        - key: column for classes\n",
    "    Out:\n",
    "        - df\n",
    "    \"\"\"\n",
    "    key_col = df[key]\n",
    "    df = df.groupby(key).transform(lambda x: x.fillna(x.mean()))\n",
    "    df[key] = key_col\n",
    "    return df"
   ]
  },
  {
   "cell_type": "code",
   "execution_count": 17,
   "metadata": {
    "collapsed": false
   },
   "outputs": [],
   "source": [
    "new_columns = keep_track_of_missing_values(data)\n",
    "data = fill_missing_values_with_class_mean(data, \"SeriousDlqin2yrs\")"
   ]
  },
  {
   "cell_type": "code",
   "execution_count": 18,
   "metadata": {
    "collapsed": false
   },
   "outputs": [
    {
     "data": {
      "image/png": "[encoded data removed]",
      "text/plain": [
       "<matplotlib.figure.Figure at 0x104bee748>"
      ]
     },
     "metadata": {},
     "output_type": "display_data"
    }
   ],
   "source": [
    "#Are the missing values correlated with our target?\n",
    "plot_correlations(data[new_columns + [\"SeriousDlqin2yrs\"]], 'Correlation matrix')"
   ]
  },
  {
   "cell_type": "markdown",
   "metadata": {},
   "source": [
    "There is no correlation between missing values and our target _SeriousDlqin2yrs_."
   ]
  },
  {
   "cell_type": "markdown",
   "metadata": {},
   "source": [
    "----\n",
    "# Building Features"
   ]
  },
  {
   "cell_type": "code",
   "execution_count": 19,
   "metadata": {
    "collapsed": true
   },
   "outputs": [],
   "source": [
    "def discretize_cont_var(df, cont_var, n, drop=False):\n",
    "    \"\"\"\n",
    "    Discretizes  continuous variable.\n",
    "    In:\n",
    "        - df: pandas dataframe\n",
    "        - cont_var: continues variable to be discretized\n",
    "        - n: number of percentiles\n",
    "        - drop: (bool) to drop continous variable\n",
    "    Out:\n",
    "        - df\n",
    "    \"\"\"\n",
    "    step_size = 1/n\n",
    "    bucket_array = np.arange(0, 1+step_size, step_size)\n",
    "    \n",
    "    df[cont_var + \"_disc\"] = pd.qcut(data[cont_var], bucket_array)\n",
    "    df = pd.get_dummies(df, columns=[cont_var + \"_disc\"])\n",
    "    \n",
    "    if drop:\n",
    "        del df[cont_var]\n",
    "    \n",
    "    return df"
   ]
  },
  {
   "cell_type": "code",
   "execution_count": 20,
   "metadata": {
    "collapsed": true
   },
   "outputs": [],
   "source": [
    "def dummify_var(df, cat_vars):\n",
    "    \"\"\"\n",
    "    Takes categorical variable and creates binary/dummy variables from it.\n",
    "    In:\n",
    "        - df: pandas dataframe\n",
    "        - cat_vars: list of categorical variables\n",
    "    Out:\n",
    "        - df: pandas dataframe\n",
    "    \"\"\"\n",
    "    return pd.get_dummies(df, columns=cat_vars)"
   ]
  },
  {
   "cell_type": "code",
   "execution_count": 21,
   "metadata": {
    "collapsed": false
   },
   "outputs": [],
   "source": [
    "data = discretize_cont_var(data, \"age\", 10)\n",
    "data = dummify_var(data, [\"zipcode\"])"
   ]
  },
  {
   "cell_type": "markdown",
   "metadata": {},
   "source": [
    "----\n",
    "# Training Classifiers"
   ]
  },
  {
   "cell_type": "code",
   "execution_count": 22,
   "metadata": {
    "collapsed": false
   },
   "outputs": [],
   "source": [
    "X_train, X_test, y_train, y_test = train_test_split(data.drop([\"SeriousDlqin2yrs\"], axis=1), data[\"SeriousDlqin2yrs\"], \n",
    "                                                    test_size=0.33, random_state=42)"
   ]
  },
  {
   "cell_type": "code",
   "execution_count": 23,
   "metadata": {
    "collapsed": false
   },
   "outputs": [
    {
     "data": {
      "text/plain": [
       "0    0.933764\n",
       "1    0.066236\n",
       "Name: SeriousDlqin2yrs, dtype: float64"
      ]
     },
     "execution_count": 23,
     "metadata": {},
     "output_type": "execute_result"
    },
    {
     "data": {
      "text/plain": [
       "0    0.932972\n",
       "1    0.067028\n",
       "Name: SeriousDlqin2yrs, dtype: float64"
      ]
     },
     "execution_count": 23,
     "metadata": {},
     "output_type": "execute_result"
    }
   ],
   "source": [
    "y_train.value_counts(normalize=True)\n",
    "y_test.value_counts(normalize=True)"
   ]
  },
  {
   "cell_type": "code",
   "execution_count": 24,
   "metadata": {
    "collapsed": false
   },
   "outputs": [
    {
     "data": {
      "text/plain": [
       "Index(['RevolvingUtilizationOfUnsecuredLines', 'age',\n",
       "       'NumberOfTime30-59DaysPastDueNotWorse', 'DebtRatio', 'MonthlyIncome',\n",
       "       'NumberOfOpenCreditLinesAndLoans', 'NumberOfTimes90DaysLate',\n",
       "       'NumberRealEstateLoansOrLines', 'NumberOfTime60-89DaysPastDueNotWorse',\n",
       "       'NumberOfDependents', 'MonthlyIncome_missing',\n",
       "       'NumberOfDependents_missing', 'age_disc_[0, 33]', 'age_disc_(33, 39]',\n",
       "       'age_disc_(39, 44]', 'age_disc_(44, 48]', 'age_disc_(48, 52]',\n",
       "       'age_disc_(52, 56]', 'age_disc_(56, 60]', 'age_disc_(60, 65]',\n",
       "       'age_disc_(65, 72]', 'age_disc_(72, 109]', 'zipcode_60601',\n",
       "       'zipcode_60618', 'zipcode_60625', 'zipcode_60629', 'zipcode_60637',\n",
       "       'zipcode_60644', 'zipcode_60657', 'zipcode_60804'],\n",
       "      dtype='object')"
      ]
     },
     "execution_count": 24,
     "metadata": {},
     "output_type": "execute_result"
    }
   ],
   "source": [
    "X_train.columns"
   ]
  },
  {
   "cell_type": "code",
   "execution_count": null,
   "metadata": {
    "collapsed": true
   },
   "outputs": [],
   "source": []
  }
 ],
 "metadata": {
  "anaconda-cloud": {},
  "kernelspec": {
   "display_name": "Python [Root]",
   "language": "python",
   "name": "Python [Root]"
  },
  "language_info": {
   "codemirror_mode": {
    "name": "ipython",
    "version": 3
   },
   "file_extension": ".py",
   "mimetype": "text/x-python",
   "name": "python",
   "nbconvert_exporter": "python",
   "pygments_lexer": "ipython3",
   "version": "3.5.2"
  }
 },
 "nbformat": 4,
 "nbformat_minor": 0
}
