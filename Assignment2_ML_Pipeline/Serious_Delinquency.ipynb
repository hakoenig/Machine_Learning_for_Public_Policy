{
 "cells": [
  {
   "cell_type": "code",
   "execution_count": 1,
   "metadata": {
    "collapsed": false
   },
   "outputs": [],
   "source": [
    "#TO-DO:\n",
    "#- how can i ensure that the new features are also present in the test set?\n",
    "    #build col dict function needs to be continued\n",
    "# - do not fill with mean of class; but with mean of test set.\n",
    "# move functions out of notebook into py files\n",
    "\n",
    "import re\n",
    "import pandas as pd\n",
    "import seaborn as sns\n",
    "import numpy as np\n",
    "import matplotlib.pyplot as plt"
   ]
  },
  {
   "cell_type": "code",
   "execution_count": 2,
   "metadata": {
    "collapsed": true
   },
   "outputs": [],
   "source": [
    "#ML imports\n",
    "from sklearn.pipeline import Pipeline\n",
    "from sklearn.model_selection import train_test_split"
   ]
  },
  {
   "cell_type": "code",
   "execution_count": 3,
   "metadata": {
    "collapsed": true
   },
   "outputs": [],
   "source": [
    "#Notebook commands\n",
    "from IPython.core.interactiveshell import InteractiveShell\n",
    "InteractiveShell.ast_node_interactivity = \"all\"\n",
    "\n",
    "%matplotlib inline"
   ]
  },
  {
   "cell_type": "markdown",
   "metadata": {},
   "source": [
    "## Tasks:\n",
    "\n",
    "1. Read Data: For this assignment, assume input is CSV and write a function that can read a csv into python\n",
    "\n",
    "2. Explore Data: You can use the code you wrote for assignment 1 here to generate distributions and data summaries.\n",
    "\n",
    "3. Pre-Process Data: For this assignment, you can limit this to filling in missing values for the variables that have missing values. You can use any simple method to do it (use mean to fill in missing values).\n",
    "\n",
    "4. Generate Features/Predictors: For this assignment, you should write one function that can discretize a continuous variable and one function that can take a categorical variable and create binary/dummy variables from it. Apply them to at least one variable each in this data.\n",
    "\n",
    "5. Build Classifier: For this assignment, select any classifier you feel comfortable with (Logistic Regression for example)\n",
    "\n",
    "6. Evaluate Classifier: you can use any metric you choose for this assignment (accuracy is the easiest one). Feel free to evaluate it on the same data you built the model on (this is not a good idea in general but for this assignment, it is fine). We haven't covered models and evaluation yet, so don't worry about creating validation sets or cross-validation. "
   ]
  },
  {
   "cell_type": "code",
   "execution_count": 4,
   "metadata": {
    "collapsed": false
   },
   "outputs": [],
   "source": [
    "def read_data_from_csv(file_path, index_col=None, split=False, target=None, test_size=None):\n",
    "    \"\"\"\n",
    "    Loads data from csv file.\n",
    "    In:\n",
    "        - file_path: path to csv file\n",
    "        - split: (bool) split data into train & test?\n",
    "        - target: column name of target\n",
    "        - test_size: % of test data\n",
    "    Out:\n",
    "        - data: pandas Dataframe\n",
    "    \"\"\"\n",
    "    data = pd.read_csv(\"data/credit-data.csv\", index_col=index_col)\n",
    "    \n",
    "    if split:\n",
    "        X_train, X_test, y_train, y_test = train_test_split(data.drop([target], axis=1), \n",
    "                                                            data[target], test_size=test_size)\n",
    "        return X_train, X_test, y_train, y_test\n",
    "    return data"
   ]
  },
  {
   "cell_type": "code",
   "execution_count": 5,
   "metadata": {
    "collapsed": false
   },
   "outputs": [
    {
     "data": {
      "text/html": [
       "<div>\n",
       "<table border=\"1\" class=\"dataframe\">\n",
       "  <thead>\n",
       "    <tr style=\"text-align: right;\">\n",
       "      <th></th>\n",
       "      <th>RevolvingUtilizationOfUnsecuredLines</th>\n",
       "      <th>age</th>\n",
       "      <th>zipcode</th>\n",
       "      <th>NumberOfTime30-59DaysPastDueNotWorse</th>\n",
       "      <th>DebtRatio</th>\n",
       "      <th>MonthlyIncome</th>\n",
       "      <th>NumberOfOpenCreditLinesAndLoans</th>\n",
       "      <th>NumberOfTimes90DaysLate</th>\n",
       "      <th>NumberRealEstateLoansOrLines</th>\n",
       "      <th>NumberOfTime60-89DaysPastDueNotWorse</th>\n",
       "      <th>NumberOfDependents</th>\n",
       "      <th>SeriousDlqin2yrs</th>\n",
       "    </tr>\n",
       "    <tr>\n",
       "      <th>PersonID</th>\n",
       "      <th></th>\n",
       "      <th></th>\n",
       "      <th></th>\n",
       "      <th></th>\n",
       "      <th></th>\n",
       "      <th></th>\n",
       "      <th></th>\n",
       "      <th></th>\n",
       "      <th></th>\n",
       "      <th></th>\n",
       "      <th></th>\n",
       "      <th></th>\n",
       "    </tr>\n",
       "  </thead>\n",
       "  <tbody>\n",
       "    <tr>\n",
       "      <th>133281</th>\n",
       "      <td>0.017636</td>\n",
       "      <td>70</td>\n",
       "      <td>60625</td>\n",
       "      <td>0</td>\n",
       "      <td>781.000000</td>\n",
       "      <td>0.0</td>\n",
       "      <td>14</td>\n",
       "      <td>0</td>\n",
       "      <td>1</td>\n",
       "      <td>0</td>\n",
       "      <td>0.0</td>\n",
       "      <td>0</td>\n",
       "    </tr>\n",
       "    <tr>\n",
       "      <th>128128</th>\n",
       "      <td>0.406792</td>\n",
       "      <td>36</td>\n",
       "      <td>60625</td>\n",
       "      <td>0</td>\n",
       "      <td>577.000000</td>\n",
       "      <td>NaN</td>\n",
       "      <td>6</td>\n",
       "      <td>0</td>\n",
       "      <td>0</td>\n",
       "      <td>0</td>\n",
       "      <td>0.0</td>\n",
       "      <td>0</td>\n",
       "    </tr>\n",
       "    <tr>\n",
       "      <th>61572</th>\n",
       "      <td>0.631340</td>\n",
       "      <td>31</td>\n",
       "      <td>60625</td>\n",
       "      <td>0</td>\n",
       "      <td>1750.000000</td>\n",
       "      <td>NaN</td>\n",
       "      <td>6</td>\n",
       "      <td>0</td>\n",
       "      <td>1</td>\n",
       "      <td>1</td>\n",
       "      <td>3.0</td>\n",
       "      <td>0</td>\n",
       "    </tr>\n",
       "    <tr>\n",
       "      <th>30541</th>\n",
       "      <td>0.195621</td>\n",
       "      <td>53</td>\n",
       "      <td>60625</td>\n",
       "      <td>0</td>\n",
       "      <td>0.453402</td>\n",
       "      <td>4688.0</td>\n",
       "      <td>7</td>\n",
       "      <td>0</td>\n",
       "      <td>1</td>\n",
       "      <td>0</td>\n",
       "      <td>0.0</td>\n",
       "      <td>0</td>\n",
       "    </tr>\n",
       "    <tr>\n",
       "      <th>97238</th>\n",
       "      <td>0.012580</td>\n",
       "      <td>56</td>\n",
       "      <td>60637</td>\n",
       "      <td>0</td>\n",
       "      <td>0.226848</td>\n",
       "      <td>19166.0</td>\n",
       "      <td>13</td>\n",
       "      <td>0</td>\n",
       "      <td>2</td>\n",
       "      <td>0</td>\n",
       "      <td>2.0</td>\n",
       "      <td>0</td>\n",
       "    </tr>\n",
       "  </tbody>\n",
       "</table>\n",
       "</div>"
      ],
      "text/plain": [
       "          RevolvingUtilizationOfUnsecuredLines  age  zipcode  \\\n",
       "PersonID                                                       \n",
       "133281                                0.017636   70    60625   \n",
       "128128                                0.406792   36    60625   \n",
       "61572                                 0.631340   31    60625   \n",
       "30541                                 0.195621   53    60625   \n",
       "97238                                 0.012580   56    60637   \n",
       "\n",
       "          NumberOfTime30-59DaysPastDueNotWorse    DebtRatio  MonthlyIncome  \\\n",
       "PersonID                                                                     \n",
       "133281                                       0   781.000000            0.0   \n",
       "128128                                       0   577.000000            NaN   \n",
       "61572                                        0  1750.000000            NaN   \n",
       "30541                                        0     0.453402         4688.0   \n",
       "97238                                        0     0.226848        19166.0   \n",
       "\n",
       "          NumberOfOpenCreditLinesAndLoans  NumberOfTimes90DaysLate  \\\n",
       "PersonID                                                             \n",
       "133281                                 14                        0   \n",
       "128128                                  6                        0   \n",
       "61572                                   6                        0   \n",
       "30541                                   7                        0   \n",
       "97238                                  13                        0   \n",
       "\n",
       "          NumberRealEstateLoansOrLines  NumberOfTime60-89DaysPastDueNotWorse  \\\n",
       "PersonID                                                                       \n",
       "133281                               1                                     0   \n",
       "128128                               0                                     0   \n",
       "61572                                1                                     1   \n",
       "30541                                1                                     0   \n",
       "97238                                2                                     0   \n",
       "\n",
       "          NumberOfDependents  SeriousDlqin2yrs  \n",
       "PersonID                                        \n",
       "133281                   0.0                 0  \n",
       "128128                   0.0                 0  \n",
       "61572                    3.0                 0  \n",
       "30541                    0.0                 0  \n",
       "97238                    2.0                 0  "
      ]
     },
     "execution_count": 5,
     "metadata": {},
     "output_type": "execute_result"
    }
   ],
   "source": [
    "X_train, X_test, y_train, y_test = read_data_from_csv(\"data/credit-data.csv\", 0, True, \"SeriousDlqin2yrs\", 0.33)\n",
    "data = X_train.join(y_train)\n",
    "\n",
    "data.head()"
   ]
  },
  {
   "cell_type": "markdown",
   "metadata": {},
   "source": [
    "----\n",
    "# Exploring data"
   ]
  },
  {
   "cell_type": "code",
   "execution_count": 6,
   "metadata": {
    "collapsed": false
   },
   "outputs": [
    {
     "name": "stdout",
     "output_type": "stream",
     "text": [
      "Dimension of train dataset: 100500 rows and 12 features.\n",
      "\n"
     ]
    },
    {
     "data": {
      "text/html": [
       "<div>\n",
       "<table border=\"1\" class=\"dataframe\">\n",
       "  <thead>\n",
       "    <tr style=\"text-align: right;\">\n",
       "      <th></th>\n",
       "      <th>RevolvingUtilizationOfUnsecuredLines</th>\n",
       "      <th>age</th>\n",
       "      <th>zipcode</th>\n",
       "      <th>NumberOfTime30-59DaysPastDueNotWorse</th>\n",
       "      <th>DebtRatio</th>\n",
       "      <th>MonthlyIncome</th>\n",
       "      <th>NumberOfOpenCreditLinesAndLoans</th>\n",
       "      <th>NumberOfTimes90DaysLate</th>\n",
       "      <th>NumberRealEstateLoansOrLines</th>\n",
       "      <th>NumberOfTime60-89DaysPastDueNotWorse</th>\n",
       "      <th>NumberOfDependents</th>\n",
       "      <th>SeriousDlqin2yrs</th>\n",
       "    </tr>\n",
       "  </thead>\n",
       "  <tbody>\n",
       "    <tr>\n",
       "      <th>count</th>\n",
       "      <td>100500.000000</td>\n",
       "      <td>100500.000000</td>\n",
       "      <td>100500.000000</td>\n",
       "      <td>100500.000000</td>\n",
       "      <td>100500.000000</td>\n",
       "      <td>8.064200e+04</td>\n",
       "      <td>100500.000000</td>\n",
       "      <td>100500.000000</td>\n",
       "      <td>100500.000000</td>\n",
       "      <td>100500.000000</td>\n",
       "      <td>97893.000000</td>\n",
       "      <td>100500.000000</td>\n",
       "    </tr>\n",
       "    <tr>\n",
       "      <th>mean</th>\n",
       "      <td>5.873236</td>\n",
       "      <td>52.275124</td>\n",
       "      <td>60648.878716</td>\n",
       "      <td>0.432647</td>\n",
       "      <td>349.225098</td>\n",
       "      <td>6.611038e+03</td>\n",
       "      <td>8.436090</td>\n",
       "      <td>0.276667</td>\n",
       "      <td>1.015483</td>\n",
       "      <td>0.251204</td>\n",
       "      <td>0.755835</td>\n",
       "      <td>0.067114</td>\n",
       "    </tr>\n",
       "    <tr>\n",
       "      <th>std</th>\n",
       "      <td>212.957588</td>\n",
       "      <td>14.776837</td>\n",
       "      <td>56.912065</td>\n",
       "      <td>4.312520</td>\n",
       "      <td>1751.712188</td>\n",
       "      <td>1.350790e+04</td>\n",
       "      <td>5.133093</td>\n",
       "      <td>4.289873</td>\n",
       "      <td>1.126723</td>\n",
       "      <td>4.276527</td>\n",
       "      <td>1.114708</td>\n",
       "      <td>0.250221</td>\n",
       "    </tr>\n",
       "    <tr>\n",
       "      <th>min</th>\n",
       "      <td>0.000000</td>\n",
       "      <td>0.000000</td>\n",
       "      <td>60601.000000</td>\n",
       "      <td>0.000000</td>\n",
       "      <td>0.000000</td>\n",
       "      <td>0.000000e+00</td>\n",
       "      <td>0.000000</td>\n",
       "      <td>0.000000</td>\n",
       "      <td>0.000000</td>\n",
       "      <td>0.000000</td>\n",
       "      <td>0.000000</td>\n",
       "      <td>0.000000</td>\n",
       "    </tr>\n",
       "    <tr>\n",
       "      <th>25%</th>\n",
       "      <td>0.030054</td>\n",
       "      <td>41.000000</td>\n",
       "      <td>60625.000000</td>\n",
       "      <td>0.000000</td>\n",
       "      <td>0.175152</td>\n",
       "      <td>3.397000e+03</td>\n",
       "      <td>5.000000</td>\n",
       "      <td>0.000000</td>\n",
       "      <td>0.000000</td>\n",
       "      <td>0.000000</td>\n",
       "      <td>0.000000</td>\n",
       "      <td>0.000000</td>\n",
       "    </tr>\n",
       "    <tr>\n",
       "      <th>50%</th>\n",
       "      <td>0.154900</td>\n",
       "      <td>52.000000</td>\n",
       "      <td>60629.000000</td>\n",
       "      <td>0.000000</td>\n",
       "      <td>0.366482</td>\n",
       "      <td>5.392000e+03</td>\n",
       "      <td>8.000000</td>\n",
       "      <td>0.000000</td>\n",
       "      <td>1.000000</td>\n",
       "      <td>0.000000</td>\n",
       "      <td>0.000000</td>\n",
       "      <td>0.000000</td>\n",
       "    </tr>\n",
       "    <tr>\n",
       "      <th>75%</th>\n",
       "      <td>0.558056</td>\n",
       "      <td>63.000000</td>\n",
       "      <td>60644.000000</td>\n",
       "      <td>0.000000</td>\n",
       "      <td>0.866354</td>\n",
       "      <td>8.237000e+03</td>\n",
       "      <td>11.000000</td>\n",
       "      <td>0.000000</td>\n",
       "      <td>2.000000</td>\n",
       "      <td>0.000000</td>\n",
       "      <td>1.000000</td>\n",
       "      <td>0.000000</td>\n",
       "    </tr>\n",
       "    <tr>\n",
       "      <th>max</th>\n",
       "      <td>29110.000000</td>\n",
       "      <td>109.000000</td>\n",
       "      <td>60804.000000</td>\n",
       "      <td>98.000000</td>\n",
       "      <td>326442.000000</td>\n",
       "      <td>3.008750e+06</td>\n",
       "      <td>57.000000</td>\n",
       "      <td>98.000000</td>\n",
       "      <td>32.000000</td>\n",
       "      <td>98.000000</td>\n",
       "      <td>20.000000</td>\n",
       "      <td>1.000000</td>\n",
       "    </tr>\n",
       "  </tbody>\n",
       "</table>\n",
       "</div>"
      ],
      "text/plain": [
       "       RevolvingUtilizationOfUnsecuredLines            age        zipcode  \\\n",
       "count                         100500.000000  100500.000000  100500.000000   \n",
       "mean                               5.873236      52.275124   60648.878716   \n",
       "std                              212.957588      14.776837      56.912065   \n",
       "min                                0.000000       0.000000   60601.000000   \n",
       "25%                                0.030054      41.000000   60625.000000   \n",
       "50%                                0.154900      52.000000   60629.000000   \n",
       "75%                                0.558056      63.000000   60644.000000   \n",
       "max                            29110.000000     109.000000   60804.000000   \n",
       "\n",
       "       NumberOfTime30-59DaysPastDueNotWorse      DebtRatio  MonthlyIncome  \\\n",
       "count                         100500.000000  100500.000000   8.064200e+04   \n",
       "mean                               0.432647     349.225098   6.611038e+03   \n",
       "std                                4.312520    1751.712188   1.350790e+04   \n",
       "min                                0.000000       0.000000   0.000000e+00   \n",
       "25%                                0.000000       0.175152   3.397000e+03   \n",
       "50%                                0.000000       0.366482   5.392000e+03   \n",
       "75%                                0.000000       0.866354   8.237000e+03   \n",
       "max                               98.000000  326442.000000   3.008750e+06   \n",
       "\n",
       "       NumberOfOpenCreditLinesAndLoans  NumberOfTimes90DaysLate  \\\n",
       "count                    100500.000000            100500.000000   \n",
       "mean                          8.436090                 0.276667   \n",
       "std                           5.133093                 4.289873   \n",
       "min                           0.000000                 0.000000   \n",
       "25%                           5.000000                 0.000000   \n",
       "50%                           8.000000                 0.000000   \n",
       "75%                          11.000000                 0.000000   \n",
       "max                          57.000000                98.000000   \n",
       "\n",
       "       NumberRealEstateLoansOrLines  NumberOfTime60-89DaysPastDueNotWorse  \\\n",
       "count                 100500.000000                         100500.000000   \n",
       "mean                       1.015483                              0.251204   \n",
       "std                        1.126723                              4.276527   \n",
       "min                        0.000000                              0.000000   \n",
       "25%                        0.000000                              0.000000   \n",
       "50%                        1.000000                              0.000000   \n",
       "75%                        2.000000                              0.000000   \n",
       "max                       32.000000                             98.000000   \n",
       "\n",
       "       NumberOfDependents  SeriousDlqin2yrs  \n",
       "count        97893.000000     100500.000000  \n",
       "mean             0.755835          0.067114  \n",
       "std              1.114708          0.250221  \n",
       "min              0.000000          0.000000  \n",
       "25%              0.000000          0.000000  \n",
       "50%              0.000000          0.000000  \n",
       "75%              1.000000          0.000000  \n",
       "max             20.000000          1.000000  "
      ]
     },
     "execution_count": 6,
     "metadata": {},
     "output_type": "execute_result"
    }
   ],
   "source": [
    "# General description of data.\n",
    "print(\"Dimension of train dataset: {} rows and {} features.\\n\".format(data.shape[0], data.shape[1]))\n",
    "data.describe()"
   ]
  },
  {
   "cell_type": "code",
   "execution_count": 7,
   "metadata": {
    "collapsed": false
   },
   "outputs": [
    {
     "data": {
      "text/plain": [
       "0    93755\n",
       "1     6745\n",
       "Name: SeriousDlqin2yrs, dtype: int64"
      ]
     },
     "execution_count": 7,
     "metadata": {},
     "output_type": "execute_result"
    },
    {
     "data": {
      "text/plain": [
       "0    0.932886\n",
       "1    0.067114\n",
       "Name: SeriousDlqin2yrs, dtype: float64"
      ]
     },
     "execution_count": 7,
     "metadata": {},
     "output_type": "execute_result"
    }
   ],
   "source": [
    "# What is the distribution of our target variable?\n",
    "data.SeriousDlqin2yrs.value_counts()\n",
    "data.SeriousDlqin2yrs.value_counts(normalize=True)"
   ]
  },
  {
   "cell_type": "markdown",
   "metadata": {},
   "source": [
    "We are trying to predict who experiences 90 days past due delinquency or worse. In our dataset, this only occurs in 6.6% of the cases."
   ]
  },
  {
   "cell_type": "code",
   "execution_count": 8,
   "metadata": {
    "collapsed": false
   },
   "outputs": [
    {
     "data": {
      "text/plain": [
       "60625    0.222657\n",
       "60601    0.111811\n",
       "60637    0.111562\n",
       "60804    0.111383\n",
       "60629    0.111274\n",
       "60618    0.111075\n",
       "60657    0.110289\n",
       "60644    0.109950\n",
       "Name: zipcode, dtype: float64"
      ]
     },
     "execution_count": 8,
     "metadata": {},
     "output_type": "execute_result"
    },
    {
     "data": {
      "image/png": "[encoded data removed]",
      "text/plain": [
       "<matplotlib.figure.Figure at 0x1143972b0>"
      ]
     },
     "metadata": {},
     "output_type": "display_data"
    }
   ],
   "source": [
    "# Are ZIP codes equally represented?\n",
    "data.zipcode.value_counts(normalize=True)\n",
    "_ = sns.countplot(y=\"zipcode\", data=data)"
   ]
  },
  {
   "cell_type": "markdown",
   "metadata": {},
   "source": [
    "We only have data from 8 zip codes. The data looks equally distributed across zip codes, except for 60625 being responsible for 22% of the entries."
   ]
  },
  {
   "cell_type": "code",
   "execution_count": 9,
   "metadata": {
    "collapsed": false
   },
   "outputs": [
    {
     "data": {
      "text/html": [
       "<div>\n",
       "<table border=\"1\" class=\"dataframe\">\n",
       "  <thead>\n",
       "    <tr style=\"text-align: right;\">\n",
       "      <th>SeriousDlqin2yrs</th>\n",
       "      <th>0</th>\n",
       "      <th>1</th>\n",
       "      <th>total</th>\n",
       "      <th>perc_of_SeriousDlqin2yrs</th>\n",
       "    </tr>\n",
       "    <tr>\n",
       "      <th>zipcode</th>\n",
       "      <th></th>\n",
       "      <th></th>\n",
       "      <th></th>\n",
       "      <th></th>\n",
       "    </tr>\n",
       "  </thead>\n",
       "  <tbody>\n",
       "    <tr>\n",
       "      <th>60601</th>\n",
       "      <td>10510</td>\n",
       "      <td>727</td>\n",
       "      <td>11237</td>\n",
       "      <td>0.064697</td>\n",
       "    </tr>\n",
       "    <tr>\n",
       "      <th>60618</th>\n",
       "      <td>10390</td>\n",
       "      <td>773</td>\n",
       "      <td>11163</td>\n",
       "      <td>0.069247</td>\n",
       "    </tr>\n",
       "    <tr>\n",
       "      <th>60625</th>\n",
       "      <td>20906</td>\n",
       "      <td>1471</td>\n",
       "      <td>22377</td>\n",
       "      <td>0.065737</td>\n",
       "    </tr>\n",
       "    <tr>\n",
       "      <th>60629</th>\n",
       "      <td>10460</td>\n",
       "      <td>723</td>\n",
       "      <td>11183</td>\n",
       "      <td>0.064652</td>\n",
       "    </tr>\n",
       "    <tr>\n",
       "      <th>60637</th>\n",
       "      <td>10434</td>\n",
       "      <td>778</td>\n",
       "      <td>11212</td>\n",
       "      <td>0.069390</td>\n",
       "    </tr>\n",
       "    <tr>\n",
       "      <th>60644</th>\n",
       "      <td>10317</td>\n",
       "      <td>733</td>\n",
       "      <td>11050</td>\n",
       "      <td>0.066335</td>\n",
       "    </tr>\n",
       "    <tr>\n",
       "      <th>60657</th>\n",
       "      <td>10327</td>\n",
       "      <td>757</td>\n",
       "      <td>11084</td>\n",
       "      <td>0.068297</td>\n",
       "    </tr>\n",
       "    <tr>\n",
       "      <th>60804</th>\n",
       "      <td>10411</td>\n",
       "      <td>783</td>\n",
       "      <td>11194</td>\n",
       "      <td>0.069948</td>\n",
       "    </tr>\n",
       "  </tbody>\n",
       "</table>\n",
       "</div>"
      ],
      "text/plain": [
       "SeriousDlqin2yrs      0     1  total  perc_of_SeriousDlqin2yrs\n",
       "zipcode                                                       \n",
       "60601             10510   727  11237                  0.064697\n",
       "60618             10390   773  11163                  0.069247\n",
       "60625             20906  1471  22377                  0.065737\n",
       "60629             10460   723  11183                  0.064652\n",
       "60637             10434   778  11212                  0.069390\n",
       "60644             10317   733  11050                  0.066335\n",
       "60657             10327   757  11084                  0.068297\n",
       "60804             10411   783  11194                  0.069948"
      ]
     },
     "execution_count": 9,
     "metadata": {},
     "output_type": "execute_result"
    }
   ],
   "source": [
    "# How is our target variable distributed by ZIP code?\n",
    "cross_table = pd.crosstab(data.zipcode, data.SeriousDlqin2yrs)\n",
    "cross_table[\"total\"] = cross_table[0] + cross_table[1]\n",
    "cross_table[\"perc_of_SeriousDlqin2yrs\"] = cross_table[1] / cross_table[\"total\"]\n",
    "cross_table"
   ]
  },
  {
   "cell_type": "markdown",
   "metadata": {},
   "source": [
    "While the ZIP code 60625 has the most entries in the dataset, the relative rate of individuals experiencing 90 days past due delinquency or worse is relatively stable across all ZIP codes."
   ]
  },
  {
   "cell_type": "code",
   "execution_count": 10,
   "metadata": {
    "collapsed": false
   },
   "outputs": [
    {
     "data": {
      "text/html": [
       "<div>\n",
       "<table border=\"1\" class=\"dataframe\">\n",
       "  <thead>\n",
       "    <tr style=\"text-align: right;\">\n",
       "      <th></th>\n",
       "      <th>RevolvingUtilizationOfUnsecuredLines</th>\n",
       "      <th>age</th>\n",
       "      <th>zipcode</th>\n",
       "      <th>NumberOfTime30-59DaysPastDueNotWorse</th>\n",
       "      <th>DebtRatio</th>\n",
       "      <th>MonthlyIncome</th>\n",
       "      <th>NumberOfOpenCreditLinesAndLoans</th>\n",
       "      <th>NumberOfTimes90DaysLate</th>\n",
       "      <th>NumberRealEstateLoansOrLines</th>\n",
       "      <th>NumberOfTime60-89DaysPastDueNotWorse</th>\n",
       "      <th>NumberOfDependents</th>\n",
       "    </tr>\n",
       "    <tr>\n",
       "      <th>SeriousDlqin2yrs</th>\n",
       "      <th></th>\n",
       "      <th></th>\n",
       "      <th></th>\n",
       "      <th></th>\n",
       "      <th></th>\n",
       "      <th></th>\n",
       "      <th></th>\n",
       "      <th></th>\n",
       "      <th></th>\n",
       "      <th></th>\n",
       "      <th></th>\n",
       "    </tr>\n",
       "  </thead>\n",
       "  <tbody>\n",
       "    <tr>\n",
       "      <th>0</th>\n",
       "      <td>5.956035</td>\n",
       "      <td>52.722884</td>\n",
       "      <td>60648.808160</td>\n",
       "      <td>0.284379</td>\n",
       "      <td>353.110461</td>\n",
       "      <td>6681.657882</td>\n",
       "      <td>8.473841</td>\n",
       "      <td>0.140856</td>\n",
       "      <td>1.017290</td>\n",
       "      <td>0.131086</td>\n",
       "      <td>0.742188</td>\n",
       "    </tr>\n",
       "    <tr>\n",
       "      <th>1</th>\n",
       "      <td>4.722325</td>\n",
       "      <td>46.051297</td>\n",
       "      <td>60649.859451</td>\n",
       "      <td>2.493551</td>\n",
       "      <td>295.218837</td>\n",
       "      <td>5668.507027</td>\n",
       "      <td>7.911342</td>\n",
       "      <td>2.164418</td>\n",
       "      <td>0.990363</td>\n",
       "      <td>1.920830</td>\n",
       "      <td>0.943732</td>\n",
       "    </tr>\n",
       "  </tbody>\n",
       "</table>\n",
       "</div>"
      ],
      "text/plain": [
       "                  RevolvingUtilizationOfUnsecuredLines        age  \\\n",
       "SeriousDlqin2yrs                                                    \n",
       "0                                             5.956035  52.722884   \n",
       "1                                             4.722325  46.051297   \n",
       "\n",
       "                       zipcode  NumberOfTime30-59DaysPastDueNotWorse  \\\n",
       "SeriousDlqin2yrs                                                       \n",
       "0                 60648.808160                              0.284379   \n",
       "1                 60649.859451                              2.493551   \n",
       "\n",
       "                   DebtRatio  MonthlyIncome  NumberOfOpenCreditLinesAndLoans  \\\n",
       "SeriousDlqin2yrs                                                               \n",
       "0                 353.110461    6681.657882                         8.473841   \n",
       "1                 295.218837    5668.507027                         7.911342   \n",
       "\n",
       "                  NumberOfTimes90DaysLate  NumberRealEstateLoansOrLines  \\\n",
       "SeriousDlqin2yrs                                                          \n",
       "0                                0.140856                      1.017290   \n",
       "1                                2.164418                      0.990363   \n",
       "\n",
       "                  NumberOfTime60-89DaysPastDueNotWorse  NumberOfDependents  \n",
       "SeriousDlqin2yrs                                                            \n",
       "0                                             0.131086            0.742188  \n",
       "1                                             1.920830            0.943732  "
      ]
     },
     "execution_count": 10,
     "metadata": {},
     "output_type": "execute_result"
    }
   ],
   "source": [
    "# What is the mean of a variable for target = 1 and target = 0?\n",
    "data.groupby(\"SeriousDlqin2yrs\").mean()"
   ]
  },
  {
   "cell_type": "markdown",
   "metadata": {},
   "source": [
    "On average, individuals experiencing 90 days past due delinquency or worse ...\n",
    "    - are younger (46.1 vs 52.75)\n",
    "    - have a lower income (5684 vs 6806)\n",
    "    - have a lower debt ratio (297 vs 352). However, these means are likely influenced by outliers or come from cases without monthly income/ with no reported income. Therefore, this comparison only holds if we assume that no income/no reported income shows same distribution across target variable.\n",
    "    - have a lower amount of open credit lines and loans (7.86 vs 8.5)\n",
    "    - have more dependents (0.96 vs 0.74)\n",
    "    - have been more often 30-59/60-89/90 days past due but no worse in the last 2 years."
   ]
  },
  {
   "cell_type": "code",
   "execution_count": 11,
   "metadata": {
    "collapsed": true
   },
   "outputs": [],
   "source": [
    "def plot_correlations(df, title):\n",
    "    \"\"\"\n",
    "    In:\n",
    "        - df: pandas dataframe\n",
    "        - title: title for plot\n",
    "    Out:\n",
    "        -\n",
    "    \"\"\"\n",
    "    ax = plt.axes();\n",
    "    corr = df.corr()\n",
    "    sns.heatmap(corr, xticklabels=corr.columns.values, yticklabels=corr.columns.values, ax=ax);\n",
    "    ax.set_title(title);"
   ]
  },
  {
   "cell_type": "code",
   "execution_count": 12,
   "metadata": {
    "collapsed": false
   },
   "outputs": [
    {
     "data": {
      "image/png": "[encoded data removed]",
      "text/plain": [
       "<matplotlib.figure.Figure at 0x10d8a9320>"
      ]
     },
     "metadata": {},
     "output_type": "display_data"
    }
   ],
   "source": [
    "# How are the variables correlated with each other?\n",
    "plot_correlations(data, 'Correlation matrix')"
   ]
  },
  {
   "cell_type": "markdown",
   "metadata": {
    "collapsed": true
   },
   "source": [
    "_Answer:_ \n",
    "\n",
    "There is a __moderate__ positive correlation between our target variable _SeriousDlqin2yrs_ and:\n",
    "    - NumberOfTime30-59DaysPastDueNotWorse\n",
    "    - NumberOfTime60-89DaysPastDueNotWorse\n",
    "    - NumberOfTime90DaysLate\n",
    "    \n",
    "There is a __small__ positive correlation between our target variable _SeriousDlqin2yrs_ and:\n",
    "    - NumberOfTime30-59DaysPastDueNotWorse\n",
    "    - NumberOfTime60-89DaysPastDueNotWorse\n",
    "    - NumberOfDependents\n",
    "   \n",
    "There is a __small__ negative correlation between our target variable _SeriousDlqin2yrs_ and:\n",
    "    - age"
   ]
  },
  {
   "cell_type": "markdown",
   "metadata": {},
   "source": [
    "----\n",
    "# Pre-Processing"
   ]
  },
  {
   "cell_type": "code",
   "execution_count": 13,
   "metadata": {
    "collapsed": false
   },
   "outputs": [
    {
     "data": {
      "text/html": [
       "<div>\n",
       "<table border=\"1\" class=\"dataframe\">\n",
       "  <thead>\n",
       "    <tr style=\"text-align: right;\">\n",
       "      <th></th>\n",
       "      <th>RevolvingUtilizationOfUnsecuredLines</th>\n",
       "      <th>age</th>\n",
       "      <th>zipcode</th>\n",
       "      <th>NumberOfTime30-59DaysPastDueNotWorse</th>\n",
       "      <th>DebtRatio</th>\n",
       "      <th>MonthlyIncome</th>\n",
       "      <th>NumberOfOpenCreditLinesAndLoans</th>\n",
       "      <th>NumberOfTimes90DaysLate</th>\n",
       "      <th>NumberRealEstateLoansOrLines</th>\n",
       "      <th>NumberOfTime60-89DaysPastDueNotWorse</th>\n",
       "      <th>NumberOfDependents</th>\n",
       "      <th>SeriousDlqin2yrs</th>\n",
       "    </tr>\n",
       "    <tr>\n",
       "      <th>PersonID</th>\n",
       "      <th></th>\n",
       "      <th></th>\n",
       "      <th></th>\n",
       "      <th></th>\n",
       "      <th></th>\n",
       "      <th></th>\n",
       "      <th></th>\n",
       "      <th></th>\n",
       "      <th></th>\n",
       "      <th></th>\n",
       "      <th></th>\n",
       "      <th></th>\n",
       "    </tr>\n",
       "  </thead>\n",
       "  <tbody>\n",
       "    <tr>\n",
       "      <th>133281</th>\n",
       "      <td>0.017636</td>\n",
       "      <td>70</td>\n",
       "      <td>60625</td>\n",
       "      <td>0</td>\n",
       "      <td>781.000000</td>\n",
       "      <td>0.0</td>\n",
       "      <td>14</td>\n",
       "      <td>0</td>\n",
       "      <td>1</td>\n",
       "      <td>0</td>\n",
       "      <td>0.0</td>\n",
       "      <td>0</td>\n",
       "    </tr>\n",
       "    <tr>\n",
       "      <th>128128</th>\n",
       "      <td>0.406792</td>\n",
       "      <td>36</td>\n",
       "      <td>60625</td>\n",
       "      <td>0</td>\n",
       "      <td>577.000000</td>\n",
       "      <td>NaN</td>\n",
       "      <td>6</td>\n",
       "      <td>0</td>\n",
       "      <td>0</td>\n",
       "      <td>0</td>\n",
       "      <td>0.0</td>\n",
       "      <td>0</td>\n",
       "    </tr>\n",
       "    <tr>\n",
       "      <th>61572</th>\n",
       "      <td>0.631340</td>\n",
       "      <td>31</td>\n",
       "      <td>60625</td>\n",
       "      <td>0</td>\n",
       "      <td>1750.000000</td>\n",
       "      <td>NaN</td>\n",
       "      <td>6</td>\n",
       "      <td>0</td>\n",
       "      <td>1</td>\n",
       "      <td>1</td>\n",
       "      <td>3.0</td>\n",
       "      <td>0</td>\n",
       "    </tr>\n",
       "    <tr>\n",
       "      <th>30541</th>\n",
       "      <td>0.195621</td>\n",
       "      <td>53</td>\n",
       "      <td>60625</td>\n",
       "      <td>0</td>\n",
       "      <td>0.453402</td>\n",
       "      <td>4688.0</td>\n",
       "      <td>7</td>\n",
       "      <td>0</td>\n",
       "      <td>1</td>\n",
       "      <td>0</td>\n",
       "      <td>0.0</td>\n",
       "      <td>0</td>\n",
       "    </tr>\n",
       "    <tr>\n",
       "      <th>97238</th>\n",
       "      <td>0.012580</td>\n",
       "      <td>56</td>\n",
       "      <td>60637</td>\n",
       "      <td>0</td>\n",
       "      <td>0.226848</td>\n",
       "      <td>19166.0</td>\n",
       "      <td>13</td>\n",
       "      <td>0</td>\n",
       "      <td>2</td>\n",
       "      <td>0</td>\n",
       "      <td>2.0</td>\n",
       "      <td>0</td>\n",
       "    </tr>\n",
       "  </tbody>\n",
       "</table>\n",
       "</div>"
      ],
      "text/plain": [
       "          RevolvingUtilizationOfUnsecuredLines  age  zipcode  \\\n",
       "PersonID                                                       \n",
       "133281                                0.017636   70    60625   \n",
       "128128                                0.406792   36    60625   \n",
       "61572                                 0.631340   31    60625   \n",
       "30541                                 0.195621   53    60625   \n",
       "97238                                 0.012580   56    60637   \n",
       "\n",
       "          NumberOfTime30-59DaysPastDueNotWorse    DebtRatio  MonthlyIncome  \\\n",
       "PersonID                                                                     \n",
       "133281                                       0   781.000000            0.0   \n",
       "128128                                       0   577.000000            NaN   \n",
       "61572                                        0  1750.000000            NaN   \n",
       "30541                                        0     0.453402         4688.0   \n",
       "97238                                        0     0.226848        19166.0   \n",
       "\n",
       "          NumberOfOpenCreditLinesAndLoans  NumberOfTimes90DaysLate  \\\n",
       "PersonID                                                             \n",
       "133281                                 14                        0   \n",
       "128128                                  6                        0   \n",
       "61572                                   6                        0   \n",
       "30541                                   7                        0   \n",
       "97238                                  13                        0   \n",
       "\n",
       "          NumberRealEstateLoansOrLines  NumberOfTime60-89DaysPastDueNotWorse  \\\n",
       "PersonID                                                                       \n",
       "133281                               1                                     0   \n",
       "128128                               0                                     0   \n",
       "61572                                1                                     1   \n",
       "30541                                1                                     0   \n",
       "97238                                2                                     0   \n",
       "\n",
       "          NumberOfDependents  SeriousDlqin2yrs  \n",
       "PersonID                                        \n",
       "133281                   0.0                 0  \n",
       "128128                   0.0                 0  \n",
       "61572                    3.0                 0  \n",
       "30541                    0.0                 0  \n",
       "97238                    2.0                 0  "
      ]
     },
     "execution_count": 13,
     "metadata": {},
     "output_type": "execute_result"
    }
   ],
   "source": [
    "data.head()"
   ]
  },
  {
   "cell_type": "code",
   "execution_count": 14,
   "metadata": {
    "collapsed": true
   },
   "outputs": [],
   "source": [
    "def keep_track_of_missing_values(df, missing_ind):\n",
    "    \"\"\"\n",
    "    Adds columns indicating if original columns had \n",
    "    missing values.\n",
    "    In:\n",
    "        - df: pandas df\n",
    "        - missing_ind: (str) indicates columns that keep track of\n",
    "            missing data\n",
    "    Out:\n",
    "        - df: function modifies df inplace\n",
    "        - list of newly created columns\n",
    "    \"\"\"\n",
    "    new_columns = []\n",
    "    \n",
    "    for column in df:\n",
    "        \n",
    "        if df[column].isnull().values.any():\n",
    "            new_col_name = column + missing_ind\n",
    "            new_col = np.zeros(len(df), dtype=np.int)\n",
    "            new_col[df[column].isnull()] = 1\n",
    "            df[new_col_name] = new_col\n",
    "            new_columns.append(new_col_name)\n",
    "    return new_columns"
   ]
  },
  {
   "cell_type": "code",
   "execution_count": 15,
   "metadata": {
    "collapsed": true
   },
   "outputs": [],
   "source": [
    " def fill_missing_values_with_mean(df, class_mean = False, key = None):\n",
    "    \"\"\"\n",
    "    Replaces missing values with mean of class.\n",
    "    In:\n",
    "        - df: pandas df\n",
    "        - class_mean: (bool) whether or not to use mean of class\n",
    "        - key: column for classes (opt)\n",
    "    Out:\n",
    "        - df\n",
    "    \"\"\"\n",
    "    if class_mean:\n",
    "        key_col = df[key]\n",
    "        df = df.groupby(key).transform(lambda x: x.fillna(x.mean()))\n",
    "        df[key] = key_col\n",
    "        return df\n",
    "    else:\n",
    "        return df.fillna(df.mean())"
   ]
  },
  {
   "cell_type": "code",
   "execution_count": 16,
   "metadata": {
    "collapsed": false
   },
   "outputs": [],
   "source": [
    "new_columns = keep_track_of_missing_values(data, \"_missing\")\n",
    "data = fill_missing_values_with_mean(data)"
   ]
  },
  {
   "cell_type": "code",
   "execution_count": 17,
   "metadata": {
    "collapsed": false
   },
   "outputs": [
    {
     "data": {
      "image/png": "[encoded data removed]",
      "text/plain": [
       "<matplotlib.figure.Figure at 0x1127e0860>"
      ]
     },
     "metadata": {},
     "output_type": "display_data"
    }
   ],
   "source": [
    "#Are the missing values correlated with our target?\n",
    "plot_correlations(data[new_columns + [\"SeriousDlqin2yrs\"]], 'Correlation matrix')"
   ]
  },
  {
   "cell_type": "markdown",
   "metadata": {},
   "source": [
    "There is no correlation between missing values and our target _SeriousDlqin2yrs_."
   ]
  },
  {
   "cell_type": "markdown",
   "metadata": {},
   "source": [
    "----\n",
    "# Building Features"
   ]
  },
  {
   "cell_type": "code",
   "execution_count": 18,
   "metadata": {
    "collapsed": true
   },
   "outputs": [],
   "source": [
    "def discretize_cont_var(df, cont_var, n, dummy_code, drop=False):\n",
    "    \"\"\"\n",
    "    Discretizes  continuous variable.\n",
    "    In:\n",
    "        - df: pandas dataframe\n",
    "        - cont_var: continues variable to be discretized\n",
    "        - n: number of percentiles\n",
    "        - dummy_code: (str) to append to dummy columns\n",
    "        - drop: (bool) to drop continous variable\n",
    "    Out:\n",
    "        - df\n",
    "    \"\"\"\n",
    "    step_size = 1/n\n",
    "    bucket_array = np.arange(0, 1+step_size, step_size)\n",
    "    \n",
    "    df[cont_var + dummy_code] = pd.qcut(data[cont_var], bucket_array)\n",
    "    df = pd.get_dummies(df, columns=[cont_var + dummy_code])\n",
    "    \n",
    "    if drop:\n",
    "        del df[cont_var]\n",
    "    \n",
    "    return df"
   ]
  },
  {
   "cell_type": "code",
   "execution_count": 19,
   "metadata": {
    "collapsed": true
   },
   "outputs": [],
   "source": [
    "def dummify_var(df, cat_vars, drop=False):\n",
    "    \"\"\"\n",
    "    Takes categorical variable and creates binary/dummy variables from it.\n",
    "    In:\n",
    "        - df: pandas dataframe\n",
    "        - cat_vars: list of categorical variables\n",
    "        - drop: (bool) whether or not to drop first dummy\n",
    "    Out:\n",
    "        - df: pandas dataframe\n",
    "    \"\"\"\n",
    "    return pd.get_dummies(df, columns=cat_vars, drop_first=drop)"
   ]
  },
  {
   "cell_type": "code",
   "execution_count": 20,
   "metadata": {
    "collapsed": false
   },
   "outputs": [],
   "source": [
    "# setting test's zipcode as category with attributes from train to ensure \n",
    "# same columns in train and test set.\n",
    "X_test[\"zipcode\"] = X_test[\"zipcode\"].astype('category', categories=X_train.zipcode.unique())\n",
    "\n",
    "# We will use this code to identify discretized dummy vars\n",
    "dummy_code = \"_XX_disc\"\n",
    "\n",
    "# modifying variables\n",
    "data = dummify_var(data, [\"zipcode\"])\n",
    "data = discretize_cont_var(data, \"age\", 10, dummy_code)"
   ]
  },
  {
   "cell_type": "markdown",
   "metadata": {},
   "source": [
    "----\n",
    "# Training Classifiers"
   ]
  },
  {
   "cell_type": "code",
   "execution_count": 22,
   "metadata": {
    "collapsed": false
   },
   "outputs": [],
   "source": [
    "#We will use the preprocessed data as training data\n",
    "X_train = data.drop([\"SeriousDlqin2yrs\"], axis=1)"
   ]
  },
  {
   "cell_type": "code",
   "execution_count": 23,
   "metadata": {
    "collapsed": false
   },
   "outputs": [
    {
     "data": {
      "text/plain": [
       "0    0.932886\n",
       "1    0.067114\n",
       "Name: SeriousDlqin2yrs, dtype: float64"
      ]
     },
     "execution_count": 23,
     "metadata": {},
     "output_type": "execute_result"
    },
    {
     "data": {
      "text/plain": [
       "0    0.933717\n",
       "1    0.066283\n",
       "Name: SeriousDlqin2yrs, dtype: float64"
      ]
     },
     "execution_count": 23,
     "metadata": {},
     "output_type": "execute_result"
    }
   ],
   "source": [
    "# Do we have similar % of target in train and test?\n",
    "y_train.value_counts(normalize=True)\n",
    "y_test.value_counts(normalize=True)"
   ]
  },
  {
   "cell_type": "code",
   "execution_count": 24,
   "metadata": {
    "collapsed": true
   },
   "outputs": [],
   "source": [
    "def in_bound_test(value, start, end):\n",
    "    \"\"\"\n",
    "    Helper function to recreate discretized dummy\n",
    "    vars in test set.\n",
    "    In:\n",
    "        - value:\n",
    "        - start:\n",
    "        - end:\n",
    "    Out:\n",
    "        - 1 if value in range; 0 o/w\n",
    "    \"\"\"\n",
    "    if value >= start and value <= end:\n",
    "        return 1\n",
    "    else:\n",
    "        return 0\n",
    "\n",
    "    \n",
    "def insert_discretize_quantiles(df, col_to_value_dict, drop_original=False):\n",
    "    \"\"\"\n",
    "    In:\n",
    "        - df: pandas dataframe\n",
    "        - col_to_value_dict: (dict) with columns (keys) to be\n",
    "            created in df as dummy vars according to values\n",
    "            {original_col: [(dummy_col, start, end),\n",
    "                            (dummy_col, start, end)]}\n",
    "        - drop_original: (bool) whether or not to drop original column\n",
    "                        that discrete dummies are generated from\n",
    "    Out:\n",
    "        - df\n",
    "    \"\"\"\n",
    "    for original_col in col_to_value_dict:\n",
    "        \n",
    "        list_of_dum_cols = col_to_value_dict[original_col]\n",
    "        \n",
    "        for list_of_dum_col in list_of_dum_cols:\n",
    "            dummy_col, start, end = list_of_dum_col\n",
    "            df[dummy_col] = df.apply(lambda row: in_bound_test(row[original_col], start, end), axis=1)\n",
    "        \n",
    "        if drop_original:\n",
    "            del df[original_col]\n",
    "    \n",
    "    return df"
   ]
  },
  {
   "cell_type": "code",
   "execution_count": 25,
   "metadata": {
    "collapsed": true
   },
   "outputs": [],
   "source": [
    "def build_col_to_value_dict(df, dummy_code):\n",
    "    \"\"\"\n",
    "    Function that builds dict with discretized columns\n",
    "    and their dummy columns with cut-off values.\n",
    "    In:\n",
    "        - df: pandas dataframe\n",
    "        - dummy_code: (str) to append to dummy columns\n",
    "    Out:\n",
    "        - dict\n",
    "    \"\"\"\n",
    "    col_to_value_dict = {}\n",
    "    \n",
    "    for col in df.columns:\n",
    "        if dummy_code in col:\n",
    "            \n",
    "            start_pos = col.find(dummy_code + \"_\")\n",
    "            original_col = (col[:start_pos])\n",
    "            if not original_col in col_to_value_dict:\n",
    "                col_to_value_dict[original_col] = []\n",
    "            \n",
    "            start_pos = col.find(dummy_code + \"_\")\n",
    "            cut_off_vals = col[start_pos + len(dummy_code + \"_\"):]\n",
    "            \n",
    "            start = cut_off_vals[1: cut_off_vals.find(\",\")]\n",
    "            if cut_off_vals[0] == \"[\":\n",
    "                start = int(start)\n",
    "            else:\n",
    "                start = int(start) + 1\n",
    "            \n",
    "            end = cut_off_vals[cut_off_vals.find(\",\") + 1:]\n",
    "            numbers = re.findall('[\\d\\.]+', end)\n",
    "            if numbers:\n",
    "                end = float(numbers[0])\n",
    "            else:\n",
    "                raise ValueError('Could not find number value for end in cut_off_vals.')\n",
    "            if cut_off_vals[:-1] == \")\":\n",
    "                end -= 1\n",
    "                \n",
    "            col_to_value_dict[original_col].append((col, start, end))\n",
    "    \n",
    "    return col_to_value_dict        "
   ]
  },
  {
   "cell_type": "code",
   "execution_count": 26,
   "metadata": {
    "collapsed": true
   },
   "outputs": [],
   "source": [
    "def create_missing_value_colum_in_testset(traindf, testdf, missing_ind):\n",
    "    \"\"\"\n",
    "    Creates same columns indicating missing values as we \n",
    "    have in training set.\n",
    "    In:\n",
    "        - traindf: pandas dataframe with training data\n",
    "        - testdf: pandas dataframe with test data\n",
    "        - missing_ind: (str) indicates columns that keep track of\n",
    "            missing data\n",
    "    Out:\n",
    "        - df\n",
    "    \"\"\"\n",
    "    for col in traindf.columns:\n",
    "        \n",
    "        if col[-len(missing_ind):] == missing_ind:\n",
    "            \n",
    "            original_col = col[:col.find(missing_ind)]\n",
    "            \n",
    "            new_col = np.zeros(len(testdf), dtype=np.int)\n",
    "            new_col[testdf[original_col].isnull()] = 1\n",
    "            testdf[col] = new_col"
   ]
  },
  {
   "cell_type": "code",
   "execution_count": 27,
   "metadata": {
    "collapsed": false
   },
   "outputs": [],
   "source": [
    "# ensuring that X_test has the same columns as X_train\n",
    "X_test = dummify_var(X_test, [\"zipcode\"])\n",
    "col_to_value_dict = build_col_to_value_dict(X_train, dummy_code)\n",
    "X_test = insert_discretize_quantiles(X_test, col_to_value_dict)\n",
    "\n",
    "#keeping track of missing values (but only in same columns as train data)\n",
    "create_missing_value_colum_in_testset(X_train, X_test, \"_missing\")\n",
    "\n",
    "#fill empty values\n",
    "X_test = fill_missing_values_with_mean(X_test)"
   ]
  },
  {
   "cell_type": "code",
   "execution_count": null,
   "metadata": {
    "collapsed": true
   },
   "outputs": [],
   "source": []
  }
 ],
 "metadata": {
  "anaconda-cloud": {},
  "kernelspec": {
   "display_name": "Python [Root]",
   "language": "python",
   "name": "Python [Root]"
  },
  "language_info": {
   "codemirror_mode": {
    "name": "ipython",
    "version": 3
   },
   "file_extension": ".py",
   "mimetype": "text/x-python",
   "name": "python",
   "nbconvert_exporter": "python",
   "pygments_lexer": "ipython3",
   "version": "3.5.2"
  }
 },
 "nbformat": 4,
 "nbformat_minor": 0
}
