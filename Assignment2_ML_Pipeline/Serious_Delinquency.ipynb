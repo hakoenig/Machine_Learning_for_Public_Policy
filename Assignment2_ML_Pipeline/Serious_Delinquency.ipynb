{
 "cells": [
  {
   "cell_type": "code",
   "execution_count": 1,
   "metadata": {
    "collapsed": false
   },
   "outputs": [],
   "source": [
    "import re\n",
    "import random\n",
    "import pydotplus\n",
    "from time import time\n",
    "import pandas as pd\n",
    "import seaborn as sns\n",
    "import numpy as np\n",
    "import matplotlib.pyplot as plt"
   ]
  },
  {
   "cell_type": "code",
   "execution_count": 2,
   "metadata": {
    "collapsed": true
   },
   "outputs": [],
   "source": [
    "# Import custom modules\n",
    "import exploration\n",
    "import preprocess\n",
    "from predictions import Zero_Predictor, Average_Predictor"
   ]
  },
  {
   "cell_type": "code",
   "execution_count": 3,
   "metadata": {
    "collapsed": true
   },
   "outputs": [],
   "source": [
    "#ML imports\n",
    "from sklearn.model_selection import train_test_split\n",
    "from sklearn.model_selection import GridSearchCV\n",
    "from sklearn.ensemble import RandomForestClassifier\n",
    "from sklearn import tree"
   ]
  },
  {
   "cell_type": "code",
   "execution_count": 4,
   "metadata": {
    "collapsed": true
   },
   "outputs": [],
   "source": [
    "#Notebook commands\n",
    "from IPython.display import Image  \n",
    "from IPython.core.interactiveshell import InteractiveShell\n",
    "InteractiveShell.ast_node_interactivity = \"all\"\n",
    "\n",
    "%matplotlib inline"
   ]
  },
  {
   "cell_type": "markdown",
   "metadata": {},
   "source": [
    "## Tasks:\n",
    "\n",
    "1. Read Data: For this assignment, assume input is CSV and write a function that can read a csv into python\n",
    "\n",
    "2. Explore Data: You can use the code you wrote for assignment 1 here to generate distributions and data summaries.\n",
    "\n",
    "3. Pre-Process Data: For this assignment, you can limit this to filling in missing values for the variables that have missing values. You can use any simple method to do it (use mean to fill in missing values).\n",
    "\n",
    "4. Generate Features/Predictors: For this assignment, you should write one function that can discretize a continuous variable and one function that can take a categorical variable and create binary/dummy variables from it. Apply them to at least one variable each in this data.\n",
    "\n",
    "5. Build Classifier: For this assignment, select any classifier you feel comfortable with (Logistic Regression for example)\n",
    "\n",
    "6. Evaluate Classifier: you can use any metric you choose for this assignment (accuracy is the easiest one). Feel free to evaluate it on the same data you built the model on (this is not a good idea in general but for this assignment, it is fine). We haven't covered models and evaluation yet, so don't worry about creating validation sets or cross-validation. "
   ]
  },
  {
   "cell_type": "code",
   "execution_count": 5,
   "metadata": {
    "collapsed": false
   },
   "outputs": [
    {
     "data": {
      "text/html": [
       "<div>\n",
       "<table border=\"1\" class=\"dataframe\">\n",
       "  <thead>\n",
       "    <tr style=\"text-align: right;\">\n",
       "      <th></th>\n",
       "      <th>RevolvingUtilizationOfUnsecuredLines</th>\n",
       "      <th>age</th>\n",
       "      <th>zipcode</th>\n",
       "      <th>NumberOfTime30-59DaysPastDueNotWorse</th>\n",
       "      <th>DebtRatio</th>\n",
       "      <th>MonthlyIncome</th>\n",
       "      <th>NumberOfOpenCreditLinesAndLoans</th>\n",
       "      <th>NumberOfTimes90DaysLate</th>\n",
       "      <th>NumberRealEstateLoansOrLines</th>\n",
       "      <th>NumberOfTime60-89DaysPastDueNotWorse</th>\n",
       "      <th>NumberOfDependents</th>\n",
       "      <th>SeriousDlqin2yrs</th>\n",
       "    </tr>\n",
       "    <tr>\n",
       "      <th>PersonID</th>\n",
       "      <th></th>\n",
       "      <th></th>\n",
       "      <th></th>\n",
       "      <th></th>\n",
       "      <th></th>\n",
       "      <th></th>\n",
       "      <th></th>\n",
       "      <th></th>\n",
       "      <th></th>\n",
       "      <th></th>\n",
       "      <th></th>\n",
       "      <th></th>\n",
       "    </tr>\n",
       "  </thead>\n",
       "  <tbody>\n",
       "    <tr>\n",
       "      <th>87936</th>\n",
       "      <td>0.000000</td>\n",
       "      <td>68</td>\n",
       "      <td>60804</td>\n",
       "      <td>0</td>\n",
       "      <td>798.000000</td>\n",
       "      <td>NaN</td>\n",
       "      <td>4</td>\n",
       "      <td>0</td>\n",
       "      <td>1</td>\n",
       "      <td>0</td>\n",
       "      <td>0.0</td>\n",
       "      <td>0</td>\n",
       "    </tr>\n",
       "    <tr>\n",
       "      <th>3893</th>\n",
       "      <td>1.000000</td>\n",
       "      <td>34</td>\n",
       "      <td>60644</td>\n",
       "      <td>0</td>\n",
       "      <td>0.058946</td>\n",
       "      <td>4325.0</td>\n",
       "      <td>2</td>\n",
       "      <td>0</td>\n",
       "      <td>0</td>\n",
       "      <td>0</td>\n",
       "      <td>0.0</td>\n",
       "      <td>0</td>\n",
       "    </tr>\n",
       "    <tr>\n",
       "      <th>41405</th>\n",
       "      <td>1.000666</td>\n",
       "      <td>39</td>\n",
       "      <td>60637</td>\n",
       "      <td>0</td>\n",
       "      <td>1911.000000</td>\n",
       "      <td>NaN</td>\n",
       "      <td>5</td>\n",
       "      <td>0</td>\n",
       "      <td>2</td>\n",
       "      <td>0</td>\n",
       "      <td>0.0</td>\n",
       "      <td>0</td>\n",
       "    </tr>\n",
       "    <tr>\n",
       "      <th>91125</th>\n",
       "      <td>0.653085</td>\n",
       "      <td>52</td>\n",
       "      <td>60629</td>\n",
       "      <td>0</td>\n",
       "      <td>0.203020</td>\n",
       "      <td>4900.0</td>\n",
       "      <td>10</td>\n",
       "      <td>0</td>\n",
       "      <td>0</td>\n",
       "      <td>0</td>\n",
       "      <td>2.0</td>\n",
       "      <td>0</td>\n",
       "    </tr>\n",
       "    <tr>\n",
       "      <th>67373</th>\n",
       "      <td>1.000000</td>\n",
       "      <td>54</td>\n",
       "      <td>60625</td>\n",
       "      <td>3</td>\n",
       "      <td>779.000000</td>\n",
       "      <td>NaN</td>\n",
       "      <td>5</td>\n",
       "      <td>2</td>\n",
       "      <td>1</td>\n",
       "      <td>2</td>\n",
       "      <td>NaN</td>\n",
       "      <td>1</td>\n",
       "    </tr>\n",
       "  </tbody>\n",
       "</table>\n",
       "</div>"
      ],
      "text/plain": [
       "          RevolvingUtilizationOfUnsecuredLines  age  zipcode  \\\n",
       "PersonID                                                       \n",
       "87936                                 0.000000   68    60804   \n",
       "3893                                  1.000000   34    60644   \n",
       "41405                                 1.000666   39    60637   \n",
       "91125                                 0.653085   52    60629   \n",
       "67373                                 1.000000   54    60625   \n",
       "\n",
       "          NumberOfTime30-59DaysPastDueNotWorse    DebtRatio  MonthlyIncome  \\\n",
       "PersonID                                                                     \n",
       "87936                                        0   798.000000            NaN   \n",
       "3893                                         0     0.058946         4325.0   \n",
       "41405                                        0  1911.000000            NaN   \n",
       "91125                                        0     0.203020         4900.0   \n",
       "67373                                        3   779.000000            NaN   \n",
       "\n",
       "          NumberOfOpenCreditLinesAndLoans  NumberOfTimes90DaysLate  \\\n",
       "PersonID                                                             \n",
       "87936                                   4                        0   \n",
       "3893                                    2                        0   \n",
       "41405                                   5                        0   \n",
       "91125                                  10                        0   \n",
       "67373                                   5                        2   \n",
       "\n",
       "          NumberRealEstateLoansOrLines  NumberOfTime60-89DaysPastDueNotWorse  \\\n",
       "PersonID                                                                       \n",
       "87936                                1                                     0   \n",
       "3893                                 0                                     0   \n",
       "41405                                2                                     0   \n",
       "91125                                0                                     0   \n",
       "67373                                1                                     2   \n",
       "\n",
       "          NumberOfDependents  SeriousDlqin2yrs  \n",
       "PersonID                                        \n",
       "87936                    0.0                 0  \n",
       "3893                     0.0                 0  \n",
       "41405                    0.0                 0  \n",
       "91125                    2.0                 0  \n",
       "67373                    NaN                 1  "
      ]
     },
     "execution_count": 5,
     "metadata": {},
     "output_type": "execute_result"
    }
   ],
   "source": [
    "X_train, X_test, y_train, y_test = exploration.read_data_from_csv(\"data/credit-data.csv\", 0, \n",
    "                                                                  True, \"SeriousDlqin2yrs\", 0.33)\n",
    "data = X_train.join(y_train)\n",
    "data.head()"
   ]
  },
  {
   "cell_type": "markdown",
   "metadata": {},
   "source": [
    "----\n",
    "# Exploring data"
   ]
  },
  {
   "cell_type": "code",
   "execution_count": 6,
   "metadata": {
    "collapsed": false
   },
   "outputs": [
    {
     "name": "stdout",
     "output_type": "stream",
     "text": [
      "Dimension of train dataset: 100500 rows and 12 features.\n",
      "\n"
     ]
    },
    {
     "data": {
      "text/html": [
       "<div>\n",
       "<table border=\"1\" class=\"dataframe\">\n",
       "  <thead>\n",
       "    <tr style=\"text-align: right;\">\n",
       "      <th></th>\n",
       "      <th>RevolvingUtilizationOfUnsecuredLines</th>\n",
       "      <th>age</th>\n",
       "      <th>zipcode</th>\n",
       "      <th>NumberOfTime30-59DaysPastDueNotWorse</th>\n",
       "      <th>DebtRatio</th>\n",
       "      <th>MonthlyIncome</th>\n",
       "      <th>NumberOfOpenCreditLinesAndLoans</th>\n",
       "      <th>NumberOfTimes90DaysLate</th>\n",
       "      <th>NumberRealEstateLoansOrLines</th>\n",
       "      <th>NumberOfTime60-89DaysPastDueNotWorse</th>\n",
       "      <th>NumberOfDependents</th>\n",
       "      <th>SeriousDlqin2yrs</th>\n",
       "    </tr>\n",
       "  </thead>\n",
       "  <tbody>\n",
       "    <tr>\n",
       "      <th>count</th>\n",
       "      <td>100500.000000</td>\n",
       "      <td>100500.000000</td>\n",
       "      <td>100500.000000</td>\n",
       "      <td>100500.000000</td>\n",
       "      <td>100500.000000</td>\n",
       "      <td>8.066300e+04</td>\n",
       "      <td>100500.000000</td>\n",
       "      <td>100500.000000</td>\n",
       "      <td>100500.000000</td>\n",
       "      <td>100500.000000</td>\n",
       "      <td>97874.000000</td>\n",
       "      <td>100500.000000</td>\n",
       "    </tr>\n",
       "    <tr>\n",
       "      <th>mean</th>\n",
       "      <td>5.459191</td>\n",
       "      <td>52.281841</td>\n",
       "      <td>60648.638239</td>\n",
       "      <td>0.435910</td>\n",
       "      <td>349.759787</td>\n",
       "      <td>6.637161e+03</td>\n",
       "      <td>8.457473</td>\n",
       "      <td>0.279174</td>\n",
       "      <td>1.018478</td>\n",
       "      <td>0.252667</td>\n",
       "      <td>0.759109</td>\n",
       "      <td>0.067393</td>\n",
       "    </tr>\n",
       "    <tr>\n",
       "      <th>std</th>\n",
       "      <td>210.022307</td>\n",
       "      <td>14.780930</td>\n",
       "      <td>56.640170</td>\n",
       "      <td>4.335404</td>\n",
       "      <td>1782.139436</td>\n",
       "      <td>1.193133e+04</td>\n",
       "      <td>5.141521</td>\n",
       "      <td>4.313026</td>\n",
       "      <td>1.120661</td>\n",
       "      <td>4.298975</td>\n",
       "      <td>1.118766</td>\n",
       "      <td>0.250703</td>\n",
       "    </tr>\n",
       "    <tr>\n",
       "      <th>min</th>\n",
       "      <td>0.000000</td>\n",
       "      <td>21.000000</td>\n",
       "      <td>60601.000000</td>\n",
       "      <td>0.000000</td>\n",
       "      <td>0.000000</td>\n",
       "      <td>0.000000e+00</td>\n",
       "      <td>0.000000</td>\n",
       "      <td>0.000000</td>\n",
       "      <td>0.000000</td>\n",
       "      <td>0.000000</td>\n",
       "      <td>0.000000</td>\n",
       "      <td>0.000000</td>\n",
       "    </tr>\n",
       "    <tr>\n",
       "      <th>25%</th>\n",
       "      <td>0.029980</td>\n",
       "      <td>41.000000</td>\n",
       "      <td>60625.000000</td>\n",
       "      <td>0.000000</td>\n",
       "      <td>0.175145</td>\n",
       "      <td>3.400000e+03</td>\n",
       "      <td>5.000000</td>\n",
       "      <td>0.000000</td>\n",
       "      <td>0.000000</td>\n",
       "      <td>0.000000</td>\n",
       "      <td>0.000000</td>\n",
       "      <td>0.000000</td>\n",
       "    </tr>\n",
       "    <tr>\n",
       "      <th>50%</th>\n",
       "      <td>0.155435</td>\n",
       "      <td>52.000000</td>\n",
       "      <td>60629.000000</td>\n",
       "      <td>0.000000</td>\n",
       "      <td>0.366655</td>\n",
       "      <td>5.400000e+03</td>\n",
       "      <td>8.000000</td>\n",
       "      <td>0.000000</td>\n",
       "      <td>1.000000</td>\n",
       "      <td>0.000000</td>\n",
       "      <td>0.000000</td>\n",
       "      <td>0.000000</td>\n",
       "    </tr>\n",
       "    <tr>\n",
       "      <th>75%</th>\n",
       "      <td>0.560897</td>\n",
       "      <td>63.000000</td>\n",
       "      <td>60644.000000</td>\n",
       "      <td>0.000000</td>\n",
       "      <td>0.868521</td>\n",
       "      <td>8.249000e+03</td>\n",
       "      <td>11.000000</td>\n",
       "      <td>0.000000</td>\n",
       "      <td>2.000000</td>\n",
       "      <td>0.000000</td>\n",
       "      <td>1.000000</td>\n",
       "      <td>0.000000</td>\n",
       "    </tr>\n",
       "    <tr>\n",
       "      <th>max</th>\n",
       "      <td>29110.000000</td>\n",
       "      <td>109.000000</td>\n",
       "      <td>60804.000000</td>\n",
       "      <td>98.000000</td>\n",
       "      <td>307001.000000</td>\n",
       "      <td>1.794060e+06</td>\n",
       "      <td>57.000000</td>\n",
       "      <td>98.000000</td>\n",
       "      <td>32.000000</td>\n",
       "      <td>98.000000</td>\n",
       "      <td>13.000000</td>\n",
       "      <td>1.000000</td>\n",
       "    </tr>\n",
       "  </tbody>\n",
       "</table>\n",
       "</div>"
      ],
      "text/plain": [
       "       RevolvingUtilizationOfUnsecuredLines            age        zipcode  \\\n",
       "count                         100500.000000  100500.000000  100500.000000   \n",
       "mean                               5.459191      52.281841   60648.638239   \n",
       "std                              210.022307      14.780930      56.640170   \n",
       "min                                0.000000      21.000000   60601.000000   \n",
       "25%                                0.029980      41.000000   60625.000000   \n",
       "50%                                0.155435      52.000000   60629.000000   \n",
       "75%                                0.560897      63.000000   60644.000000   \n",
       "max                            29110.000000     109.000000   60804.000000   \n",
       "\n",
       "       NumberOfTime30-59DaysPastDueNotWorse      DebtRatio  MonthlyIncome  \\\n",
       "count                         100500.000000  100500.000000   8.066300e+04   \n",
       "mean                               0.435910     349.759787   6.637161e+03   \n",
       "std                                4.335404    1782.139436   1.193133e+04   \n",
       "min                                0.000000       0.000000   0.000000e+00   \n",
       "25%                                0.000000       0.175145   3.400000e+03   \n",
       "50%                                0.000000       0.366655   5.400000e+03   \n",
       "75%                                0.000000       0.868521   8.249000e+03   \n",
       "max                               98.000000  307001.000000   1.794060e+06   \n",
       "\n",
       "       NumberOfOpenCreditLinesAndLoans  NumberOfTimes90DaysLate  \\\n",
       "count                    100500.000000            100500.000000   \n",
       "mean                          8.457473                 0.279174   \n",
       "std                           5.141521                 4.313026   \n",
       "min                           0.000000                 0.000000   \n",
       "25%                           5.000000                 0.000000   \n",
       "50%                           8.000000                 0.000000   \n",
       "75%                          11.000000                 0.000000   \n",
       "max                          57.000000                98.000000   \n",
       "\n",
       "       NumberRealEstateLoansOrLines  NumberOfTime60-89DaysPastDueNotWorse  \\\n",
       "count                 100500.000000                         100500.000000   \n",
       "mean                       1.018478                              0.252667   \n",
       "std                        1.120661                              4.298975   \n",
       "min                        0.000000                              0.000000   \n",
       "25%                        0.000000                              0.000000   \n",
       "50%                        1.000000                              0.000000   \n",
       "75%                        2.000000                              0.000000   \n",
       "max                       32.000000                             98.000000   \n",
       "\n",
       "       NumberOfDependents  SeriousDlqin2yrs  \n",
       "count        97874.000000     100500.000000  \n",
       "mean             0.759109          0.067393  \n",
       "std              1.118766          0.250703  \n",
       "min              0.000000          0.000000  \n",
       "25%              0.000000          0.000000  \n",
       "50%              0.000000          0.000000  \n",
       "75%              1.000000          0.000000  \n",
       "max             13.000000          1.000000  "
      ]
     },
     "execution_count": 6,
     "metadata": {},
     "output_type": "execute_result"
    }
   ],
   "source": [
    "# General description of data.\n",
    "print(\"Dimension of train dataset: {} rows and {} features.\\n\".format(data.shape[0], data.shape[1]))\n",
    "data.describe()"
   ]
  },
  {
   "cell_type": "code",
   "execution_count": 7,
   "metadata": {
    "collapsed": false
   },
   "outputs": [
    {
     "data": {
      "text/plain": [
       "0    93727\n",
       "1     6773\n",
       "Name: SeriousDlqin2yrs, dtype: int64"
      ]
     },
     "execution_count": 7,
     "metadata": {},
     "output_type": "execute_result"
    },
    {
     "data": {
      "text/plain": [
       "0    0.932607\n",
       "1    0.067393\n",
       "Name: SeriousDlqin2yrs, dtype: float64"
      ]
     },
     "execution_count": 7,
     "metadata": {},
     "output_type": "execute_result"
    }
   ],
   "source": [
    "# What is the distribution of our target variable?\n",
    "data.SeriousDlqin2yrs.value_counts()\n",
    "data.SeriousDlqin2yrs.value_counts(normalize=True)"
   ]
  },
  {
   "cell_type": "markdown",
   "metadata": {},
   "source": [
    "We are trying to predict who experiences 90 days past due delinquency or worse. In our dataset, this only occurs in 6.6% of the cases."
   ]
  },
  {
   "cell_type": "code",
   "execution_count": 8,
   "metadata": {
    "collapsed": false
   },
   "outputs": [
    {
     "data": {
      "text/plain": [
       "60625    0.223662\n",
       "60618    0.112209\n",
       "60629    0.111731\n",
       "60637    0.111711\n",
       "60601    0.111055\n",
       "60644    0.110100\n",
       "60804    0.110100\n",
       "60657    0.109433\n",
       "Name: zipcode, dtype: float64"
      ]
     },
     "execution_count": 8,
     "metadata": {},
     "output_type": "execute_result"
    },
    {
     "data": {
      "image/png": "[encoded data removed]",
      "text/plain": [
       "<matplotlib.figure.Figure at 0x112923780>"
      ]
     },
     "metadata": {},
     "output_type": "display_data"
    }
   ],
   "source": [
    "# Are ZIP codes equally represented?\n",
    "data.zipcode.value_counts(normalize=True)\n",
    "_ = sns.countplot(y=\"zipcode\", data=data)"
   ]
  },
  {
   "cell_type": "markdown",
   "metadata": {},
   "source": [
    "We only have data from 8 zip codes. The data looks equally distributed across zip codes, except for 60625 being responsible for 22% of the entries."
   ]
  },
  {
   "cell_type": "code",
   "execution_count": 9,
   "metadata": {
    "collapsed": false
   },
   "outputs": [
    {
     "data": {
      "text/html": [
       "<div>\n",
       "<table border=\"1\" class=\"dataframe\">\n",
       "  <thead>\n",
       "    <tr style=\"text-align: right;\">\n",
       "      <th>SeriousDlqin2yrs</th>\n",
       "      <th>0</th>\n",
       "      <th>1</th>\n",
       "      <th>total</th>\n",
       "      <th>perc_of_SeriousDlqin2yrs</th>\n",
       "    </tr>\n",
       "    <tr>\n",
       "      <th>zipcode</th>\n",
       "      <th></th>\n",
       "      <th></th>\n",
       "      <th></th>\n",
       "      <th></th>\n",
       "    </tr>\n",
       "  </thead>\n",
       "  <tbody>\n",
       "    <tr>\n",
       "      <th>60601</th>\n",
       "      <td>10424</td>\n",
       "      <td>737</td>\n",
       "      <td>11161</td>\n",
       "      <td>0.066034</td>\n",
       "    </tr>\n",
       "    <tr>\n",
       "      <th>60618</th>\n",
       "      <td>10530</td>\n",
       "      <td>747</td>\n",
       "      <td>11277</td>\n",
       "      <td>0.066241</td>\n",
       "    </tr>\n",
       "    <tr>\n",
       "      <th>60625</th>\n",
       "      <td>20969</td>\n",
       "      <td>1509</td>\n",
       "      <td>22478</td>\n",
       "      <td>0.067132</td>\n",
       "    </tr>\n",
       "    <tr>\n",
       "      <th>60629</th>\n",
       "      <td>10502</td>\n",
       "      <td>727</td>\n",
       "      <td>11229</td>\n",
       "      <td>0.064743</td>\n",
       "    </tr>\n",
       "    <tr>\n",
       "      <th>60637</th>\n",
       "      <td>10469</td>\n",
       "      <td>758</td>\n",
       "      <td>11227</td>\n",
       "      <td>0.067516</td>\n",
       "    </tr>\n",
       "    <tr>\n",
       "      <th>60644</th>\n",
       "      <td>10294</td>\n",
       "      <td>771</td>\n",
       "      <td>11065</td>\n",
       "      <td>0.069679</td>\n",
       "    </tr>\n",
       "    <tr>\n",
       "      <th>60657</th>\n",
       "      <td>10250</td>\n",
       "      <td>748</td>\n",
       "      <td>10998</td>\n",
       "      <td>0.068012</td>\n",
       "    </tr>\n",
       "    <tr>\n",
       "      <th>60804</th>\n",
       "      <td>10289</td>\n",
       "      <td>776</td>\n",
       "      <td>11065</td>\n",
       "      <td>0.070131</td>\n",
       "    </tr>\n",
       "  </tbody>\n",
       "</table>\n",
       "</div>"
      ],
      "text/plain": [
       "SeriousDlqin2yrs      0     1  total  perc_of_SeriousDlqin2yrs\n",
       "zipcode                                                       \n",
       "60601             10424   737  11161                  0.066034\n",
       "60618             10530   747  11277                  0.066241\n",
       "60625             20969  1509  22478                  0.067132\n",
       "60629             10502   727  11229                  0.064743\n",
       "60637             10469   758  11227                  0.067516\n",
       "60644             10294   771  11065                  0.069679\n",
       "60657             10250   748  10998                  0.068012\n",
       "60804             10289   776  11065                  0.070131"
      ]
     },
     "execution_count": 9,
     "metadata": {},
     "output_type": "execute_result"
    }
   ],
   "source": [
    "# How is our target variable distributed by ZIP code?\n",
    "cross_table = pd.crosstab(data.zipcode, data.SeriousDlqin2yrs)\n",
    "cross_table[\"total\"] = cross_table[0] + cross_table[1]\n",
    "cross_table[\"perc_of_SeriousDlqin2yrs\"] = cross_table[1] / cross_table[\"total\"]\n",
    "cross_table"
   ]
  },
  {
   "cell_type": "markdown",
   "metadata": {},
   "source": [
    "While the ZIP code 60625 has the most entries in the dataset, the relative rate of individuals experiencing 90 days past due delinquency or worse is relatively stable across all ZIP codes."
   ]
  },
  {
   "cell_type": "code",
   "execution_count": 10,
   "metadata": {
    "collapsed": false
   },
   "outputs": [
    {
     "data": {
      "text/html": [
       "<div>\n",
       "<table border=\"1\" class=\"dataframe\">\n",
       "  <thead>\n",
       "    <tr style=\"text-align: right;\">\n",
       "      <th></th>\n",
       "      <th>RevolvingUtilizationOfUnsecuredLines</th>\n",
       "      <th>age</th>\n",
       "      <th>zipcode</th>\n",
       "      <th>NumberOfTime30-59DaysPastDueNotWorse</th>\n",
       "      <th>DebtRatio</th>\n",
       "      <th>MonthlyIncome</th>\n",
       "      <th>NumberOfOpenCreditLinesAndLoans</th>\n",
       "      <th>NumberOfTimes90DaysLate</th>\n",
       "      <th>NumberRealEstateLoansOrLines</th>\n",
       "      <th>NumberOfTime60-89DaysPastDueNotWorse</th>\n",
       "      <th>NumberOfDependents</th>\n",
       "    </tr>\n",
       "    <tr>\n",
       "      <th>SeriousDlqin2yrs</th>\n",
       "      <th></th>\n",
       "      <th></th>\n",
       "      <th></th>\n",
       "      <th></th>\n",
       "      <th></th>\n",
       "      <th></th>\n",
       "      <th></th>\n",
       "      <th></th>\n",
       "      <th></th>\n",
       "      <th></th>\n",
       "      <th></th>\n",
       "    </tr>\n",
       "  </thead>\n",
       "  <tbody>\n",
       "    <tr>\n",
       "      <th>0</th>\n",
       "      <td>5.574359</td>\n",
       "      <td>52.747415</td>\n",
       "      <td>60648.569164</td>\n",
       "      <td>0.284262</td>\n",
       "      <td>353.424513</td>\n",
       "      <td>6716.737005</td>\n",
       "      <td>8.497786</td>\n",
       "      <td>0.136684</td>\n",
       "      <td>1.020656</td>\n",
       "      <td>0.128159</td>\n",
       "      <td>0.746169</td>\n",
       "    </tr>\n",
       "    <tr>\n",
       "      <th>1</th>\n",
       "      <td>3.865456</td>\n",
       "      <td>45.839067</td>\n",
       "      <td>60649.594124</td>\n",
       "      <td>2.534475</td>\n",
       "      <td>299.046113</td>\n",
       "      <td>5581.459851</td>\n",
       "      <td>7.899601</td>\n",
       "      <td>2.250997</td>\n",
       "      <td>0.988336</td>\n",
       "      <td>1.975639</td>\n",
       "      <td>0.936673</td>\n",
       "    </tr>\n",
       "  </tbody>\n",
       "</table>\n",
       "</div>"
      ],
      "text/plain": [
       "                  RevolvingUtilizationOfUnsecuredLines        age  \\\n",
       "SeriousDlqin2yrs                                                    \n",
       "0                                             5.574359  52.747415   \n",
       "1                                             3.865456  45.839067   \n",
       "\n",
       "                       zipcode  NumberOfTime30-59DaysPastDueNotWorse  \\\n",
       "SeriousDlqin2yrs                                                       \n",
       "0                 60648.569164                              0.284262   \n",
       "1                 60649.594124                              2.534475   \n",
       "\n",
       "                   DebtRatio  MonthlyIncome  NumberOfOpenCreditLinesAndLoans  \\\n",
       "SeriousDlqin2yrs                                                               \n",
       "0                 353.424513    6716.737005                         8.497786   \n",
       "1                 299.046113    5581.459851                         7.899601   \n",
       "\n",
       "                  NumberOfTimes90DaysLate  NumberRealEstateLoansOrLines  \\\n",
       "SeriousDlqin2yrs                                                          \n",
       "0                                0.136684                      1.020656   \n",
       "1                                2.250997                      0.988336   \n",
       "\n",
       "                  NumberOfTime60-89DaysPastDueNotWorse  NumberOfDependents  \n",
       "SeriousDlqin2yrs                                                            \n",
       "0                                             0.128159            0.746169  \n",
       "1                                             1.975639            0.936673  "
      ]
     },
     "execution_count": 10,
     "metadata": {},
     "output_type": "execute_result"
    }
   ],
   "source": [
    "# What is the mean of a variable for target = 1 and target = 0?\n",
    "data.groupby(\"SeriousDlqin2yrs\").mean()"
   ]
  },
  {
   "cell_type": "markdown",
   "metadata": {},
   "source": [
    "On average, individuals experiencing 90 days past due delinquency or worse ...\n",
    "    - are younger (45.8 vs 52.75)\n",
    "    - have a lower income (5581 vs 6716)\n",
    "    - have a lower debt ratio (299 vs 353). However, these means are likely influenced by outliers or come from cases without monthly income/ with no reported income. Therefore, this comparison only holds if we assume that no income/no reported income shows same distribution across target variable.\n",
    "    - have a lower amount of open credit lines and loans (7.89 vs 8.5)\n",
    "    - have more dependents (0.94 vs 0.75)\n",
    "    - have been more often 30-59/60-89/90 days past due but no worse in the last 2 years."
   ]
  },
  {
   "cell_type": "code",
   "execution_count": 11,
   "metadata": {
    "collapsed": false
   },
   "outputs": [
    {
     "data": {
      "image/png": "[encoded data removed]",
      "text/plain": [
       "<matplotlib.figure.Figure at 0x10e38f6a0>"
      ]
     },
     "metadata": {},
     "output_type": "display_data"
    }
   ],
   "source": [
    "# How are the variables correlated with each other?\n",
    "exploration.plot_correlations(data, 'Correlation matrix')"
   ]
  },
  {
   "cell_type": "markdown",
   "metadata": {
    "collapsed": true
   },
   "source": [
    "_Answer:_ \n",
    "\n",
    "There is a __moderate__ positive correlation between our target variable _SeriousDlqin2yrs_ and:\n",
    "    - NumberOfTime30-59DaysPastDueNotWorse\n",
    "    - NumberOfTime60-89DaysPastDueNotWorse\n",
    "    - NumberOfTime90DaysLate\n",
    "    \n",
    "There is a __small__ positive correlation between our target variable _SeriousDlqin2yrs_ and:\n",
    "    - NumberOfDependents\n",
    "   \n",
    "There is a __small__ negative correlation between our target variable _SeriousDlqin2yrs_ and:\n",
    "    - age"
   ]
  },
  {
   "cell_type": "markdown",
   "metadata": {},
   "source": [
    "----\n",
    "# Pre-Processing"
   ]
  },
  {
   "cell_type": "code",
   "execution_count": 12,
   "metadata": {
    "collapsed": false
   },
   "outputs": [
    {
     "data": {
      "text/html": [
       "<div>\n",
       "<table border=\"1\" class=\"dataframe\">\n",
       "  <thead>\n",
       "    <tr style=\"text-align: right;\">\n",
       "      <th></th>\n",
       "      <th>RevolvingUtilizationOfUnsecuredLines</th>\n",
       "      <th>age</th>\n",
       "      <th>zipcode</th>\n",
       "      <th>NumberOfTime30-59DaysPastDueNotWorse</th>\n",
       "      <th>DebtRatio</th>\n",
       "      <th>MonthlyIncome</th>\n",
       "      <th>NumberOfOpenCreditLinesAndLoans</th>\n",
       "      <th>NumberOfTimes90DaysLate</th>\n",
       "      <th>NumberRealEstateLoansOrLines</th>\n",
       "      <th>NumberOfTime60-89DaysPastDueNotWorse</th>\n",
       "      <th>NumberOfDependents</th>\n",
       "      <th>SeriousDlqin2yrs</th>\n",
       "    </tr>\n",
       "    <tr>\n",
       "      <th>PersonID</th>\n",
       "      <th></th>\n",
       "      <th></th>\n",
       "      <th></th>\n",
       "      <th></th>\n",
       "      <th></th>\n",
       "      <th></th>\n",
       "      <th></th>\n",
       "      <th></th>\n",
       "      <th></th>\n",
       "      <th></th>\n",
       "      <th></th>\n",
       "      <th></th>\n",
       "    </tr>\n",
       "  </thead>\n",
       "  <tbody>\n",
       "    <tr>\n",
       "      <th>87936</th>\n",
       "      <td>0.000000</td>\n",
       "      <td>68</td>\n",
       "      <td>60804</td>\n",
       "      <td>0</td>\n",
       "      <td>798.000000</td>\n",
       "      <td>NaN</td>\n",
       "      <td>4</td>\n",
       "      <td>0</td>\n",
       "      <td>1</td>\n",
       "      <td>0</td>\n",
       "      <td>0.0</td>\n",
       "      <td>0</td>\n",
       "    </tr>\n",
       "    <tr>\n",
       "      <th>3893</th>\n",
       "      <td>1.000000</td>\n",
       "      <td>34</td>\n",
       "      <td>60644</td>\n",
       "      <td>0</td>\n",
       "      <td>0.058946</td>\n",
       "      <td>4325.0</td>\n",
       "      <td>2</td>\n",
       "      <td>0</td>\n",
       "      <td>0</td>\n",
       "      <td>0</td>\n",
       "      <td>0.0</td>\n",
       "      <td>0</td>\n",
       "    </tr>\n",
       "    <tr>\n",
       "      <th>41405</th>\n",
       "      <td>1.000666</td>\n",
       "      <td>39</td>\n",
       "      <td>60637</td>\n",
       "      <td>0</td>\n",
       "      <td>1911.000000</td>\n",
       "      <td>NaN</td>\n",
       "      <td>5</td>\n",
       "      <td>0</td>\n",
       "      <td>2</td>\n",
       "      <td>0</td>\n",
       "      <td>0.0</td>\n",
       "      <td>0</td>\n",
       "    </tr>\n",
       "    <tr>\n",
       "      <th>91125</th>\n",
       "      <td>0.653085</td>\n",
       "      <td>52</td>\n",
       "      <td>60629</td>\n",
       "      <td>0</td>\n",
       "      <td>0.203020</td>\n",
       "      <td>4900.0</td>\n",
       "      <td>10</td>\n",
       "      <td>0</td>\n",
       "      <td>0</td>\n",
       "      <td>0</td>\n",
       "      <td>2.0</td>\n",
       "      <td>0</td>\n",
       "    </tr>\n",
       "    <tr>\n",
       "      <th>67373</th>\n",
       "      <td>1.000000</td>\n",
       "      <td>54</td>\n",
       "      <td>60625</td>\n",
       "      <td>3</td>\n",
       "      <td>779.000000</td>\n",
       "      <td>NaN</td>\n",
       "      <td>5</td>\n",
       "      <td>2</td>\n",
       "      <td>1</td>\n",
       "      <td>2</td>\n",
       "      <td>NaN</td>\n",
       "      <td>1</td>\n",
       "    </tr>\n",
       "  </tbody>\n",
       "</table>\n",
       "</div>"
      ],
      "text/plain": [
       "          RevolvingUtilizationOfUnsecuredLines  age  zipcode  \\\n",
       "PersonID                                                       \n",
       "87936                                 0.000000   68    60804   \n",
       "3893                                  1.000000   34    60644   \n",
       "41405                                 1.000666   39    60637   \n",
       "91125                                 0.653085   52    60629   \n",
       "67373                                 1.000000   54    60625   \n",
       "\n",
       "          NumberOfTime30-59DaysPastDueNotWorse    DebtRatio  MonthlyIncome  \\\n",
       "PersonID                                                                     \n",
       "87936                                        0   798.000000            NaN   \n",
       "3893                                         0     0.058946         4325.0   \n",
       "41405                                        0  1911.000000            NaN   \n",
       "91125                                        0     0.203020         4900.0   \n",
       "67373                                        3   779.000000            NaN   \n",
       "\n",
       "          NumberOfOpenCreditLinesAndLoans  NumberOfTimes90DaysLate  \\\n",
       "PersonID                                                             \n",
       "87936                                   4                        0   \n",
       "3893                                    2                        0   \n",
       "41405                                   5                        0   \n",
       "91125                                  10                        0   \n",
       "67373                                   5                        2   \n",
       "\n",
       "          NumberRealEstateLoansOrLines  NumberOfTime60-89DaysPastDueNotWorse  \\\n",
       "PersonID                                                                       \n",
       "87936                                1                                     0   \n",
       "3893                                 0                                     0   \n",
       "41405                                2                                     0   \n",
       "91125                                0                                     0   \n",
       "67373                                1                                     2   \n",
       "\n",
       "          NumberOfDependents  SeriousDlqin2yrs  \n",
       "PersonID                                        \n",
       "87936                    0.0                 0  \n",
       "3893                     0.0                 0  \n",
       "41405                    0.0                 0  \n",
       "91125                    2.0                 0  \n",
       "67373                    NaN                 1  "
      ]
     },
     "execution_count": 12,
     "metadata": {},
     "output_type": "execute_result"
    }
   ],
   "source": [
    "data.head()"
   ]
  },
  {
   "cell_type": "code",
   "execution_count": 13,
   "metadata": {
    "collapsed": false
   },
   "outputs": [
    {
     "data": {
      "image/png": "[encoded data removed]",
      "text/plain": [
       "<matplotlib.figure.Figure at 0x1126c5c18>"
      ]
     },
     "metadata": {},
     "output_type": "display_data"
    }
   ],
   "source": [
    "new_columns = preprocess.keep_track_of_missing_values(data, \"_missing\")\n",
    "data = preprocess.fill_missing_values_with_mean(data)\n",
    "\n",
    "#Are the missing values correlated with our target?\n",
    "exploration.plot_correlations(data[new_columns + [\"SeriousDlqin2yrs\"]], 'Correlation matrix')"
   ]
  },
  {
   "cell_type": "markdown",
   "metadata": {},
   "source": [
    "There is no correlation between missing values and our target _SeriousDlqin2yrs_."
   ]
  },
  {
   "cell_type": "markdown",
   "metadata": {},
   "source": [
    "----\n",
    "# Building Features"
   ]
  },
  {
   "cell_type": "code",
   "execution_count": 14,
   "metadata": {
    "collapsed": false
   },
   "outputs": [],
   "source": [
    "# setting test's zipcode as category with attributes from train to ensure \n",
    "# same columns in train and test set.\n",
    "X_test[\"zipcode\"] = X_test[\"zipcode\"].astype('category', categories=X_train.zipcode.unique())\n",
    "\n",
    "# We will use this code to identify discretized dummy vars\n",
    "dummy_code = \"_XX_disc\"\n",
    "\n",
    "# modifying variables\n",
    "data = preprocess.dummify_var(data, [\"zipcode\"])\n",
    "data = preprocess.discretize_cont_var(data, \"age\", 10, dummy_code)"
   ]
  },
  {
   "cell_type": "markdown",
   "metadata": {},
   "source": [
    "----\n",
    "# Preprocessing Test Set"
   ]
  },
  {
   "cell_type": "code",
   "execution_count": 15,
   "metadata": {
    "collapsed": true
   },
   "outputs": [],
   "source": [
    "#We will use the preprocessed data as training data\n",
    "X_train = data.drop([\"SeriousDlqin2yrs\"], axis=1)"
   ]
  },
  {
   "cell_type": "code",
   "execution_count": 16,
   "metadata": {
    "collapsed": false
   },
   "outputs": [
    {
     "data": {
      "text/plain": [
       "0    0.932607\n",
       "1    0.067393\n",
       "Name: SeriousDlqin2yrs, dtype: float64"
      ]
     },
     "execution_count": 16,
     "metadata": {},
     "output_type": "execute_result"
    },
    {
     "data": {
      "text/plain": [
       "0    0.934283\n",
       "1    0.065717\n",
       "Name: SeriousDlqin2yrs, dtype: float64"
      ]
     },
     "execution_count": 16,
     "metadata": {},
     "output_type": "execute_result"
    }
   ],
   "source": [
    "# Do we have similar % of target in train and test?\n",
    "y_train.value_counts(normalize=True)\n",
    "y_test.value_counts(normalize=True)"
   ]
  },
  {
   "cell_type": "code",
   "execution_count": 17,
   "metadata": {
    "collapsed": false
   },
   "outputs": [],
   "source": [
    "# ensuring that X_test has the same columns as X_train\n",
    "X_test = preprocess.dummify_var(X_test, [\"zipcode\"])\n",
    "col_to_value_dict = preprocess.build_col_to_value_dict(X_train, dummy_code)\n",
    "X_test = preprocess.insert_discretize_quantiles(X_test, col_to_value_dict)\n",
    "\n",
    "#keeping track of missing values (but only in same columns as train data)\n",
    "preprocess.create_missing_value_colum_in_testset(X_train, X_test, \"_missing\")\n",
    "\n",
    "#fill empty values\n",
    "X_test = preprocess.fill_missing_values_with_mean(X_test)"
   ]
  },
  {
   "cell_type": "markdown",
   "metadata": {},
   "source": [
    "----\n",
    "# Training Classifier"
   ]
  },
  {
   "cell_type": "code",
   "execution_count": null,
   "metadata": {
    "collapsed": true
   },
   "outputs": [],
   "source": [
    "# Source:\n",
    "# http://scikit-learn.org/stable/auto_examples/model_selection/randomized_search.html#sphx-glr-auto-examples-model-selection-randomized-search-py\n",
    "def report(results, n_top=3):\n",
    "    for i in range(1, n_top + 1):\n",
    "        candidates = np.flatnonzero(results['rank_test_score'] == i)\n",
    "        for candidate in candidates:\n",
    "            print(\"Model with rank: {0}\".format(i))\n",
    "            print(\"Mean validation score: {0:.3f} (std: {1:.3f})\".format(\n",
    "                  results['mean_test_score'][candidate],\n",
    "                  results['std_test_score'][candidate]))\n",
    "            print(\"Parameters: {0}\".format(results['params'][candidate]))\n",
    "            print(\"\")"
   ]
  },
  {
   "cell_type": "code",
   "execution_count": null,
   "metadata": {
    "collapsed": false
   },
   "outputs": [],
   "source": [
    "clf = RandomForestClassifier(n_estimators=40, n_jobs=-1)\n",
    "\n",
    "# use a full grid over all parameters\n",
    "param_grid = {\"max_features\": np.arange(0.1, 1, 0.1),\n",
    "              \"min_samples_leaf\": [1, 3, 10]}\n",
    "\n",
    "# run grid search; default k cross validation is 3\n",
    "grid_search = GridSearchCV(clf, param_grid=param_grid)\n",
    "\n",
    "start = time()\n",
    "grid_search.fit(X_train, y_train)\n",
    "\n",
    "print(\"GridSearchCV took %.2f seconds for %d candidate parameter settings.\"\n",
    "      % (time() - start, len(grid_search.cv_results_['params'])))"
   ]
  },
  {
   "cell_type": "code",
   "execution_count": null,
   "metadata": {
    "collapsed": false
   },
   "outputs": [],
   "source": [
    "report(grid_search.cv_results_)"
   ]
  },
  {
   "cell_type": "code",
   "execution_count": null,
   "metadata": {
    "collapsed": false
   },
   "outputs": [],
   "source": [
    "# Let's take a look at our differences.\n",
    "predictions = grid_search.predict(X_train)\n",
    "errors = np.absolute(predictions - np.asarray(y_train))\n",
    "\n",
    "prediction_comp = pd.DataFrame({'prediction': predictions, \n",
    "                                'true_y': y_train,\n",
    "                                'errors': errors})\n",
    "prediction_comp[prediction_comp.errors == 1][[\"prediction\", \"true_y\"]]"
   ]
  },
  {
   "cell_type": "code",
   "execution_count": null,
   "metadata": {
    "collapsed": false
   },
   "outputs": [],
   "source": [
    "# Can we better understand our errors?\n",
    "dec_tree = tree.DecisionTreeClassifier()\n",
    "fitted_tree = dec_tree.fit(X_train, prediction_comp.errors)\n",
    "\n",
    "#Source: http://scikit-learn.org/stable/modules/tree.html\n",
    "dot_data = tree.export_graphviz(fitted_tree, out_file=None, \n",
    "                         feature_names=X_train.columns,  \n",
    "                         filled=True, rounded=True,  \n",
    "                         special_characters=True)  \n",
    "graph = pydotplus.graph_from_dot_data(dot_data)  \n",
    "Image(graph.create_png())"
   ]
  },
  {
   "cell_type": "code",
   "execution_count": null,
   "metadata": {
    "collapsed": true
   },
   "outputs": [],
   "source": [
    "#How well do we do on the test set?\n",
    "grid_search.score(X_test, y_test)"
   ]
  },
  {
   "cell_type": "code",
   "execution_count": null,
   "metadata": {
    "collapsed": false
   },
   "outputs": [],
   "source": [
    "# It is unlikely that an individual is delinquent. \n",
    "# How well can we predict if we randomly predict \n",
    "# according to mean of training data?\n",
    "\n",
    "AvgPred = Average_Predictor()\n",
    "AvgPred.fit(y_train)\n",
    "AvgPred.score(X_train, y_train)"
   ]
  },
  {
   "cell_type": "code",
   "execution_count": null,
   "metadata": {
    "collapsed": true
   },
   "outputs": [],
   "source": [
    "# It is unlikely that an individual is delinquent. \n",
    "# How well can we predict if we always predict non-delinquent?\n",
    "\n",
    "ZeroPred = Zero_Predictor()\n",
    "ZeroPred.score(X_train, y_train)"
   ]
  }
 ],
 "metadata": {
  "anaconda-cloud": {},
  "kernelspec": {
   "display_name": "Python [Root]",
   "language": "python",
   "name": "Python [Root]"
  },
  "language_info": {
   "codemirror_mode": {
    "name": "ipython",
    "version": 3
   },
   "file_extension": ".py",
   "mimetype": "text/x-python",
   "name": "python",
   "nbconvert_exporter": "python",
   "pygments_lexer": "ipython3",
   "version": "3.5.2"
  }
 },
 "nbformat": 4,
 "nbformat_minor": 0
}
