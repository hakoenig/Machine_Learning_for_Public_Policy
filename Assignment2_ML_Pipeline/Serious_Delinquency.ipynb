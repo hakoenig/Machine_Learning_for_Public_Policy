{
 "cells": [
  {
   "cell_type": "code",
   "execution_count": 1,
   "metadata": {
    "collapsed": false
   },
   "outputs": [],
   "source": [
    "#TO-DO:\n",
    "#- how can i ensure that the new features are also present in the test set?\n",
    "    #build col dict function needs to be continued\n",
    "# - do not fill with mean of class; but with mean of test set.\n",
    "# move functions out of notebook into py files\n",
    "\n",
    "import pandas as pd\n",
    "import seaborn as sns\n",
    "import numpy as np\n",
    "import matplotlib.pyplot as plt"
   ]
  },
  {
   "cell_type": "code",
   "execution_count": 2,
   "metadata": {
    "collapsed": true
   },
   "outputs": [],
   "source": [
    "#ML imports\n",
    "from sklearn.pipeline import Pipeline\n",
    "from sklearn.model_selection import train_test_split"
   ]
  },
  {
   "cell_type": "code",
   "execution_count": 3,
   "metadata": {
    "collapsed": true
   },
   "outputs": [],
   "source": [
    "#Notebook commands\n",
    "from IPython.core.interactiveshell import InteractiveShell\n",
    "InteractiveShell.ast_node_interactivity = \"all\"\n",
    "\n",
    "%matplotlib inline"
   ]
  },
  {
   "cell_type": "markdown",
   "metadata": {},
   "source": [
    "## Tasks:\n",
    "\n",
    "1. Read Data: For this assignment, assume input is CSV and write a function that can read a csv into python\n",
    "\n",
    "2. Explore Data: You can use the code you wrote for assignment 1 here to generate distributions and data summaries.\n",
    "\n",
    "3. Pre-Process Data: For this assignment, you can limit this to filling in missing values for the variables that have missing values. You can use any simple method to do it (use mean to fill in missing values).\n",
    "\n",
    "4. Generate Features/Predictors: For this assignment, you should write one function that can discretize a continuous variable and one function that can take a categorical variable and create binary/dummy variables from it. Apply them to at least one variable each in this data.\n",
    "\n",
    "5. Build Classifier: For this assignment, select any classifier you feel comfortable with (Logistic Regression for example)\n",
    "\n",
    "6. Evaluate Classifier: you can use any metric you choose for this assignment (accuracy is the easiest one). Feel free to evaluate it on the same data you built the model on (this is not a good idea in general but for this assignment, it is fine). We haven't covered models and evaluation yet, so don't worry about creating validation sets or cross-validation. "
   ]
  },
  {
   "cell_type": "code",
   "execution_count": 4,
   "metadata": {
    "collapsed": false
   },
   "outputs": [],
   "source": [
    "def read_data_from_csv(file_path, index_col=None, split=False, target=None, test_size=None):\n",
    "    \"\"\"\n",
    "    Loads data from csv file.\n",
    "    In:\n",
    "        - file_path: path to csv file\n",
    "        - split: (bool) split data into train & test?\n",
    "        - target: column name of target\n",
    "        - test_size: % of test data\n",
    "    Out:\n",
    "        - data: pandas Dataframe\n",
    "    \"\"\"\n",
    "    data = pd.read_csv(\"data/credit-data.csv\", index_col=index_col)\n",
    "    \n",
    "    if split:\n",
    "        X_train, X_test, y_train, y_test = train_test_split(data.drop([target], axis=1), \n",
    "                                                            data[target], test_size=test_size)\n",
    "        return X_train, X_test, y_train, y_test\n",
    "    return data"
   ]
  },
  {
   "cell_type": "code",
   "execution_count": 5,
   "metadata": {
    "collapsed": false
   },
   "outputs": [
    {
     "data": {
      "text/html": [
       "<div>\n",
       "<table border=\"1\" class=\"dataframe\">\n",
       "  <thead>\n",
       "    <tr style=\"text-align: right;\">\n",
       "      <th></th>\n",
       "      <th>RevolvingUtilizationOfUnsecuredLines</th>\n",
       "      <th>age</th>\n",
       "      <th>zipcode</th>\n",
       "      <th>NumberOfTime30-59DaysPastDueNotWorse</th>\n",
       "      <th>DebtRatio</th>\n",
       "      <th>MonthlyIncome</th>\n",
       "      <th>NumberOfOpenCreditLinesAndLoans</th>\n",
       "      <th>NumberOfTimes90DaysLate</th>\n",
       "      <th>NumberRealEstateLoansOrLines</th>\n",
       "      <th>NumberOfTime60-89DaysPastDueNotWorse</th>\n",
       "      <th>NumberOfDependents</th>\n",
       "      <th>SeriousDlqin2yrs</th>\n",
       "    </tr>\n",
       "    <tr>\n",
       "      <th>PersonID</th>\n",
       "      <th></th>\n",
       "      <th></th>\n",
       "      <th></th>\n",
       "      <th></th>\n",
       "      <th></th>\n",
       "      <th></th>\n",
       "      <th></th>\n",
       "      <th></th>\n",
       "      <th></th>\n",
       "      <th></th>\n",
       "      <th></th>\n",
       "      <th></th>\n",
       "    </tr>\n",
       "  </thead>\n",
       "  <tbody>\n",
       "    <tr>\n",
       "      <th>11960</th>\n",
       "      <td>0.625861</td>\n",
       "      <td>65</td>\n",
       "      <td>60804</td>\n",
       "      <td>0</td>\n",
       "      <td>0.756712</td>\n",
       "      <td>5400.0</td>\n",
       "      <td>19</td>\n",
       "      <td>0</td>\n",
       "      <td>1</td>\n",
       "      <td>0</td>\n",
       "      <td>0.0</td>\n",
       "      <td>0</td>\n",
       "    </tr>\n",
       "    <tr>\n",
       "      <th>33250</th>\n",
       "      <td>0.008983</td>\n",
       "      <td>41</td>\n",
       "      <td>60644</td>\n",
       "      <td>0</td>\n",
       "      <td>2.058941</td>\n",
       "      <td>1000.0</td>\n",
       "      <td>8</td>\n",
       "      <td>0</td>\n",
       "      <td>2</td>\n",
       "      <td>0</td>\n",
       "      <td>2.0</td>\n",
       "      <td>0</td>\n",
       "    </tr>\n",
       "    <tr>\n",
       "      <th>133409</th>\n",
       "      <td>0.274545</td>\n",
       "      <td>59</td>\n",
       "      <td>60601</td>\n",
       "      <td>0</td>\n",
       "      <td>0.027315</td>\n",
       "      <td>1500.0</td>\n",
       "      <td>1</td>\n",
       "      <td>0</td>\n",
       "      <td>0</td>\n",
       "      <td>0</td>\n",
       "      <td>2.0</td>\n",
       "      <td>0</td>\n",
       "    </tr>\n",
       "    <tr>\n",
       "      <th>125950</th>\n",
       "      <td>0.000596</td>\n",
       "      <td>56</td>\n",
       "      <td>60601</td>\n",
       "      <td>0</td>\n",
       "      <td>0.382741</td>\n",
       "      <td>7960.0</td>\n",
       "      <td>17</td>\n",
       "      <td>0</td>\n",
       "      <td>1</td>\n",
       "      <td>0</td>\n",
       "      <td>0.0</td>\n",
       "      <td>0</td>\n",
       "    </tr>\n",
       "    <tr>\n",
       "      <th>15506</th>\n",
       "      <td>0.810678</td>\n",
       "      <td>33</td>\n",
       "      <td>60625</td>\n",
       "      <td>0</td>\n",
       "      <td>0.464360</td>\n",
       "      <td>6242.0</td>\n",
       "      <td>8</td>\n",
       "      <td>0</td>\n",
       "      <td>0</td>\n",
       "      <td>1</td>\n",
       "      <td>0.0</td>\n",
       "      <td>0</td>\n",
       "    </tr>\n",
       "  </tbody>\n",
       "</table>\n",
       "</div>"
      ],
      "text/plain": [
       "          RevolvingUtilizationOfUnsecuredLines  age  zipcode  \\\n",
       "PersonID                                                       \n",
       "11960                                 0.625861   65    60804   \n",
       "33250                                 0.008983   41    60644   \n",
       "133409                                0.274545   59    60601   \n",
       "125950                                0.000596   56    60601   \n",
       "15506                                 0.810678   33    60625   \n",
       "\n",
       "          NumberOfTime30-59DaysPastDueNotWorse  DebtRatio  MonthlyIncome  \\\n",
       "PersonID                                                                   \n",
       "11960                                        0   0.756712         5400.0   \n",
       "33250                                        0   2.058941         1000.0   \n",
       "133409                                       0   0.027315         1500.0   \n",
       "125950                                       0   0.382741         7960.0   \n",
       "15506                                        0   0.464360         6242.0   \n",
       "\n",
       "          NumberOfOpenCreditLinesAndLoans  NumberOfTimes90DaysLate  \\\n",
       "PersonID                                                             \n",
       "11960                                  19                        0   \n",
       "33250                                   8                        0   \n",
       "133409                                  1                        0   \n",
       "125950                                 17                        0   \n",
       "15506                                   8                        0   \n",
       "\n",
       "          NumberRealEstateLoansOrLines  NumberOfTime60-89DaysPastDueNotWorse  \\\n",
       "PersonID                                                                       \n",
       "11960                                1                                     0   \n",
       "33250                                2                                     0   \n",
       "133409                               0                                     0   \n",
       "125950                               1                                     0   \n",
       "15506                                0                                     1   \n",
       "\n",
       "          NumberOfDependents  SeriousDlqin2yrs  \n",
       "PersonID                                        \n",
       "11960                    0.0                 0  \n",
       "33250                    2.0                 0  \n",
       "133409                   2.0                 0  \n",
       "125950                   0.0                 0  \n",
       "15506                    0.0                 0  "
      ]
     },
     "execution_count": 5,
     "metadata": {},
     "output_type": "execute_result"
    }
   ],
   "source": [
    "X_train, X_test, y_train, y_test = read_data_from_csv(\"data/credit-data.csv\", 0, True, \"SeriousDlqin2yrs\", 0.33)\n",
    "data = X_train.join(y_train)\n",
    "\n",
    "data.head()"
   ]
  },
  {
   "cell_type": "markdown",
   "metadata": {},
   "source": [
    "----\n",
    "# Exploring data"
   ]
  },
  {
   "cell_type": "code",
   "execution_count": 6,
   "metadata": {
    "collapsed": false
   },
   "outputs": [
    {
     "name": "stdout",
     "output_type": "stream",
     "text": [
      "Dimension of train dataset: 100500 rows and 12 features.\n",
      "\n"
     ]
    },
    {
     "data": {
      "text/html": [
       "<div>\n",
       "<table border=\"1\" class=\"dataframe\">\n",
       "  <thead>\n",
       "    <tr style=\"text-align: right;\">\n",
       "      <th></th>\n",
       "      <th>RevolvingUtilizationOfUnsecuredLines</th>\n",
       "      <th>age</th>\n",
       "      <th>zipcode</th>\n",
       "      <th>NumberOfTime30-59DaysPastDueNotWorse</th>\n",
       "      <th>DebtRatio</th>\n",
       "      <th>MonthlyIncome</th>\n",
       "      <th>NumberOfOpenCreditLinesAndLoans</th>\n",
       "      <th>NumberOfTimes90DaysLate</th>\n",
       "      <th>NumberRealEstateLoansOrLines</th>\n",
       "      <th>NumberOfTime60-89DaysPastDueNotWorse</th>\n",
       "      <th>NumberOfDependents</th>\n",
       "      <th>SeriousDlqin2yrs</th>\n",
       "    </tr>\n",
       "  </thead>\n",
       "  <tbody>\n",
       "    <tr>\n",
       "      <th>count</th>\n",
       "      <td>100500.000000</td>\n",
       "      <td>100500.000000</td>\n",
       "      <td>100500.000000</td>\n",
       "      <td>100500.000000</td>\n",
       "      <td>100500.000000</td>\n",
       "      <td>8.063200e+04</td>\n",
       "      <td>100500.000000</td>\n",
       "      <td>100500.000000</td>\n",
       "      <td>100500.000000</td>\n",
       "      <td>100500.000000</td>\n",
       "      <td>97893.000000</td>\n",
       "      <td>100500.000000</td>\n",
       "    </tr>\n",
       "    <tr>\n",
       "      <th>mean</th>\n",
       "      <td>5.298102</td>\n",
       "      <td>52.323602</td>\n",
       "      <td>60648.962289</td>\n",
       "      <td>0.419264</td>\n",
       "      <td>355.183973</td>\n",
       "      <td>6.698908e+03</td>\n",
       "      <td>8.465493</td>\n",
       "      <td>0.264617</td>\n",
       "      <td>1.018109</td>\n",
       "      <td>0.238975</td>\n",
       "      <td>0.757633</td>\n",
       "      <td>0.066985</td>\n",
       "    </tr>\n",
       "    <tr>\n",
       "      <th>std</th>\n",
       "      <td>186.340091</td>\n",
       "      <td>14.774346</td>\n",
       "      <td>56.950400</td>\n",
       "      <td>4.168705</td>\n",
       "      <td>2233.214145</td>\n",
       "      <td>1.637218e+04</td>\n",
       "      <td>5.157266</td>\n",
       "      <td>4.145030</td>\n",
       "      <td>1.134139</td>\n",
       "      <td>4.130554</td>\n",
       "      <td>1.113945</td>\n",
       "      <td>0.249997</td>\n",
       "    </tr>\n",
       "    <tr>\n",
       "      <th>min</th>\n",
       "      <td>0.000000</td>\n",
       "      <td>21.000000</td>\n",
       "      <td>60601.000000</td>\n",
       "      <td>0.000000</td>\n",
       "      <td>0.000000</td>\n",
       "      <td>0.000000e+00</td>\n",
       "      <td>0.000000</td>\n",
       "      <td>0.000000</td>\n",
       "      <td>0.000000</td>\n",
       "      <td>0.000000</td>\n",
       "      <td>0.000000</td>\n",
       "      <td>0.000000</td>\n",
       "    </tr>\n",
       "    <tr>\n",
       "      <th>25%</th>\n",
       "      <td>0.029892</td>\n",
       "      <td>41.000000</td>\n",
       "      <td>60625.000000</td>\n",
       "      <td>0.000000</td>\n",
       "      <td>0.175091</td>\n",
       "      <td>3.400000e+03</td>\n",
       "      <td>5.000000</td>\n",
       "      <td>0.000000</td>\n",
       "      <td>0.000000</td>\n",
       "      <td>0.000000</td>\n",
       "      <td>0.000000</td>\n",
       "      <td>0.000000</td>\n",
       "    </tr>\n",
       "    <tr>\n",
       "      <th>50%</th>\n",
       "      <td>0.153994</td>\n",
       "      <td>52.000000</td>\n",
       "      <td>60629.000000</td>\n",
       "      <td>0.000000</td>\n",
       "      <td>0.366062</td>\n",
       "      <td>5.400000e+03</td>\n",
       "      <td>8.000000</td>\n",
       "      <td>0.000000</td>\n",
       "      <td>1.000000</td>\n",
       "      <td>0.000000</td>\n",
       "      <td>0.000000</td>\n",
       "      <td>0.000000</td>\n",
       "    </tr>\n",
       "    <tr>\n",
       "      <th>75%</th>\n",
       "      <td>0.559578</td>\n",
       "      <td>63.000000</td>\n",
       "      <td>60644.000000</td>\n",
       "      <td>0.000000</td>\n",
       "      <td>0.866967</td>\n",
       "      <td>8.200000e+03</td>\n",
       "      <td>11.000000</td>\n",
       "      <td>0.000000</td>\n",
       "      <td>2.000000</td>\n",
       "      <td>0.000000</td>\n",
       "      <td>1.000000</td>\n",
       "      <td>0.000000</td>\n",
       "    </tr>\n",
       "    <tr>\n",
       "      <th>max</th>\n",
       "      <td>18300.000000</td>\n",
       "      <td>109.000000</td>\n",
       "      <td>60804.000000</td>\n",
       "      <td>98.000000</td>\n",
       "      <td>329664.000000</td>\n",
       "      <td>3.008750e+06</td>\n",
       "      <td>58.000000</td>\n",
       "      <td>98.000000</td>\n",
       "      <td>54.000000</td>\n",
       "      <td>98.000000</td>\n",
       "      <td>20.000000</td>\n",
       "      <td>1.000000</td>\n",
       "    </tr>\n",
       "  </tbody>\n",
       "</table>\n",
       "</div>"
      ],
      "text/plain": [
       "       RevolvingUtilizationOfUnsecuredLines            age        zipcode  \\\n",
       "count                         100500.000000  100500.000000  100500.000000   \n",
       "mean                               5.298102      52.323602   60648.962289   \n",
       "std                              186.340091      14.774346      56.950400   \n",
       "min                                0.000000      21.000000   60601.000000   \n",
       "25%                                0.029892      41.000000   60625.000000   \n",
       "50%                                0.153994      52.000000   60629.000000   \n",
       "75%                                0.559578      63.000000   60644.000000   \n",
       "max                            18300.000000     109.000000   60804.000000   \n",
       "\n",
       "       NumberOfTime30-59DaysPastDueNotWorse      DebtRatio  MonthlyIncome  \\\n",
       "count                         100500.000000  100500.000000   8.063200e+04   \n",
       "mean                               0.419264     355.183973   6.698908e+03   \n",
       "std                                4.168705    2233.214145   1.637218e+04   \n",
       "min                                0.000000       0.000000   0.000000e+00   \n",
       "25%                                0.000000       0.175091   3.400000e+03   \n",
       "50%                                0.000000       0.366062   5.400000e+03   \n",
       "75%                                0.000000       0.866967   8.200000e+03   \n",
       "max                               98.000000  329664.000000   3.008750e+06   \n",
       "\n",
       "       NumberOfOpenCreditLinesAndLoans  NumberOfTimes90DaysLate  \\\n",
       "count                    100500.000000            100500.000000   \n",
       "mean                          8.465493                 0.264617   \n",
       "std                           5.157266                 4.145030   \n",
       "min                           0.000000                 0.000000   \n",
       "25%                           5.000000                 0.000000   \n",
       "50%                           8.000000                 0.000000   \n",
       "75%                          11.000000                 0.000000   \n",
       "max                          58.000000                98.000000   \n",
       "\n",
       "       NumberRealEstateLoansOrLines  NumberOfTime60-89DaysPastDueNotWorse  \\\n",
       "count                 100500.000000                         100500.000000   \n",
       "mean                       1.018109                              0.238975   \n",
       "std                        1.134139                              4.130554   \n",
       "min                        0.000000                              0.000000   \n",
       "25%                        0.000000                              0.000000   \n",
       "50%                        1.000000                              0.000000   \n",
       "75%                        2.000000                              0.000000   \n",
       "max                       54.000000                             98.000000   \n",
       "\n",
       "       NumberOfDependents  SeriousDlqin2yrs  \n",
       "count        97893.000000     100500.000000  \n",
       "mean             0.757633          0.066985  \n",
       "std              1.113945          0.249997  \n",
       "min              0.000000          0.000000  \n",
       "25%              0.000000          0.000000  \n",
       "50%              0.000000          0.000000  \n",
       "75%              1.000000          0.000000  \n",
       "max             20.000000          1.000000  "
      ]
     },
     "execution_count": 6,
     "metadata": {},
     "output_type": "execute_result"
    }
   ],
   "source": [
    "# General description of data.\n",
    "print(\"Dimension of train dataset: {} rows and {} features.\\n\".format(data.shape[0], data.shape[1]))\n",
    "data.describe()"
   ]
  },
  {
   "cell_type": "code",
   "execution_count": 7,
   "metadata": {
    "collapsed": false
   },
   "outputs": [
    {
     "data": {
      "text/plain": [
       "0    93768\n",
       "1     6732\n",
       "Name: SeriousDlqin2yrs, dtype: int64"
      ]
     },
     "execution_count": 7,
     "metadata": {},
     "output_type": "execute_result"
    },
    {
     "data": {
      "text/plain": [
       "0    0.933015\n",
       "1    0.066985\n",
       "Name: SeriousDlqin2yrs, dtype: float64"
      ]
     },
     "execution_count": 7,
     "metadata": {},
     "output_type": "execute_result"
    }
   ],
   "source": [
    "# What is the distribution of our target variable?\n",
    "data.SeriousDlqin2yrs.value_counts()\n",
    "data.SeriousDlqin2yrs.value_counts(normalize=True)"
   ]
  },
  {
   "cell_type": "markdown",
   "metadata": {},
   "source": [
    "We are trying to predict who experiences 90 days past due delinquency or worse. In our dataset, this only occurs in 6.6% of the cases."
   ]
  },
  {
   "cell_type": "code",
   "execution_count": 8,
   "metadata": {
    "collapsed": false
   },
   "outputs": [
    {
     "data": {
      "text/plain": [
       "60625    0.223582\n",
       "60629    0.111701\n",
       "60804    0.111672\n",
       "60637    0.111124\n",
       "60618    0.110826\n",
       "60644    0.110577\n",
       "60601    0.110517\n",
       "60657    0.110000\n",
       "Name: zipcode, dtype: float64"
      ]
     },
     "execution_count": 8,
     "metadata": {},
     "output_type": "execute_result"
    },
    {
     "data": {
      "image/png": "[encoded data removed]",
      "text/plain": [
       "<matplotlib.figure.Figure at 0x111a13c88>"
      ]
     },
     "metadata": {},
     "output_type": "display_data"
    }
   ],
   "source": [
    "# Are ZIP codes equally represented?\n",
    "data.zipcode.value_counts(normalize=True)\n",
    "_ = sns.countplot(y=\"zipcode\", data=data)"
   ]
  },
  {
   "cell_type": "markdown",
   "metadata": {},
   "source": [
    "We only have data from 8 zip codes. The data looks equally distributed across zip codes, except for 60625 being responsible for 22% of the entries."
   ]
  },
  {
   "cell_type": "code",
   "execution_count": 9,
   "metadata": {
    "collapsed": false
   },
   "outputs": [
    {
     "data": {
      "text/html": [
       "<div>\n",
       "<table border=\"1\" class=\"dataframe\">\n",
       "  <thead>\n",
       "    <tr style=\"text-align: right;\">\n",
       "      <th>SeriousDlqin2yrs</th>\n",
       "      <th>0</th>\n",
       "      <th>1</th>\n",
       "      <th>total</th>\n",
       "      <th>perc_of_SeriousDlqin2yrs</th>\n",
       "    </tr>\n",
       "    <tr>\n",
       "      <th>zipcode</th>\n",
       "      <th></th>\n",
       "      <th></th>\n",
       "      <th></th>\n",
       "      <th></th>\n",
       "    </tr>\n",
       "  </thead>\n",
       "  <tbody>\n",
       "    <tr>\n",
       "      <th>60601</th>\n",
       "      <td>10377</td>\n",
       "      <td>730</td>\n",
       "      <td>11107</td>\n",
       "      <td>0.065724</td>\n",
       "    </tr>\n",
       "    <tr>\n",
       "      <th>60618</th>\n",
       "      <td>10388</td>\n",
       "      <td>750</td>\n",
       "      <td>11138</td>\n",
       "      <td>0.067337</td>\n",
       "    </tr>\n",
       "    <tr>\n",
       "      <th>60625</th>\n",
       "      <td>21010</td>\n",
       "      <td>1460</td>\n",
       "      <td>22470</td>\n",
       "      <td>0.064976</td>\n",
       "    </tr>\n",
       "    <tr>\n",
       "      <th>60629</th>\n",
       "      <td>10495</td>\n",
       "      <td>731</td>\n",
       "      <td>11226</td>\n",
       "      <td>0.065117</td>\n",
       "    </tr>\n",
       "    <tr>\n",
       "      <th>60637</th>\n",
       "      <td>10392</td>\n",
       "      <td>776</td>\n",
       "      <td>11168</td>\n",
       "      <td>0.069484</td>\n",
       "    </tr>\n",
       "    <tr>\n",
       "      <th>60644</th>\n",
       "      <td>10342</td>\n",
       "      <td>771</td>\n",
       "      <td>11113</td>\n",
       "      <td>0.069378</td>\n",
       "    </tr>\n",
       "    <tr>\n",
       "      <th>60657</th>\n",
       "      <td>10307</td>\n",
       "      <td>748</td>\n",
       "      <td>11055</td>\n",
       "      <td>0.067662</td>\n",
       "    </tr>\n",
       "    <tr>\n",
       "      <th>60804</th>\n",
       "      <td>10457</td>\n",
       "      <td>766</td>\n",
       "      <td>11223</td>\n",
       "      <td>0.068253</td>\n",
       "    </tr>\n",
       "  </tbody>\n",
       "</table>\n",
       "</div>"
      ],
      "text/plain": [
       "SeriousDlqin2yrs      0     1  total  perc_of_SeriousDlqin2yrs\n",
       "zipcode                                                       \n",
       "60601             10377   730  11107                  0.065724\n",
       "60618             10388   750  11138                  0.067337\n",
       "60625             21010  1460  22470                  0.064976\n",
       "60629             10495   731  11226                  0.065117\n",
       "60637             10392   776  11168                  0.069484\n",
       "60644             10342   771  11113                  0.069378\n",
       "60657             10307   748  11055                  0.067662\n",
       "60804             10457   766  11223                  0.068253"
      ]
     },
     "execution_count": 9,
     "metadata": {},
     "output_type": "execute_result"
    }
   ],
   "source": [
    "# How is our target variable distributed by ZIP code?\n",
    "cross_table = pd.crosstab(data.zipcode, data.SeriousDlqin2yrs)\n",
    "cross_table[\"total\"] = cross_table[0] + cross_table[1]\n",
    "cross_table[\"perc_of_SeriousDlqin2yrs\"] = cross_table[1] / cross_table[\"total\"]\n",
    "cross_table"
   ]
  },
  {
   "cell_type": "markdown",
   "metadata": {},
   "source": [
    "While the ZIP code 60625 has the most entries in the dataset, the relative rate of individuals experiencing 90 days past due delinquency or worse is relatively stable across all ZIP codes."
   ]
  },
  {
   "cell_type": "code",
   "execution_count": 10,
   "metadata": {
    "collapsed": false
   },
   "outputs": [
    {
     "data": {
      "text/html": [
       "<div>\n",
       "<table border=\"1\" class=\"dataframe\">\n",
       "  <thead>\n",
       "    <tr style=\"text-align: right;\">\n",
       "      <th></th>\n",
       "      <th>RevolvingUtilizationOfUnsecuredLines</th>\n",
       "      <th>age</th>\n",
       "      <th>zipcode</th>\n",
       "      <th>NumberOfTime30-59DaysPastDueNotWorse</th>\n",
       "      <th>DebtRatio</th>\n",
       "      <th>MonthlyIncome</th>\n",
       "      <th>NumberOfOpenCreditLinesAndLoans</th>\n",
       "      <th>NumberOfTimes90DaysLate</th>\n",
       "      <th>NumberRealEstateLoansOrLines</th>\n",
       "      <th>NumberOfTime60-89DaysPastDueNotWorse</th>\n",
       "      <th>NumberOfDependents</th>\n",
       "    </tr>\n",
       "    <tr>\n",
       "      <th>SeriousDlqin2yrs</th>\n",
       "      <th></th>\n",
       "      <th></th>\n",
       "      <th></th>\n",
       "      <th></th>\n",
       "      <th></th>\n",
       "      <th></th>\n",
       "      <th></th>\n",
       "      <th></th>\n",
       "      <th></th>\n",
       "      <th></th>\n",
       "      <th></th>\n",
       "    </tr>\n",
       "  </thead>\n",
       "  <tbody>\n",
       "    <tr>\n",
       "      <th>0</th>\n",
       "      <td>5.434757</td>\n",
       "      <td>52.773313</td>\n",
       "      <td>60648.921220</td>\n",
       "      <td>0.284137</td>\n",
       "      <td>358.102104</td>\n",
       "      <td>6776.402602</td>\n",
       "      <td>8.502805</td>\n",
       "      <td>0.140048</td>\n",
       "      <td>1.018823</td>\n",
       "      <td>0.131655</td>\n",
       "      <td>0.743610</td>\n",
       "    </tr>\n",
       "    <tr>\n",
       "      <th>1</th>\n",
       "      <td>3.394668</td>\n",
       "      <td>46.059715</td>\n",
       "      <td>60649.534314</td>\n",
       "      <td>2.301396</td>\n",
       "      <td>314.538214</td>\n",
       "      <td>5661.587333</td>\n",
       "      <td>7.945781</td>\n",
       "      <td>1.999703</td>\n",
       "      <td>1.008170</td>\n",
       "      <td>1.733809</td>\n",
       "      <td>0.951164</td>\n",
       "    </tr>\n",
       "  </tbody>\n",
       "</table>\n",
       "</div>"
      ],
      "text/plain": [
       "                  RevolvingUtilizationOfUnsecuredLines        age  \\\n",
       "SeriousDlqin2yrs                                                    \n",
       "0                                             5.434757  52.773313   \n",
       "1                                             3.394668  46.059715   \n",
       "\n",
       "                       zipcode  NumberOfTime30-59DaysPastDueNotWorse  \\\n",
       "SeriousDlqin2yrs                                                       \n",
       "0                 60648.921220                              0.284137   \n",
       "1                 60649.534314                              2.301396   \n",
       "\n",
       "                   DebtRatio  MonthlyIncome  NumberOfOpenCreditLinesAndLoans  \\\n",
       "SeriousDlqin2yrs                                                               \n",
       "0                 358.102104    6776.402602                         8.502805   \n",
       "1                 314.538214    5661.587333                         7.945781   \n",
       "\n",
       "                  NumberOfTimes90DaysLate  NumberRealEstateLoansOrLines  \\\n",
       "SeriousDlqin2yrs                                                          \n",
       "0                                0.140048                      1.018823   \n",
       "1                                1.999703                      1.008170   \n",
       "\n",
       "                  NumberOfTime60-89DaysPastDueNotWorse  NumberOfDependents  \n",
       "SeriousDlqin2yrs                                                            \n",
       "0                                             0.131655            0.743610  \n",
       "1                                             1.733809            0.951164  "
      ]
     },
     "execution_count": 10,
     "metadata": {},
     "output_type": "execute_result"
    }
   ],
   "source": [
    "# What is the mean of a variable for target = 1 and target = 0?\n",
    "data.groupby(\"SeriousDlqin2yrs\").mean()"
   ]
  },
  {
   "cell_type": "markdown",
   "metadata": {},
   "source": [
    "On average, individuals experiencing 90 days past due delinquency or worse ...\n",
    "    - are younger (46.1 vs 52.75)\n",
    "    - have a lower income (5684 vs 6806)\n",
    "    - have a lower debt ratio (297 vs 352). However, these means are likely influenced by outliers or come from cases without monthly income/ with no reported income. Therefore, this comparison only holds if we assume that no income/no reported income shows same distribution across target variable.\n",
    "    - have a lower amount of open credit lines and loans (7.86 vs 8.5)\n",
    "    - have more dependents (0.96 vs 0.74)\n",
    "    - have been more often 30-59/60-89/90 days past due but no worse in the last 2 years."
   ]
  },
  {
   "cell_type": "code",
   "execution_count": 11,
   "metadata": {
    "collapsed": true
   },
   "outputs": [],
   "source": [
    "def plot_correlations(df, title):\n",
    "    \"\"\"\n",
    "    In:\n",
    "        - df: pandas dataframe\n",
    "        - title: title for plot\n",
    "    Out:\n",
    "        -\n",
    "    \"\"\"\n",
    "    ax = plt.axes();\n",
    "    corr = df.corr()\n",
    "    sns.heatmap(corr, xticklabels=corr.columns.values, yticklabels=corr.columns.values, ax=ax);\n",
    "    ax.set_title(title);"
   ]
  },
  {
   "cell_type": "code",
   "execution_count": 12,
   "metadata": {
    "collapsed": false
   },
   "outputs": [
    {
     "data": {
      "image/png": "[encoded data removed]",
      "text/plain": [
       "<matplotlib.figure.Figure at 0x111a20240>"
      ]
     },
     "metadata": {},
     "output_type": "display_data"
    }
   ],
   "source": [
    "# How are the variables correlated with each other?\n",
    "plot_correlations(data, 'Correlation matrix')"
   ]
  },
  {
   "cell_type": "markdown",
   "metadata": {
    "collapsed": true
   },
   "source": [
    "_Answer:_ \n",
    "\n",
    "There is a __moderate__ positive correlation between our target variable _SeriousDlqin2yrs_ and:\n",
    "    - NumberOfTime30-59DaysPastDueNotWorse\n",
    "    - NumberOfTime60-89DaysPastDueNotWorse\n",
    "    - NumberOfTime90DaysLate\n",
    "    \n",
    "There is a __small__ positive correlation between our target variable _SeriousDlqin2yrs_ and:\n",
    "    - NumberOfTime30-59DaysPastDueNotWorse\n",
    "    - NumberOfTime60-89DaysPastDueNotWorse\n",
    "    - NumberOfDependents\n",
    "   \n",
    "There is a __small__ negative correlation between our target variable _SeriousDlqin2yrs_ and:\n",
    "    - age"
   ]
  },
  {
   "cell_type": "markdown",
   "metadata": {},
   "source": [
    "----\n",
    "# Pre-Processing"
   ]
  },
  {
   "cell_type": "code",
   "execution_count": 13,
   "metadata": {
    "collapsed": false
   },
   "outputs": [
    {
     "data": {
      "text/html": [
       "<div>\n",
       "<table border=\"1\" class=\"dataframe\">\n",
       "  <thead>\n",
       "    <tr style=\"text-align: right;\">\n",
       "      <th></th>\n",
       "      <th>RevolvingUtilizationOfUnsecuredLines</th>\n",
       "      <th>age</th>\n",
       "      <th>zipcode</th>\n",
       "      <th>NumberOfTime30-59DaysPastDueNotWorse</th>\n",
       "      <th>DebtRatio</th>\n",
       "      <th>MonthlyIncome</th>\n",
       "      <th>NumberOfOpenCreditLinesAndLoans</th>\n",
       "      <th>NumberOfTimes90DaysLate</th>\n",
       "      <th>NumberRealEstateLoansOrLines</th>\n",
       "      <th>NumberOfTime60-89DaysPastDueNotWorse</th>\n",
       "      <th>NumberOfDependents</th>\n",
       "      <th>SeriousDlqin2yrs</th>\n",
       "    </tr>\n",
       "    <tr>\n",
       "      <th>PersonID</th>\n",
       "      <th></th>\n",
       "      <th></th>\n",
       "      <th></th>\n",
       "      <th></th>\n",
       "      <th></th>\n",
       "      <th></th>\n",
       "      <th></th>\n",
       "      <th></th>\n",
       "      <th></th>\n",
       "      <th></th>\n",
       "      <th></th>\n",
       "      <th></th>\n",
       "    </tr>\n",
       "  </thead>\n",
       "  <tbody>\n",
       "    <tr>\n",
       "      <th>11960</th>\n",
       "      <td>0.625861</td>\n",
       "      <td>65</td>\n",
       "      <td>60804</td>\n",
       "      <td>0</td>\n",
       "      <td>0.756712</td>\n",
       "      <td>5400.0</td>\n",
       "      <td>19</td>\n",
       "      <td>0</td>\n",
       "      <td>1</td>\n",
       "      <td>0</td>\n",
       "      <td>0.0</td>\n",
       "      <td>0</td>\n",
       "    </tr>\n",
       "    <tr>\n",
       "      <th>33250</th>\n",
       "      <td>0.008983</td>\n",
       "      <td>41</td>\n",
       "      <td>60644</td>\n",
       "      <td>0</td>\n",
       "      <td>2.058941</td>\n",
       "      <td>1000.0</td>\n",
       "      <td>8</td>\n",
       "      <td>0</td>\n",
       "      <td>2</td>\n",
       "      <td>0</td>\n",
       "      <td>2.0</td>\n",
       "      <td>0</td>\n",
       "    </tr>\n",
       "    <tr>\n",
       "      <th>133409</th>\n",
       "      <td>0.274545</td>\n",
       "      <td>59</td>\n",
       "      <td>60601</td>\n",
       "      <td>0</td>\n",
       "      <td>0.027315</td>\n",
       "      <td>1500.0</td>\n",
       "      <td>1</td>\n",
       "      <td>0</td>\n",
       "      <td>0</td>\n",
       "      <td>0</td>\n",
       "      <td>2.0</td>\n",
       "      <td>0</td>\n",
       "    </tr>\n",
       "    <tr>\n",
       "      <th>125950</th>\n",
       "      <td>0.000596</td>\n",
       "      <td>56</td>\n",
       "      <td>60601</td>\n",
       "      <td>0</td>\n",
       "      <td>0.382741</td>\n",
       "      <td>7960.0</td>\n",
       "      <td>17</td>\n",
       "      <td>0</td>\n",
       "      <td>1</td>\n",
       "      <td>0</td>\n",
       "      <td>0.0</td>\n",
       "      <td>0</td>\n",
       "    </tr>\n",
       "    <tr>\n",
       "      <th>15506</th>\n",
       "      <td>0.810678</td>\n",
       "      <td>33</td>\n",
       "      <td>60625</td>\n",
       "      <td>0</td>\n",
       "      <td>0.464360</td>\n",
       "      <td>6242.0</td>\n",
       "      <td>8</td>\n",
       "      <td>0</td>\n",
       "      <td>0</td>\n",
       "      <td>1</td>\n",
       "      <td>0.0</td>\n",
       "      <td>0</td>\n",
       "    </tr>\n",
       "  </tbody>\n",
       "</table>\n",
       "</div>"
      ],
      "text/plain": [
       "          RevolvingUtilizationOfUnsecuredLines  age  zipcode  \\\n",
       "PersonID                                                       \n",
       "11960                                 0.625861   65    60804   \n",
       "33250                                 0.008983   41    60644   \n",
       "133409                                0.274545   59    60601   \n",
       "125950                                0.000596   56    60601   \n",
       "15506                                 0.810678   33    60625   \n",
       "\n",
       "          NumberOfTime30-59DaysPastDueNotWorse  DebtRatio  MonthlyIncome  \\\n",
       "PersonID                                                                   \n",
       "11960                                        0   0.756712         5400.0   \n",
       "33250                                        0   2.058941         1000.0   \n",
       "133409                                       0   0.027315         1500.0   \n",
       "125950                                       0   0.382741         7960.0   \n",
       "15506                                        0   0.464360         6242.0   \n",
       "\n",
       "          NumberOfOpenCreditLinesAndLoans  NumberOfTimes90DaysLate  \\\n",
       "PersonID                                                             \n",
       "11960                                  19                        0   \n",
       "33250                                   8                        0   \n",
       "133409                                  1                        0   \n",
       "125950                                 17                        0   \n",
       "15506                                   8                        0   \n",
       "\n",
       "          NumberRealEstateLoansOrLines  NumberOfTime60-89DaysPastDueNotWorse  \\\n",
       "PersonID                                                                       \n",
       "11960                                1                                     0   \n",
       "33250                                2                                     0   \n",
       "133409                               0                                     0   \n",
       "125950                               1                                     0   \n",
       "15506                                0                                     1   \n",
       "\n",
       "          NumberOfDependents  SeriousDlqin2yrs  \n",
       "PersonID                                        \n",
       "11960                    0.0                 0  \n",
       "33250                    2.0                 0  \n",
       "133409                   2.0                 0  \n",
       "125950                   0.0                 0  \n",
       "15506                    0.0                 0  "
      ]
     },
     "execution_count": 13,
     "metadata": {},
     "output_type": "execute_result"
    }
   ],
   "source": [
    "data.head()"
   ]
  },
  {
   "cell_type": "code",
   "execution_count": 14,
   "metadata": {
    "collapsed": true
   },
   "outputs": [],
   "source": [
    "def keep_track_of_missing_values(df):\n",
    "    \"\"\"\n",
    "    Adds columns indicating if original columns had \n",
    "    missing values.\n",
    "    In:\n",
    "        - df: pandas df\n",
    "    Out:\n",
    "        - df: function modifies df inplace\n",
    "        - list of newly created columns\n",
    "    \"\"\"\n",
    "    new_columns = []\n",
    "    \n",
    "    for column in df:\n",
    "        \n",
    "        if df[column].isnull().values.any():\n",
    "            new_col_name = column + \"_missing\"\n",
    "            new_col = np.zeros(len(df), dtype=np.int)\n",
    "            new_col[df[column].isnull()] = 1\n",
    "            df[new_col_name] = new_col\n",
    "            new_columns.append(new_col_name)\n",
    "    return new_columns"
   ]
  },
  {
   "cell_type": "code",
   "execution_count": 15,
   "metadata": {
    "collapsed": true
   },
   "outputs": [],
   "source": [
    " def fill_missing_values_with_mean(df, class_mean = False, key = None):\n",
    "    \"\"\"\n",
    "    Replaces missing values with mean of class.\n",
    "    In:\n",
    "        - df: pandas df\n",
    "        - class_mean: (bool) whether or not to use mean of class\n",
    "        - key: column for classes (opt)\n",
    "    Out:\n",
    "        - df\n",
    "    \"\"\"\n",
    "    if class_mean:\n",
    "        key_col = df[key]\n",
    "        df = df.groupby(key).transform(lambda x: x.fillna(x.mean()))\n",
    "        df[key] = key_col\n",
    "        return df\n",
    "    else:\n",
    "        return df.fillna(df.mean())"
   ]
  },
  {
   "cell_type": "code",
   "execution_count": 16,
   "metadata": {
    "collapsed": false
   },
   "outputs": [],
   "source": [
    "new_columns = keep_track_of_missing_values(data)\n",
    "data = fill_missing_values_with_mean(data)"
   ]
  },
  {
   "cell_type": "code",
   "execution_count": 17,
   "metadata": {
    "collapsed": false
   },
   "outputs": [
    {
     "data": {
      "image/png": "[encoded data removed]",
      "text/plain": [
       "<matplotlib.figure.Figure at 0x111f4ef60>"
      ]
     },
     "metadata": {},
     "output_type": "display_data"
    }
   ],
   "source": [
    "#Are the missing values correlated with our target?\n",
    "plot_correlations(data[new_columns + [\"SeriousDlqin2yrs\"]], 'Correlation matrix')"
   ]
  },
  {
   "cell_type": "markdown",
   "metadata": {},
   "source": [
    "There is no correlation between missing values and our target _SeriousDlqin2yrs_."
   ]
  },
  {
   "cell_type": "markdown",
   "metadata": {},
   "source": [
    "----\n",
    "# Building Features"
   ]
  },
  {
   "cell_type": "code",
   "execution_count": 18,
   "metadata": {
    "collapsed": true
   },
   "outputs": [],
   "source": [
    "def discretize_cont_var(df, cont_var, n, dummy_code, drop=False):\n",
    "    \"\"\"\n",
    "    Discretizes  continuous variable.\n",
    "    In:\n",
    "        - df: pandas dataframe\n",
    "        - cont_var: continues variable to be discretized\n",
    "        - n: number of percentiles\n",
    "        - dummy_code: (str) to append to dummy columns\n",
    "        - drop: (bool) to drop continous variable\n",
    "    Out:\n",
    "        - df\n",
    "    \"\"\"\n",
    "    step_size = 1/n\n",
    "    bucket_array = np.arange(0, 1+step_size, step_size)\n",
    "    \n",
    "    df[cont_var + dummy_code] = pd.qcut(data[cont_var], bucket_array)\n",
    "    df = pd.get_dummies(df, columns=[cont_var + dummy_code])\n",
    "    \n",
    "    if drop:\n",
    "        del df[cont_var]\n",
    "    \n",
    "    return df"
   ]
  },
  {
   "cell_type": "code",
   "execution_count": 19,
   "metadata": {
    "collapsed": true
   },
   "outputs": [],
   "source": [
    "def dummify_var(df, cat_vars, drop=False):\n",
    "    \"\"\"\n",
    "    Takes categorical variable and creates binary/dummy variables from it.\n",
    "    In:\n",
    "        - df: pandas dataframe\n",
    "        - cat_vars: list of categorical variables\n",
    "        - drop: (bool) whether or not to drop first dummy\n",
    "    Out:\n",
    "        - df: pandas dataframe\n",
    "    \"\"\"\n",
    "    return pd.get_dummies(df, columns=cat_vars, drop_first=drop)"
   ]
  },
  {
   "cell_type": "code",
   "execution_count": 20,
   "metadata": {
    "collapsed": false
   },
   "outputs": [],
   "source": [
    "# setting test's zipcode as category with attributes from train to ensure \n",
    "# same columns in train and test set.\n",
    "X_test[\"zipcode\"] = X_test[\"zipcode\"].astype('category', categories=X_train.zipcode.unique())\n",
    "\n",
    "# We will use this code to identify discretized dummy vars\n",
    "dummy_code = \"_XX_disc\"\n",
    "\n",
    "# modifying variables\n",
    "data = dummify_var(data, [\"zipcode\"])\n",
    "data = discretize_cont_var(data, \"age\", 10, dummy_code)"
   ]
  },
  {
   "cell_type": "markdown",
   "metadata": {},
   "source": [
    "----\n",
    "# Training Classifiers"
   ]
  },
  {
   "cell_type": "code",
   "execution_count": 21,
   "metadata": {
    "collapsed": false
   },
   "outputs": [],
   "source": [
    "#We will use the preprocessed data as training data\n",
    "X_train = data.drop([\"SeriousDlqin2yrs\"], axis=1)"
   ]
  },
  {
   "cell_type": "code",
   "execution_count": 22,
   "metadata": {
    "collapsed": false
   },
   "outputs": [
    {
     "data": {
      "text/plain": [
       "0    0.933015\n",
       "1    0.066985\n",
       "Name: SeriousDlqin2yrs, dtype: float64"
      ]
     },
     "execution_count": 22,
     "metadata": {},
     "output_type": "execute_result"
    },
    {
     "data": {
      "text/plain": [
       "0    0.933455\n",
       "1    0.066545\n",
       "Name: SeriousDlqin2yrs, dtype: float64"
      ]
     },
     "execution_count": 22,
     "metadata": {},
     "output_type": "execute_result"
    }
   ],
   "source": [
    "# Do we have similar % of target in train and test?\n",
    "y_train.value_counts(normalize=True)\n",
    "y_test.value_counts(normalize=True)"
   ]
  },
  {
   "cell_type": "code",
   "execution_count": 23,
   "metadata": {
    "collapsed": false
   },
   "outputs": [],
   "source": [
    "# ensuring that X_test has the same columns as X_train\n",
    "X_test = dummify_var(X_test, [\"zipcode\"])\n",
    "\n",
    "#fill empty values\n",
    "X_test = fill_missing_values_with_mean(X_test)"
   ]
  },
  {
   "cell_type": "code",
   "execution_count": 24,
   "metadata": {
    "collapsed": true
   },
   "outputs": [],
   "source": [
    "def in_bound_test(value, start, end):\n",
    "    \"\"\"\n",
    "    Helper function to recreate discretized dummy\n",
    "    vars in test set.\n",
    "    In:\n",
    "        - value:\n",
    "        - start:\n",
    "        - end:\n",
    "    Out:\n",
    "        - 1 if value in range; 0 o/w\n",
    "    \"\"\"\n",
    "    if value >= start and value <= end:\n",
    "        return 1\n",
    "    else:\n",
    "        return 0\n",
    "\n",
    "    \n",
    "def insert_discretize_quantiles(df, col_to_value_dict):\n",
    "    \"\"\"\n",
    "    In:\n",
    "        - df: pandas dataframe\n",
    "        - col_to_value_dict: (dict) with columns (keys) to be\n",
    "            created in df as dummy vars according to values\n",
    "            {original_col: [(dummy_col, start, end),\n",
    "                            (dummy_col, start, end)]}\n",
    "    Out:\n",
    "        - df\n",
    "    \"\"\"\n",
    "    for original_col in col_to_value_dict:\n",
    "        \n",
    "        list_of_dum_cols = col_to_value_dict[original_col]\n",
    "        \n",
    "        for list_of_dum_col in list_of_dum_cols:\n",
    "            dummy_col, start, end = list_of_dum_col\n",
    "            df[dummy_col] = df.apply(lambda row: in_bound_test(row[original_col], start, end), axis=1)\n",
    "        \n",
    "        del df[original_col]\n",
    "    \n",
    "    return df"
   ]
  },
  {
   "cell_type": "code",
   "execution_count": 49,
   "metadata": {
    "collapsed": true
   },
   "outputs": [],
   "source": [
    "def build_col_to_value_dict(df, dummy_code):\n",
    "    \"\"\"\n",
    "    Function that builds dict with discretized columns\n",
    "    and their dummy columns with cut-off values.\n",
    "    In:\n",
    "        - df: pandas dataframe\n",
    "        - dummy_code: (str) to append to dummy columns\n",
    "    Out:\n",
    "        - dict\n",
    "    \"\"\"\n",
    "    col_to_value_dict = {}\n",
    "    \n",
    "    for col in df.columns:\n",
    "        if dummy_code in col:\n",
    "            \n",
    "            print(col)\n",
    "            \n",
    "            start_pos = col.find(dummy_code + \"_\")\n",
    "            original_col = (col[:start_pos])\n",
    "            if not original_col in col_to_value_dict:\n",
    "                col_to_value_dict[original_col] = []\n",
    "            \n",
    "            start_pos = col.find(dummy_code + \"_\")\n",
    "            print(col[start_pos + len(dummy_code + \"_\"):])\n",
    "            "
   ]
  },
  {
   "cell_type": "code",
   "execution_count": 50,
   "metadata": {
    "collapsed": false
   },
   "outputs": [
    {
     "name": "stdout",
     "output_type": "stream",
     "text": [
      "age_XX_disc_[21, 33]\n",
      "[21, 33]\n",
      "age_XX_disc_(33, 39]\n",
      "(33, 39]\n",
      "age_XX_disc_(39, 44]\n",
      "(39, 44]\n",
      "age_XX_disc_(44, 48]\n",
      "(44, 48]\n",
      "age_XX_disc_(48, 52]\n",
      "(48, 52]\n",
      "age_XX_disc_(52, 56]\n",
      "(52, 56]\n",
      "age_XX_disc_(56, 61]\n",
      "(56, 61]\n",
      "age_XX_disc_(61, 65]\n",
      "(61, 65]\n",
      "age_XX_disc_(65, 72]\n",
      "(65, 72]\n",
      "age_XX_disc_(72, 109]\n",
      "(72, 109]\n"
     ]
    }
   ],
   "source": [
    "build_col_to_value_dict(X_train, dummy_code)"
   ]
  },
  {
   "cell_type": "code",
   "execution_count": 30,
   "metadata": {
    "collapsed": false
   },
   "outputs": [
    {
     "data": {
      "text/plain": [
       "'_XX_disc'"
      ]
     },
     "execution_count": 30,
     "metadata": {},
     "output_type": "execute_result"
    }
   ],
   "source": [
    "dummy_code"
   ]
  },
  {
   "cell_type": "code",
   "execution_count": 26,
   "metadata": {
    "collapsed": false
   },
   "outputs": [],
   "source": [
    "col_to_value_dict = {\"age\": [('age_disc_[0, 33]', 0, 33),\n",
    "         ('age_disc_(33, 39]', 34, 39),\n",
    "         ('age_disc_(39, 44]', 40, 44),\n",
    "         ('age_disc_(44, 48]', 45, 48),\n",
    "         ('age_disc_(48, 52]', 49, 52),\n",
    "         ('age_disc_(52, 56]', 53, 56),\n",
    "         ('age_disc_(56, 61]', 57, 61),\n",
    "         ('age_disc_(61, 65]', 62, 65),\n",
    "         ('age_disc_(65, 72]', 66, 72),\n",
    "         ('age_disc_(72, 109]', 73, 109)\n",
    "        ]}\n",
    "\n",
    "X_test = insert_discretize_quantiles(X_test, col_to_value_dict)"
   ]
  },
  {
   "cell_type": "code",
   "execution_count": 27,
   "metadata": {
    "collapsed": false
   },
   "outputs": [
    {
     "data": {
      "text/plain": [
       "Index(['RevolvingUtilizationOfUnsecuredLines', 'age',\n",
       "       'NumberOfTime30-59DaysPastDueNotWorse', 'DebtRatio', 'MonthlyIncome',\n",
       "       'NumberOfOpenCreditLinesAndLoans', 'NumberOfTimes90DaysLate',\n",
       "       'NumberRealEstateLoansOrLines', 'NumberOfTime60-89DaysPastDueNotWorse',\n",
       "       'NumberOfDependents', 'MonthlyIncome_missing',\n",
       "       'NumberOfDependents_missing', 'zipcode_60618', 'zipcode_60625',\n",
       "       'zipcode_60629', 'zipcode_60637', 'zipcode_60644', 'zipcode_60657',\n",
       "       'zipcode_60804', 'age_XX_disc_[21, 33]', 'age_XX_disc_(33, 39]',\n",
       "       'age_XX_disc_(39, 44]', 'age_XX_disc_(44, 48]', 'age_XX_disc_(48, 52]',\n",
       "       'age_XX_disc_(52, 56]', 'age_XX_disc_(56, 61]', 'age_XX_disc_(61, 65]',\n",
       "       'age_XX_disc_(65, 72]', 'age_XX_disc_(72, 109]'],\n",
       "      dtype='object')"
      ]
     },
     "execution_count": 27,
     "metadata": {},
     "output_type": "execute_result"
    }
   ],
   "source": [
    "X_train.columns"
   ]
  },
  {
   "cell_type": "code",
   "execution_count": 28,
   "metadata": {
    "collapsed": false
   },
   "outputs": [
    {
     "ename": "KeyError",
     "evalue": "'age_disc_(44, 48]'",
     "output_type": "error",
     "traceback": [
      "\u001b[0;31m---------------------------------------------------------------------------\u001b[0m",
      "\u001b[0;31mKeyError\u001b[0m                                  Traceback (most recent call last)",
      "\u001b[0;32m/Users/hannes/anaconda/lib/python3.5/site-packages/pandas/indexes/base.py\u001b[0m in \u001b[0;36mget_loc\u001b[0;34m(self, key, method, tolerance)\u001b[0m\n\u001b[1;32m   2133\u001b[0m             \u001b[0;32mtry\u001b[0m\u001b[0;34m:\u001b[0m\u001b[0;34m\u001b[0m\u001b[0m\n\u001b[0;32m-> 2134\u001b[0;31m                 \u001b[0;32mreturn\u001b[0m \u001b[0mself\u001b[0m\u001b[0;34m.\u001b[0m\u001b[0m_engine\u001b[0m\u001b[0;34m.\u001b[0m\u001b[0mget_loc\u001b[0m\u001b[0;34m(\u001b[0m\u001b[0mkey\u001b[0m\u001b[0;34m)\u001b[0m\u001b[0;34m\u001b[0m\u001b[0m\n\u001b[0m\u001b[1;32m   2135\u001b[0m             \u001b[0;32mexcept\u001b[0m \u001b[0mKeyError\u001b[0m\u001b[0;34m:\u001b[0m\u001b[0;34m\u001b[0m\u001b[0m\n",
      "\u001b[0;32mpandas/index.pyx\u001b[0m in \u001b[0;36mpandas.index.IndexEngine.get_loc (pandas/index.c:4433)\u001b[0;34m()\u001b[0m\n",
      "\u001b[0;32mpandas/index.pyx\u001b[0m in \u001b[0;36mpandas.index.IndexEngine.get_loc (pandas/index.c:4279)\u001b[0;34m()\u001b[0m\n",
      "\u001b[0;32mpandas/src/hashtable_class_helper.pxi\u001b[0m in \u001b[0;36mpandas.hashtable.PyObjectHashTable.get_item (pandas/hashtable.c:13742)\u001b[0;34m()\u001b[0m\n",
      "\u001b[0;32mpandas/src/hashtable_class_helper.pxi\u001b[0m in \u001b[0;36mpandas.hashtable.PyObjectHashTable.get_item (pandas/hashtable.c:13696)\u001b[0;34m()\u001b[0m\n",
      "\u001b[0;31mKeyError\u001b[0m: 'age_disc_(44, 48]'",
      "\nDuring handling of the above exception, another exception occurred:\n",
      "\u001b[0;31mKeyError\u001b[0m                                  Traceback (most recent call last)",
      "\u001b[0;32m<ipython-input-28-7caa9bdb2d15>\u001b[0m in \u001b[0;36m<module>\u001b[0;34m()\u001b[0m\n\u001b[0;32m----> 1\u001b[0;31m \u001b[0mset\u001b[0m\u001b[0;34m(\u001b[0m\u001b[0mX_train\u001b[0m\u001b[0;34m[\u001b[0m\u001b[0mX_train\u001b[0m\u001b[0;34m[\u001b[0m\u001b[0;34m\"age_disc_(44, 48]\"\u001b[0m\u001b[0;34m]\u001b[0m \u001b[0;34m==\u001b[0m \u001b[0;36m1\u001b[0m\u001b[0;34m]\u001b[0m\u001b[0;34m[\u001b[0m\u001b[0;34m\"age\"\u001b[0m\u001b[0;34m]\u001b[0m\u001b[0;34m)\u001b[0m\u001b[0;34m\u001b[0m\u001b[0m\n\u001b[0m",
      "\u001b[0;32m/Users/hannes/anaconda/lib/python3.5/site-packages/pandas/core/frame.py\u001b[0m in \u001b[0;36m__getitem__\u001b[0;34m(self, key)\u001b[0m\n\u001b[1;32m   2057\u001b[0m             \u001b[0;32mreturn\u001b[0m \u001b[0mself\u001b[0m\u001b[0;34m.\u001b[0m\u001b[0m_getitem_multilevel\u001b[0m\u001b[0;34m(\u001b[0m\u001b[0mkey\u001b[0m\u001b[0;34m)\u001b[0m\u001b[0;34m\u001b[0m\u001b[0m\n\u001b[1;32m   2058\u001b[0m         \u001b[0;32melse\u001b[0m\u001b[0;34m:\u001b[0m\u001b[0;34m\u001b[0m\u001b[0m\n\u001b[0;32m-> 2059\u001b[0;31m             \u001b[0;32mreturn\u001b[0m \u001b[0mself\u001b[0m\u001b[0;34m.\u001b[0m\u001b[0m_getitem_column\u001b[0m\u001b[0;34m(\u001b[0m\u001b[0mkey\u001b[0m\u001b[0;34m)\u001b[0m\u001b[0;34m\u001b[0m\u001b[0m\n\u001b[0m\u001b[1;32m   2060\u001b[0m \u001b[0;34m\u001b[0m\u001b[0m\n\u001b[1;32m   2061\u001b[0m     \u001b[0;32mdef\u001b[0m \u001b[0m_getitem_column\u001b[0m\u001b[0;34m(\u001b[0m\u001b[0mself\u001b[0m\u001b[0;34m,\u001b[0m \u001b[0mkey\u001b[0m\u001b[0;34m)\u001b[0m\u001b[0;34m:\u001b[0m\u001b[0;34m\u001b[0m\u001b[0m\n",
      "\u001b[0;32m/Users/hannes/anaconda/lib/python3.5/site-packages/pandas/core/frame.py\u001b[0m in \u001b[0;36m_getitem_column\u001b[0;34m(self, key)\u001b[0m\n\u001b[1;32m   2064\u001b[0m         \u001b[0;31m# get column\u001b[0m\u001b[0;34m\u001b[0m\u001b[0;34m\u001b[0m\u001b[0m\n\u001b[1;32m   2065\u001b[0m         \u001b[0;32mif\u001b[0m \u001b[0mself\u001b[0m\u001b[0;34m.\u001b[0m\u001b[0mcolumns\u001b[0m\u001b[0;34m.\u001b[0m\u001b[0mis_unique\u001b[0m\u001b[0;34m:\u001b[0m\u001b[0;34m\u001b[0m\u001b[0m\n\u001b[0;32m-> 2066\u001b[0;31m             \u001b[0;32mreturn\u001b[0m \u001b[0mself\u001b[0m\u001b[0;34m.\u001b[0m\u001b[0m_get_item_cache\u001b[0m\u001b[0;34m(\u001b[0m\u001b[0mkey\u001b[0m\u001b[0;34m)\u001b[0m\u001b[0;34m\u001b[0m\u001b[0m\n\u001b[0m\u001b[1;32m   2067\u001b[0m \u001b[0;34m\u001b[0m\u001b[0m\n\u001b[1;32m   2068\u001b[0m         \u001b[0;31m# duplicate columns & possible reduce dimensionality\u001b[0m\u001b[0;34m\u001b[0m\u001b[0;34m\u001b[0m\u001b[0m\n",
      "\u001b[0;32m/Users/hannes/anaconda/lib/python3.5/site-packages/pandas/core/generic.py\u001b[0m in \u001b[0;36m_get_item_cache\u001b[0;34m(self, item)\u001b[0m\n\u001b[1;32m   1384\u001b[0m         \u001b[0mres\u001b[0m \u001b[0;34m=\u001b[0m \u001b[0mcache\u001b[0m\u001b[0;34m.\u001b[0m\u001b[0mget\u001b[0m\u001b[0;34m(\u001b[0m\u001b[0mitem\u001b[0m\u001b[0;34m)\u001b[0m\u001b[0;34m\u001b[0m\u001b[0m\n\u001b[1;32m   1385\u001b[0m         \u001b[0;32mif\u001b[0m \u001b[0mres\u001b[0m \u001b[0;32mis\u001b[0m \u001b[0;32mNone\u001b[0m\u001b[0;34m:\u001b[0m\u001b[0;34m\u001b[0m\u001b[0m\n\u001b[0;32m-> 1386\u001b[0;31m             \u001b[0mvalues\u001b[0m \u001b[0;34m=\u001b[0m \u001b[0mself\u001b[0m\u001b[0;34m.\u001b[0m\u001b[0m_data\u001b[0m\u001b[0;34m.\u001b[0m\u001b[0mget\u001b[0m\u001b[0;34m(\u001b[0m\u001b[0mitem\u001b[0m\u001b[0;34m)\u001b[0m\u001b[0;34m\u001b[0m\u001b[0m\n\u001b[0m\u001b[1;32m   1387\u001b[0m             \u001b[0mres\u001b[0m \u001b[0;34m=\u001b[0m \u001b[0mself\u001b[0m\u001b[0;34m.\u001b[0m\u001b[0m_box_item_values\u001b[0m\u001b[0;34m(\u001b[0m\u001b[0mitem\u001b[0m\u001b[0;34m,\u001b[0m \u001b[0mvalues\u001b[0m\u001b[0;34m)\u001b[0m\u001b[0;34m\u001b[0m\u001b[0m\n\u001b[1;32m   1388\u001b[0m             \u001b[0mcache\u001b[0m\u001b[0;34m[\u001b[0m\u001b[0mitem\u001b[0m\u001b[0;34m]\u001b[0m \u001b[0;34m=\u001b[0m \u001b[0mres\u001b[0m\u001b[0;34m\u001b[0m\u001b[0m\n",
      "\u001b[0;32m/Users/hannes/anaconda/lib/python3.5/site-packages/pandas/core/internals.py\u001b[0m in \u001b[0;36mget\u001b[0;34m(self, item, fastpath)\u001b[0m\n\u001b[1;32m   3541\u001b[0m \u001b[0;34m\u001b[0m\u001b[0m\n\u001b[1;32m   3542\u001b[0m             \u001b[0;32mif\u001b[0m \u001b[0;32mnot\u001b[0m \u001b[0misnull\u001b[0m\u001b[0;34m(\u001b[0m\u001b[0mitem\u001b[0m\u001b[0;34m)\u001b[0m\u001b[0;34m:\u001b[0m\u001b[0;34m\u001b[0m\u001b[0m\n\u001b[0;32m-> 3543\u001b[0;31m                 \u001b[0mloc\u001b[0m \u001b[0;34m=\u001b[0m \u001b[0mself\u001b[0m\u001b[0;34m.\u001b[0m\u001b[0mitems\u001b[0m\u001b[0;34m.\u001b[0m\u001b[0mget_loc\u001b[0m\u001b[0;34m(\u001b[0m\u001b[0mitem\u001b[0m\u001b[0;34m)\u001b[0m\u001b[0;34m\u001b[0m\u001b[0m\n\u001b[0m\u001b[1;32m   3544\u001b[0m             \u001b[0;32melse\u001b[0m\u001b[0;34m:\u001b[0m\u001b[0;34m\u001b[0m\u001b[0m\n\u001b[1;32m   3545\u001b[0m                 \u001b[0mindexer\u001b[0m \u001b[0;34m=\u001b[0m \u001b[0mnp\u001b[0m\u001b[0;34m.\u001b[0m\u001b[0marange\u001b[0m\u001b[0;34m(\u001b[0m\u001b[0mlen\u001b[0m\u001b[0;34m(\u001b[0m\u001b[0mself\u001b[0m\u001b[0;34m.\u001b[0m\u001b[0mitems\u001b[0m\u001b[0;34m)\u001b[0m\u001b[0;34m)\u001b[0m\u001b[0;34m[\u001b[0m\u001b[0misnull\u001b[0m\u001b[0;34m(\u001b[0m\u001b[0mself\u001b[0m\u001b[0;34m.\u001b[0m\u001b[0mitems\u001b[0m\u001b[0;34m)\u001b[0m\u001b[0;34m]\u001b[0m\u001b[0;34m\u001b[0m\u001b[0m\n",
      "\u001b[0;32m/Users/hannes/anaconda/lib/python3.5/site-packages/pandas/indexes/base.py\u001b[0m in \u001b[0;36mget_loc\u001b[0;34m(self, key, method, tolerance)\u001b[0m\n\u001b[1;32m   2134\u001b[0m                 \u001b[0;32mreturn\u001b[0m \u001b[0mself\u001b[0m\u001b[0;34m.\u001b[0m\u001b[0m_engine\u001b[0m\u001b[0;34m.\u001b[0m\u001b[0mget_loc\u001b[0m\u001b[0;34m(\u001b[0m\u001b[0mkey\u001b[0m\u001b[0;34m)\u001b[0m\u001b[0;34m\u001b[0m\u001b[0m\n\u001b[1;32m   2135\u001b[0m             \u001b[0;32mexcept\u001b[0m \u001b[0mKeyError\u001b[0m\u001b[0;34m:\u001b[0m\u001b[0;34m\u001b[0m\u001b[0m\n\u001b[0;32m-> 2136\u001b[0;31m                 \u001b[0;32mreturn\u001b[0m \u001b[0mself\u001b[0m\u001b[0;34m.\u001b[0m\u001b[0m_engine\u001b[0m\u001b[0;34m.\u001b[0m\u001b[0mget_loc\u001b[0m\u001b[0;34m(\u001b[0m\u001b[0mself\u001b[0m\u001b[0;34m.\u001b[0m\u001b[0m_maybe_cast_indexer\u001b[0m\u001b[0;34m(\u001b[0m\u001b[0mkey\u001b[0m\u001b[0;34m)\u001b[0m\u001b[0;34m)\u001b[0m\u001b[0;34m\u001b[0m\u001b[0m\n\u001b[0m\u001b[1;32m   2137\u001b[0m \u001b[0;34m\u001b[0m\u001b[0m\n\u001b[1;32m   2138\u001b[0m         \u001b[0mindexer\u001b[0m \u001b[0;34m=\u001b[0m \u001b[0mself\u001b[0m\u001b[0;34m.\u001b[0m\u001b[0mget_indexer\u001b[0m\u001b[0;34m(\u001b[0m\u001b[0;34m[\u001b[0m\u001b[0mkey\u001b[0m\u001b[0;34m]\u001b[0m\u001b[0;34m,\u001b[0m \u001b[0mmethod\u001b[0m\u001b[0;34m=\u001b[0m\u001b[0mmethod\u001b[0m\u001b[0;34m,\u001b[0m \u001b[0mtolerance\u001b[0m\u001b[0;34m=\u001b[0m\u001b[0mtolerance\u001b[0m\u001b[0;34m)\u001b[0m\u001b[0;34m\u001b[0m\u001b[0m\n",
      "\u001b[0;32mpandas/index.pyx\u001b[0m in \u001b[0;36mpandas.index.IndexEngine.get_loc (pandas/index.c:4433)\u001b[0;34m()\u001b[0m\n",
      "\u001b[0;32mpandas/index.pyx\u001b[0m in \u001b[0;36mpandas.index.IndexEngine.get_loc (pandas/index.c:4279)\u001b[0;34m()\u001b[0m\n",
      "\u001b[0;32mpandas/src/hashtable_class_helper.pxi\u001b[0m in \u001b[0;36mpandas.hashtable.PyObjectHashTable.get_item (pandas/hashtable.c:13742)\u001b[0;34m()\u001b[0m\n",
      "\u001b[0;32mpandas/src/hashtable_class_helper.pxi\u001b[0m in \u001b[0;36mpandas.hashtable.PyObjectHashTable.get_item (pandas/hashtable.c:13696)\u001b[0;34m()\u001b[0m\n",
      "\u001b[0;31mKeyError\u001b[0m: 'age_disc_(44, 48]'"
     ]
    }
   ],
   "source": [
    "set(X_train[X_train[\"age_disc_(44, 48]\"] == 1][\"age\"])"
   ]
  },
  {
   "cell_type": "code",
   "execution_count": null,
   "metadata": {
    "collapsed": false
   },
   "outputs": [],
   "source": [
    "X_test.columns"
   ]
  },
  {
   "cell_type": "code",
   "execution_count": null,
   "metadata": {
    "collapsed": true
   },
   "outputs": [],
   "source": []
  }
 ],
 "metadata": {
  "anaconda-cloud": {},
  "kernelspec": {
   "display_name": "Python [Root]",
   "language": "python",
   "name": "Python [Root]"
  },
  "language_info": {
   "codemirror_mode": {
    "name": "ipython",
    "version": 3
   },
   "file_extension": ".py",
   "mimetype": "text/x-python",
   "name": "python",
   "nbconvert_exporter": "python",
   "pygments_lexer": "ipython3",
   "version": "3.5.2"
  }
 },
 "nbformat": 4,
 "nbformat_minor": 0
}
