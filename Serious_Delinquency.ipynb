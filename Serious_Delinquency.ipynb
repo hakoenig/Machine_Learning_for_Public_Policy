{
 "cells": [
  {
   "cell_type": "code",
   "execution_count": 1,
   "metadata": {
    "collapsed": false
   },
   "outputs": [],
   "source": [
    "#TO-DO:\n",
    "#- how can i ensure that the new features are also present in the test set?\n",
    "# - do not fill with mean of class; but with mean of test set.\n",
    "# move functions out of notebook into py files\n",
    "\n",
    "import pandas as pd\n",
    "import seaborn as sns\n",
    "import numpy as np\n",
    "import matplotlib.pyplot as plt"
   ]
  },
  {
   "cell_type": "code",
   "execution_count": 2,
   "metadata": {
    "collapsed": true
   },
   "outputs": [],
   "source": [
    "#ML imports\n",
    "from sklearn.pipeline import Pipeline\n",
    "from sklearn.model_selection import train_test_split"
   ]
  },
  {
   "cell_type": "code",
   "execution_count": 3,
   "metadata": {
    "collapsed": true
   },
   "outputs": [],
   "source": [
    "#Notebook commands\n",
    "from IPython.core.interactiveshell import InteractiveShell\n",
    "InteractiveShell.ast_node_interactivity = \"all\"\n",
    "\n",
    "%matplotlib inline"
   ]
  },
  {
   "cell_type": "markdown",
   "metadata": {},
   "source": [
    "## Tasks:\n",
    "\n",
    "1. Read Data: For this assignment, assume input is CSV and write a function that can read a csv into python\n",
    "\n",
    "2. Explore Data: You can use the code you wrote for assignment 1 here to generate distributions and data summaries.\n",
    "\n",
    "3. Pre-Process Data: For this assignment, you can limit this to filling in missing values for the variables that have missing values. You can use any simple method to do it (use mean to fill in missing values).\n",
    "\n",
    "4. Generate Features/Predictors: For this assignment, you should write one function that can discretize a continuous variable and one function that can take a categorical variable and create binary/dummy variables from it. Apply them to at least one variable each in this data.\n",
    "\n",
    "5. Build Classifier: For this assignment, select any classifier you feel comfortable with (Logistic Regression for example)\n",
    "\n",
    "6. Evaluate Classifier: you can use any metric you choose for this assignment (accuracy is the easiest one). Feel free to evaluate it on the same data you built the model on (this is not a good idea in general but for this assignment, it is fine). We haven't covered models and evaluation yet, so don't worry about creating validation sets or cross-validation. "
   ]
  },
  {
   "cell_type": "code",
   "execution_count": 4,
   "metadata": {
    "collapsed": false
   },
   "outputs": [],
   "source": [
    "def read_data_from_csv(file_path, index_col=None, split=False, target=None, test_size=None):\n",
    "    \"\"\"\n",
    "    Loads data from csv file.\n",
    "    In:\n",
    "        - file_path: path to csv file\n",
    "        - split: (bool) split data into train & test?\n",
    "        - target: column name of target\n",
    "        - test_size: % of test data\n",
    "    Out:\n",
    "        - data: pandas Dataframe\n",
    "    \"\"\"\n",
    "    data = pd.read_csv(\"data/credit-data.csv\", index_col=index_col)\n",
    "    \n",
    "    if split:\n",
    "        X_train, X_test, y_train, y_test = train_test_split(data.drop([target], axis=1), \n",
    "                                                            data[target], test_size=test_size)\n",
    "        return X_train, X_test, y_train, y_test\n",
    "    return data"
   ]
  },
  {
   "cell_type": "code",
   "execution_count": 5,
   "metadata": {
    "collapsed": false
   },
   "outputs": [
    {
     "data": {
      "text/html": [
       "<div>\n",
       "<table border=\"1\" class=\"dataframe\">\n",
       "  <thead>\n",
       "    <tr style=\"text-align: right;\">\n",
       "      <th></th>\n",
       "      <th>RevolvingUtilizationOfUnsecuredLines</th>\n",
       "      <th>age</th>\n",
       "      <th>zipcode</th>\n",
       "      <th>NumberOfTime30-59DaysPastDueNotWorse</th>\n",
       "      <th>DebtRatio</th>\n",
       "      <th>MonthlyIncome</th>\n",
       "      <th>NumberOfOpenCreditLinesAndLoans</th>\n",
       "      <th>NumberOfTimes90DaysLate</th>\n",
       "      <th>NumberRealEstateLoansOrLines</th>\n",
       "      <th>NumberOfTime60-89DaysPastDueNotWorse</th>\n",
       "      <th>NumberOfDependents</th>\n",
       "      <th>SeriousDlqin2yrs</th>\n",
       "    </tr>\n",
       "    <tr>\n",
       "      <th>PersonID</th>\n",
       "      <th></th>\n",
       "      <th></th>\n",
       "      <th></th>\n",
       "      <th></th>\n",
       "      <th></th>\n",
       "      <th></th>\n",
       "      <th></th>\n",
       "      <th></th>\n",
       "      <th></th>\n",
       "      <th></th>\n",
       "      <th></th>\n",
       "      <th></th>\n",
       "    </tr>\n",
       "  </thead>\n",
       "  <tbody>\n",
       "    <tr>\n",
       "      <th>27249</th>\n",
       "      <td>0.129136</td>\n",
       "      <td>49</td>\n",
       "      <td>60625</td>\n",
       "      <td>0</td>\n",
       "      <td>0.115019</td>\n",
       "      <td>1051.0</td>\n",
       "      <td>5</td>\n",
       "      <td>0</td>\n",
       "      <td>0</td>\n",
       "      <td>0</td>\n",
       "      <td>0.0</td>\n",
       "      <td>0</td>\n",
       "    </tr>\n",
       "    <tr>\n",
       "      <th>3324</th>\n",
       "      <td>0.579785</td>\n",
       "      <td>30</td>\n",
       "      <td>60618</td>\n",
       "      <td>1</td>\n",
       "      <td>0.414662</td>\n",
       "      <td>4446.0</td>\n",
       "      <td>12</td>\n",
       "      <td>0</td>\n",
       "      <td>1</td>\n",
       "      <td>0</td>\n",
       "      <td>0.0</td>\n",
       "      <td>0</td>\n",
       "    </tr>\n",
       "    <tr>\n",
       "      <th>46381</th>\n",
       "      <td>0.038469</td>\n",
       "      <td>55</td>\n",
       "      <td>60625</td>\n",
       "      <td>3</td>\n",
       "      <td>0.261249</td>\n",
       "      <td>12600.0</td>\n",
       "      <td>16</td>\n",
       "      <td>0</td>\n",
       "      <td>3</td>\n",
       "      <td>0</td>\n",
       "      <td>2.0</td>\n",
       "      <td>0</td>\n",
       "    </tr>\n",
       "    <tr>\n",
       "      <th>40941</th>\n",
       "      <td>0.093356</td>\n",
       "      <td>79</td>\n",
       "      <td>60625</td>\n",
       "      <td>0</td>\n",
       "      <td>0.009736</td>\n",
       "      <td>7600.0</td>\n",
       "      <td>5</td>\n",
       "      <td>0</td>\n",
       "      <td>0</td>\n",
       "      <td>0</td>\n",
       "      <td>0.0</td>\n",
       "      <td>0</td>\n",
       "    </tr>\n",
       "    <tr>\n",
       "      <th>10912</th>\n",
       "      <td>0.177456</td>\n",
       "      <td>44</td>\n",
       "      <td>60804</td>\n",
       "      <td>0</td>\n",
       "      <td>21.000000</td>\n",
       "      <td>NaN</td>\n",
       "      <td>2</td>\n",
       "      <td>0</td>\n",
       "      <td>0</td>\n",
       "      <td>0</td>\n",
       "      <td>0.0</td>\n",
       "      <td>0</td>\n",
       "    </tr>\n",
       "  </tbody>\n",
       "</table>\n",
       "</div>"
      ],
      "text/plain": [
       "          RevolvingUtilizationOfUnsecuredLines  age  zipcode  \\\n",
       "PersonID                                                       \n",
       "27249                                 0.129136   49    60625   \n",
       "3324                                  0.579785   30    60618   \n",
       "46381                                 0.038469   55    60625   \n",
       "40941                                 0.093356   79    60625   \n",
       "10912                                 0.177456   44    60804   \n",
       "\n",
       "          NumberOfTime30-59DaysPastDueNotWorse  DebtRatio  MonthlyIncome  \\\n",
       "PersonID                                                                   \n",
       "27249                                        0   0.115019         1051.0   \n",
       "3324                                         1   0.414662         4446.0   \n",
       "46381                                        3   0.261249        12600.0   \n",
       "40941                                        0   0.009736         7600.0   \n",
       "10912                                        0  21.000000            NaN   \n",
       "\n",
       "          NumberOfOpenCreditLinesAndLoans  NumberOfTimes90DaysLate  \\\n",
       "PersonID                                                             \n",
       "27249                                   5                        0   \n",
       "3324                                   12                        0   \n",
       "46381                                  16                        0   \n",
       "40941                                   5                        0   \n",
       "10912                                   2                        0   \n",
       "\n",
       "          NumberRealEstateLoansOrLines  NumberOfTime60-89DaysPastDueNotWorse  \\\n",
       "PersonID                                                                       \n",
       "27249                                0                                     0   \n",
       "3324                                 1                                     0   \n",
       "46381                                3                                     0   \n",
       "40941                                0                                     0   \n",
       "10912                                0                                     0   \n",
       "\n",
       "          NumberOfDependents  SeriousDlqin2yrs  \n",
       "PersonID                                        \n",
       "27249                    0.0                 0  \n",
       "3324                     0.0                 0  \n",
       "46381                    2.0                 0  \n",
       "40941                    0.0                 0  \n",
       "10912                    0.0                 0  "
      ]
     },
     "execution_count": 5,
     "metadata": {},
     "output_type": "execute_result"
    }
   ],
   "source": [
    "X_train, X_test, y_train, y_test = read_data_from_csv(\"data/credit-data.csv\", 0, True, \"SeriousDlqin2yrs\", 0.33)\n",
    "data = X_train.join(y_train)\n",
    "\n",
    "data.head()"
   ]
  },
  {
   "cell_type": "markdown",
   "metadata": {},
   "source": [
    "----\n",
    "# Exploring data"
   ]
  },
  {
   "cell_type": "code",
   "execution_count": 6,
   "metadata": {
    "collapsed": false
   },
   "outputs": [
    {
     "name": "stdout",
     "output_type": "stream",
     "text": [
      "Dimension of train dataset: 100500 rows and 12 features.\n",
      "\n"
     ]
    },
    {
     "data": {
      "text/html": [
       "<div>\n",
       "<table border=\"1\" class=\"dataframe\">\n",
       "  <thead>\n",
       "    <tr style=\"text-align: right;\">\n",
       "      <th></th>\n",
       "      <th>RevolvingUtilizationOfUnsecuredLines</th>\n",
       "      <th>age</th>\n",
       "      <th>zipcode</th>\n",
       "      <th>NumberOfTime30-59DaysPastDueNotWorse</th>\n",
       "      <th>DebtRatio</th>\n",
       "      <th>MonthlyIncome</th>\n",
       "      <th>NumberOfOpenCreditLinesAndLoans</th>\n",
       "      <th>NumberOfTimes90DaysLate</th>\n",
       "      <th>NumberRealEstateLoansOrLines</th>\n",
       "      <th>NumberOfTime60-89DaysPastDueNotWorse</th>\n",
       "      <th>NumberOfDependents</th>\n",
       "      <th>SeriousDlqin2yrs</th>\n",
       "    </tr>\n",
       "  </thead>\n",
       "  <tbody>\n",
       "    <tr>\n",
       "      <th>count</th>\n",
       "      <td>100500.000000</td>\n",
       "      <td>100500.000000</td>\n",
       "      <td>100500.000000</td>\n",
       "      <td>100500.000000</td>\n",
       "      <td>100500.000000</td>\n",
       "      <td>8.059900e+04</td>\n",
       "      <td>100500.000000</td>\n",
       "      <td>100500.000000</td>\n",
       "      <td>100500.000000</td>\n",
       "      <td>100500.000000</td>\n",
       "      <td>97875.000000</td>\n",
       "      <td>100500.000000</td>\n",
       "    </tr>\n",
       "    <tr>\n",
       "      <th>mean</th>\n",
       "      <td>5.776979</td>\n",
       "      <td>52.299900</td>\n",
       "      <td>60649.031194</td>\n",
       "      <td>0.415701</td>\n",
       "      <td>359.022294</td>\n",
       "      <td>6.668052e+03</td>\n",
       "      <td>8.460746</td>\n",
       "      <td>0.261761</td>\n",
       "      <td>1.020756</td>\n",
       "      <td>0.235682</td>\n",
       "      <td>0.756782</td>\n",
       "      <td>0.066567</td>\n",
       "    </tr>\n",
       "    <tr>\n",
       "      <th>std</th>\n",
       "      <td>225.765486</td>\n",
       "      <td>14.757469</td>\n",
       "      <td>56.972299</td>\n",
       "      <td>4.144161</td>\n",
       "      <td>2325.863277</td>\n",
       "      <td>1.259292e+04</td>\n",
       "      <td>5.133744</td>\n",
       "      <td>4.121003</td>\n",
       "      <td>1.131555</td>\n",
       "      <td>4.105851</td>\n",
       "      <td>1.111226</td>\n",
       "      <td>0.249272</td>\n",
       "    </tr>\n",
       "    <tr>\n",
       "      <th>min</th>\n",
       "      <td>0.000000</td>\n",
       "      <td>21.000000</td>\n",
       "      <td>60601.000000</td>\n",
       "      <td>0.000000</td>\n",
       "      <td>0.000000</td>\n",
       "      <td>0.000000e+00</td>\n",
       "      <td>0.000000</td>\n",
       "      <td>0.000000</td>\n",
       "      <td>0.000000</td>\n",
       "      <td>0.000000</td>\n",
       "      <td>0.000000</td>\n",
       "      <td>0.000000</td>\n",
       "    </tr>\n",
       "    <tr>\n",
       "      <th>25%</th>\n",
       "      <td>0.029798</td>\n",
       "      <td>41.000000</td>\n",
       "      <td>60625.000000</td>\n",
       "      <td>0.000000</td>\n",
       "      <td>0.175024</td>\n",
       "      <td>3.400000e+03</td>\n",
       "      <td>5.000000</td>\n",
       "      <td>0.000000</td>\n",
       "      <td>0.000000</td>\n",
       "      <td>0.000000</td>\n",
       "      <td>0.000000</td>\n",
       "      <td>0.000000</td>\n",
       "    </tr>\n",
       "    <tr>\n",
       "      <th>50%</th>\n",
       "      <td>0.153185</td>\n",
       "      <td>52.000000</td>\n",
       "      <td>60629.000000</td>\n",
       "      <td>0.000000</td>\n",
       "      <td>0.366836</td>\n",
       "      <td>5.400000e+03</td>\n",
       "      <td>8.000000</td>\n",
       "      <td>0.000000</td>\n",
       "      <td>1.000000</td>\n",
       "      <td>0.000000</td>\n",
       "      <td>0.000000</td>\n",
       "      <td>0.000000</td>\n",
       "    </tr>\n",
       "    <tr>\n",
       "      <th>75%</th>\n",
       "      <td>0.556009</td>\n",
       "      <td>63.000000</td>\n",
       "      <td>60644.000000</td>\n",
       "      <td>0.000000</td>\n",
       "      <td>0.870072</td>\n",
       "      <td>8.271500e+03</td>\n",
       "      <td>11.000000</td>\n",
       "      <td>0.000000</td>\n",
       "      <td>2.000000</td>\n",
       "      <td>0.000000</td>\n",
       "      <td>1.000000</td>\n",
       "      <td>0.000000</td>\n",
       "    </tr>\n",
       "    <tr>\n",
       "      <th>max</th>\n",
       "      <td>29110.000000</td>\n",
       "      <td>109.000000</td>\n",
       "      <td>60804.000000</td>\n",
       "      <td>98.000000</td>\n",
       "      <td>329664.000000</td>\n",
       "      <td>1.794060e+06</td>\n",
       "      <td>58.000000</td>\n",
       "      <td>98.000000</td>\n",
       "      <td>54.000000</td>\n",
       "      <td>98.000000</td>\n",
       "      <td>10.000000</td>\n",
       "      <td>1.000000</td>\n",
       "    </tr>\n",
       "  </tbody>\n",
       "</table>\n",
       "</div>"
      ],
      "text/plain": [
       "       RevolvingUtilizationOfUnsecuredLines            age        zipcode  \\\n",
       "count                         100500.000000  100500.000000  100500.000000   \n",
       "mean                               5.776979      52.299900   60649.031194   \n",
       "std                              225.765486      14.757469      56.972299   \n",
       "min                                0.000000      21.000000   60601.000000   \n",
       "25%                                0.029798      41.000000   60625.000000   \n",
       "50%                                0.153185      52.000000   60629.000000   \n",
       "75%                                0.556009      63.000000   60644.000000   \n",
       "max                            29110.000000     109.000000   60804.000000   \n",
       "\n",
       "       NumberOfTime30-59DaysPastDueNotWorse      DebtRatio  MonthlyIncome  \\\n",
       "count                         100500.000000  100500.000000   8.059900e+04   \n",
       "mean                               0.415701     359.022294   6.668052e+03   \n",
       "std                                4.144161    2325.863277   1.259292e+04   \n",
       "min                                0.000000       0.000000   0.000000e+00   \n",
       "25%                                0.000000       0.175024   3.400000e+03   \n",
       "50%                                0.000000       0.366836   5.400000e+03   \n",
       "75%                                0.000000       0.870072   8.271500e+03   \n",
       "max                               98.000000  329664.000000   1.794060e+06   \n",
       "\n",
       "       NumberOfOpenCreditLinesAndLoans  NumberOfTimes90DaysLate  \\\n",
       "count                    100500.000000            100500.000000   \n",
       "mean                          8.460746                 0.261761   \n",
       "std                           5.133744                 4.121003   \n",
       "min                           0.000000                 0.000000   \n",
       "25%                           5.000000                 0.000000   \n",
       "50%                           8.000000                 0.000000   \n",
       "75%                          11.000000                 0.000000   \n",
       "max                          58.000000                98.000000   \n",
       "\n",
       "       NumberRealEstateLoansOrLines  NumberOfTime60-89DaysPastDueNotWorse  \\\n",
       "count                 100500.000000                         100500.000000   \n",
       "mean                       1.020756                              0.235682   \n",
       "std                        1.131555                              4.105851   \n",
       "min                        0.000000                              0.000000   \n",
       "25%                        0.000000                              0.000000   \n",
       "50%                        1.000000                              0.000000   \n",
       "75%                        2.000000                              0.000000   \n",
       "max                       54.000000                             98.000000   \n",
       "\n",
       "       NumberOfDependents  SeriousDlqin2yrs  \n",
       "count        97875.000000     100500.000000  \n",
       "mean             0.756782          0.066567  \n",
       "std              1.111226          0.249272  \n",
       "min              0.000000          0.000000  \n",
       "25%              0.000000          0.000000  \n",
       "50%              0.000000          0.000000  \n",
       "75%              1.000000          0.000000  \n",
       "max             10.000000          1.000000  "
      ]
     },
     "execution_count": 6,
     "metadata": {},
     "output_type": "execute_result"
    }
   ],
   "source": [
    "# General description of data.\n",
    "print(\"Dimension of train dataset: {} rows and {} features.\\n\".format(data.shape[0], data.shape[1]))\n",
    "data.describe()"
   ]
  },
  {
   "cell_type": "code",
   "execution_count": 7,
   "metadata": {
    "collapsed": false
   },
   "outputs": [
    {
     "data": {
      "text/plain": [
       "0    93810\n",
       "1     6690\n",
       "Name: SeriousDlqin2yrs, dtype: int64"
      ]
     },
     "execution_count": 7,
     "metadata": {},
     "output_type": "execute_result"
    },
    {
     "data": {
      "text/plain": [
       "0    0.933433\n",
       "1    0.066567\n",
       "Name: SeriousDlqin2yrs, dtype: float64"
      ]
     },
     "execution_count": 7,
     "metadata": {},
     "output_type": "execute_result"
    }
   ],
   "source": [
    "# What is the distribution of our target variable?\n",
    "data.SeriousDlqin2yrs.value_counts()\n",
    "data.SeriousDlqin2yrs.value_counts(normalize=True)"
   ]
  },
  {
   "cell_type": "markdown",
   "metadata": {},
   "source": [
    "We are trying to predict who experiences 90 days past due delinquency or worse. In our dataset, this only occurs in 6.6% of the cases."
   ]
  },
  {
   "cell_type": "code",
   "execution_count": 8,
   "metadata": {
    "collapsed": false
   },
   "outputs": [
    {
     "data": {
      "text/plain": [
       "60625    0.222736\n",
       "60629    0.112478\n",
       "60804    0.111841\n",
       "60637    0.111453\n",
       "60657    0.110746\n",
       "60618    0.110527\n",
       "60644    0.110219\n",
       "60601    0.110000\n",
       "Name: zipcode, dtype: float64"
      ]
     },
     "execution_count": 8,
     "metadata": {},
     "output_type": "execute_result"
    },
    {
     "data": {
      "image/png": "[encoded data removed]",
      "text/plain": [
       "<matplotlib.figure.Figure at 0x113b15320>"
      ]
     },
     "metadata": {},
     "output_type": "display_data"
    }
   ],
   "source": [
    "# Are ZIP codes equally represented?\n",
    "data.zipcode.value_counts(normalize=True)\n",
    "_ = sns.countplot(y=\"zipcode\", data=data)"
   ]
  },
  {
   "cell_type": "markdown",
   "metadata": {},
   "source": [
    "We only have data from 8 zip codes. The data looks equally distributed across zip codes, except for 60625 being responsible for 22% of the entries."
   ]
  },
  {
   "cell_type": "code",
   "execution_count": 9,
   "metadata": {
    "collapsed": false
   },
   "outputs": [
    {
     "data": {
      "text/html": [
       "<div>\n",
       "<table border=\"1\" class=\"dataframe\">\n",
       "  <thead>\n",
       "    <tr style=\"text-align: right;\">\n",
       "      <th>SeriousDlqin2yrs</th>\n",
       "      <th>0</th>\n",
       "      <th>1</th>\n",
       "      <th>total</th>\n",
       "      <th>perc_of_SeriousDlqin2yrs</th>\n",
       "    </tr>\n",
       "    <tr>\n",
       "      <th>zipcode</th>\n",
       "      <th></th>\n",
       "      <th></th>\n",
       "      <th></th>\n",
       "      <th></th>\n",
       "    </tr>\n",
       "  </thead>\n",
       "  <tbody>\n",
       "    <tr>\n",
       "      <th>60601</th>\n",
       "      <td>10344</td>\n",
       "      <td>711</td>\n",
       "      <td>11055</td>\n",
       "      <td>0.064315</td>\n",
       "    </tr>\n",
       "    <tr>\n",
       "      <th>60618</th>\n",
       "      <td>10356</td>\n",
       "      <td>752</td>\n",
       "      <td>11108</td>\n",
       "      <td>0.067699</td>\n",
       "    </tr>\n",
       "    <tr>\n",
       "      <th>60625</th>\n",
       "      <td>20904</td>\n",
       "      <td>1481</td>\n",
       "      <td>22385</td>\n",
       "      <td>0.066160</td>\n",
       "    </tr>\n",
       "    <tr>\n",
       "      <th>60629</th>\n",
       "      <td>10597</td>\n",
       "      <td>707</td>\n",
       "      <td>11304</td>\n",
       "      <td>0.062544</td>\n",
       "    </tr>\n",
       "    <tr>\n",
       "      <th>60637</th>\n",
       "      <td>10449</td>\n",
       "      <td>752</td>\n",
       "      <td>11201</td>\n",
       "      <td>0.067137</td>\n",
       "    </tr>\n",
       "    <tr>\n",
       "      <th>60644</th>\n",
       "      <td>10337</td>\n",
       "      <td>740</td>\n",
       "      <td>11077</td>\n",
       "      <td>0.066805</td>\n",
       "    </tr>\n",
       "    <tr>\n",
       "      <th>60657</th>\n",
       "      <td>10355</td>\n",
       "      <td>775</td>\n",
       "      <td>11130</td>\n",
       "      <td>0.069632</td>\n",
       "    </tr>\n",
       "    <tr>\n",
       "      <th>60804</th>\n",
       "      <td>10468</td>\n",
       "      <td>772</td>\n",
       "      <td>11240</td>\n",
       "      <td>0.068683</td>\n",
       "    </tr>\n",
       "  </tbody>\n",
       "</table>\n",
       "</div>"
      ],
      "text/plain": [
       "SeriousDlqin2yrs      0     1  total  perc_of_SeriousDlqin2yrs\n",
       "zipcode                                                       \n",
       "60601             10344   711  11055                  0.064315\n",
       "60618             10356   752  11108                  0.067699\n",
       "60625             20904  1481  22385                  0.066160\n",
       "60629             10597   707  11304                  0.062544\n",
       "60637             10449   752  11201                  0.067137\n",
       "60644             10337   740  11077                  0.066805\n",
       "60657             10355   775  11130                  0.069632\n",
       "60804             10468   772  11240                  0.068683"
      ]
     },
     "execution_count": 9,
     "metadata": {},
     "output_type": "execute_result"
    }
   ],
   "source": [
    "# How is our target variable distributed by ZIP code?\n",
    "cross_table = pd.crosstab(data.zipcode, data.SeriousDlqin2yrs)\n",
    "cross_table[\"total\"] = cross_table[0] + cross_table[1]\n",
    "cross_table[\"perc_of_SeriousDlqin2yrs\"] = cross_table[1] / cross_table[\"total\"]\n",
    "cross_table"
   ]
  },
  {
   "cell_type": "markdown",
   "metadata": {},
   "source": [
    "While the ZIP code 60625 has the most entries in the dataset, the relative rate of individuals experiencing 90 days past due delinquency or worse is relatively stable across all ZIP codes."
   ]
  },
  {
   "cell_type": "code",
   "execution_count": 10,
   "metadata": {
    "collapsed": false
   },
   "outputs": [
    {
     "data": {
      "text/html": [
       "<div>\n",
       "<table border=\"1\" class=\"dataframe\">\n",
       "  <thead>\n",
       "    <tr style=\"text-align: right;\">\n",
       "      <th></th>\n",
       "      <th>RevolvingUtilizationOfUnsecuredLines</th>\n",
       "      <th>age</th>\n",
       "      <th>zipcode</th>\n",
       "      <th>NumberOfTime30-59DaysPastDueNotWorse</th>\n",
       "      <th>DebtRatio</th>\n",
       "      <th>MonthlyIncome</th>\n",
       "      <th>NumberOfOpenCreditLinesAndLoans</th>\n",
       "      <th>NumberOfTimes90DaysLate</th>\n",
       "      <th>NumberRealEstateLoansOrLines</th>\n",
       "      <th>NumberOfTime60-89DaysPastDueNotWorse</th>\n",
       "      <th>NumberOfDependents</th>\n",
       "    </tr>\n",
       "    <tr>\n",
       "      <th>SeriousDlqin2yrs</th>\n",
       "      <th></th>\n",
       "      <th></th>\n",
       "      <th></th>\n",
       "      <th></th>\n",
       "      <th></th>\n",
       "      <th></th>\n",
       "      <th></th>\n",
       "      <th></th>\n",
       "      <th></th>\n",
       "      <th></th>\n",
       "      <th></th>\n",
       "    </tr>\n",
       "  </thead>\n",
       "  <tbody>\n",
       "    <tr>\n",
       "      <th>0</th>\n",
       "      <td>5.893740</td>\n",
       "      <td>52.754408</td>\n",
       "      <td>60648.969332</td>\n",
       "      <td>0.277966</td>\n",
       "      <td>363.559256</td>\n",
       "      <td>6740.956158</td>\n",
       "      <td>8.500501</td>\n",
       "      <td>0.134165</td>\n",
       "      <td>1.022109</td>\n",
       "      <td>0.124891</td>\n",
       "      <td>0.743352</td>\n",
       "    </tr>\n",
       "    <tr>\n",
       "      <th>1</th>\n",
       "      <td>4.139708</td>\n",
       "      <td>45.926607</td>\n",
       "      <td>60649.898655</td>\n",
       "      <td>2.347085</td>\n",
       "      <td>295.403101</td>\n",
       "      <td>5687.716257</td>\n",
       "      <td>7.903288</td>\n",
       "      <td>2.050972</td>\n",
       "      <td>1.001794</td>\n",
       "      <td>1.789238</td>\n",
       "      <td>0.943388</td>\n",
       "    </tr>\n",
       "  </tbody>\n",
       "</table>\n",
       "</div>"
      ],
      "text/plain": [
       "                  RevolvingUtilizationOfUnsecuredLines        age  \\\n",
       "SeriousDlqin2yrs                                                    \n",
       "0                                             5.893740  52.754408   \n",
       "1                                             4.139708  45.926607   \n",
       "\n",
       "                       zipcode  NumberOfTime30-59DaysPastDueNotWorse  \\\n",
       "SeriousDlqin2yrs                                                       \n",
       "0                 60648.969332                              0.277966   \n",
       "1                 60649.898655                              2.347085   \n",
       "\n",
       "                   DebtRatio  MonthlyIncome  NumberOfOpenCreditLinesAndLoans  \\\n",
       "SeriousDlqin2yrs                                                               \n",
       "0                 363.559256    6740.956158                         8.500501   \n",
       "1                 295.403101    5687.716257                         7.903288   \n",
       "\n",
       "                  NumberOfTimes90DaysLate  NumberRealEstateLoansOrLines  \\\n",
       "SeriousDlqin2yrs                                                          \n",
       "0                                0.134165                      1.022109   \n",
       "1                                2.050972                      1.001794   \n",
       "\n",
       "                  NumberOfTime60-89DaysPastDueNotWorse  NumberOfDependents  \n",
       "SeriousDlqin2yrs                                                            \n",
       "0                                             0.124891            0.743352  \n",
       "1                                             1.789238            0.943388  "
      ]
     },
     "execution_count": 10,
     "metadata": {},
     "output_type": "execute_result"
    }
   ],
   "source": [
    "# What is the mean of a variable for target = 1 and target = 0?\n",
    "data.groupby(\"SeriousDlqin2yrs\").mean()"
   ]
  },
  {
   "cell_type": "markdown",
   "metadata": {},
   "source": [
    "On average, individuals experiencing 90 days past due delinquency or worse ...\n",
    "    - are younger (46.1 vs 52.75)\n",
    "    - have a lower income (5684 vs 6806)\n",
    "    - have a lower debt ratio (297 vs 352). However, these means are likely influenced by outliers or come from cases without monthly income/ with no reported income. Therefore, this comparison only holds if we assume that no income/no reported income shows same distribution across target variable.\n",
    "    - have a lower amount of open credit lines and loans (7.86 vs 8.5)\n",
    "    - have more dependents (0.96 vs 0.74)\n",
    "    - have been more often 30-59/60-89/90 days past due but no worse in the last 2 years."
   ]
  },
  {
   "cell_type": "code",
   "execution_count": 11,
   "metadata": {
    "collapsed": true
   },
   "outputs": [],
   "source": [
    "def plot_correlations(df, title):\n",
    "    \"\"\"\n",
    "    In:\n",
    "        - df: pandas dataframe\n",
    "        - title: title for plot\n",
    "    Out:\n",
    "        -\n",
    "    \"\"\"\n",
    "    ax = plt.axes();\n",
    "    corr = df.corr()\n",
    "    sns.heatmap(corr, xticklabels=corr.columns.values, yticklabels=corr.columns.values, ax=ax);\n",
    "    ax.set_title(title);"
   ]
  },
  {
   "cell_type": "code",
   "execution_count": 12,
   "metadata": {
    "collapsed": false
   },
   "outputs": [
    {
     "data": {
      "image/png": "[encoded data removed]",
      "text/plain": [
       "<matplotlib.figure.Figure at 0x111b16470>"
      ]
     },
     "metadata": {},
     "output_type": "display_data"
    }
   ],
   "source": [
    "# How are the variables correlated with each other?\n",
    "plot_correlations(data, 'Correlation matrix')"
   ]
  },
  {
   "cell_type": "code",
   "execution_count": 13,
   "metadata": {
    "collapsed": true
   },
   "outputs": [],
   "source": [
    "#Answer:"
   ]
  },
  {
   "cell_type": "markdown",
   "metadata": {},
   "source": [
    "----\n",
    "# Pre-Processing"
   ]
  },
  {
   "cell_type": "code",
   "execution_count": 14,
   "metadata": {
    "collapsed": false
   },
   "outputs": [
    {
     "data": {
      "text/html": [
       "<div>\n",
       "<table border=\"1\" class=\"dataframe\">\n",
       "  <thead>\n",
       "    <tr style=\"text-align: right;\">\n",
       "      <th></th>\n",
       "      <th>RevolvingUtilizationOfUnsecuredLines</th>\n",
       "      <th>age</th>\n",
       "      <th>zipcode</th>\n",
       "      <th>NumberOfTime30-59DaysPastDueNotWorse</th>\n",
       "      <th>DebtRatio</th>\n",
       "      <th>MonthlyIncome</th>\n",
       "      <th>NumberOfOpenCreditLinesAndLoans</th>\n",
       "      <th>NumberOfTimes90DaysLate</th>\n",
       "      <th>NumberRealEstateLoansOrLines</th>\n",
       "      <th>NumberOfTime60-89DaysPastDueNotWorse</th>\n",
       "      <th>NumberOfDependents</th>\n",
       "      <th>SeriousDlqin2yrs</th>\n",
       "    </tr>\n",
       "    <tr>\n",
       "      <th>PersonID</th>\n",
       "      <th></th>\n",
       "      <th></th>\n",
       "      <th></th>\n",
       "      <th></th>\n",
       "      <th></th>\n",
       "      <th></th>\n",
       "      <th></th>\n",
       "      <th></th>\n",
       "      <th></th>\n",
       "      <th></th>\n",
       "      <th></th>\n",
       "      <th></th>\n",
       "    </tr>\n",
       "  </thead>\n",
       "  <tbody>\n",
       "    <tr>\n",
       "      <th>27249</th>\n",
       "      <td>0.129136</td>\n",
       "      <td>49</td>\n",
       "      <td>60625</td>\n",
       "      <td>0</td>\n",
       "      <td>0.115019</td>\n",
       "      <td>1051.0</td>\n",
       "      <td>5</td>\n",
       "      <td>0</td>\n",
       "      <td>0</td>\n",
       "      <td>0</td>\n",
       "      <td>0.0</td>\n",
       "      <td>0</td>\n",
       "    </tr>\n",
       "    <tr>\n",
       "      <th>3324</th>\n",
       "      <td>0.579785</td>\n",
       "      <td>30</td>\n",
       "      <td>60618</td>\n",
       "      <td>1</td>\n",
       "      <td>0.414662</td>\n",
       "      <td>4446.0</td>\n",
       "      <td>12</td>\n",
       "      <td>0</td>\n",
       "      <td>1</td>\n",
       "      <td>0</td>\n",
       "      <td>0.0</td>\n",
       "      <td>0</td>\n",
       "    </tr>\n",
       "    <tr>\n",
       "      <th>46381</th>\n",
       "      <td>0.038469</td>\n",
       "      <td>55</td>\n",
       "      <td>60625</td>\n",
       "      <td>3</td>\n",
       "      <td>0.261249</td>\n",
       "      <td>12600.0</td>\n",
       "      <td>16</td>\n",
       "      <td>0</td>\n",
       "      <td>3</td>\n",
       "      <td>0</td>\n",
       "      <td>2.0</td>\n",
       "      <td>0</td>\n",
       "    </tr>\n",
       "    <tr>\n",
       "      <th>40941</th>\n",
       "      <td>0.093356</td>\n",
       "      <td>79</td>\n",
       "      <td>60625</td>\n",
       "      <td>0</td>\n",
       "      <td>0.009736</td>\n",
       "      <td>7600.0</td>\n",
       "      <td>5</td>\n",
       "      <td>0</td>\n",
       "      <td>0</td>\n",
       "      <td>0</td>\n",
       "      <td>0.0</td>\n",
       "      <td>0</td>\n",
       "    </tr>\n",
       "    <tr>\n",
       "      <th>10912</th>\n",
       "      <td>0.177456</td>\n",
       "      <td>44</td>\n",
       "      <td>60804</td>\n",
       "      <td>0</td>\n",
       "      <td>21.000000</td>\n",
       "      <td>NaN</td>\n",
       "      <td>2</td>\n",
       "      <td>0</td>\n",
       "      <td>0</td>\n",
       "      <td>0</td>\n",
       "      <td>0.0</td>\n",
       "      <td>0</td>\n",
       "    </tr>\n",
       "  </tbody>\n",
       "</table>\n",
       "</div>"
      ],
      "text/plain": [
       "          RevolvingUtilizationOfUnsecuredLines  age  zipcode  \\\n",
       "PersonID                                                       \n",
       "27249                                 0.129136   49    60625   \n",
       "3324                                  0.579785   30    60618   \n",
       "46381                                 0.038469   55    60625   \n",
       "40941                                 0.093356   79    60625   \n",
       "10912                                 0.177456   44    60804   \n",
       "\n",
       "          NumberOfTime30-59DaysPastDueNotWorse  DebtRatio  MonthlyIncome  \\\n",
       "PersonID                                                                   \n",
       "27249                                        0   0.115019         1051.0   \n",
       "3324                                         1   0.414662         4446.0   \n",
       "46381                                        3   0.261249        12600.0   \n",
       "40941                                        0   0.009736         7600.0   \n",
       "10912                                        0  21.000000            NaN   \n",
       "\n",
       "          NumberOfOpenCreditLinesAndLoans  NumberOfTimes90DaysLate  \\\n",
       "PersonID                                                             \n",
       "27249                                   5                        0   \n",
       "3324                                   12                        0   \n",
       "46381                                  16                        0   \n",
       "40941                                   5                        0   \n",
       "10912                                   2                        0   \n",
       "\n",
       "          NumberRealEstateLoansOrLines  NumberOfTime60-89DaysPastDueNotWorse  \\\n",
       "PersonID                                                                       \n",
       "27249                                0                                     0   \n",
       "3324                                 1                                     0   \n",
       "46381                                3                                     0   \n",
       "40941                                0                                     0   \n",
       "10912                                0                                     0   \n",
       "\n",
       "          NumberOfDependents  SeriousDlqin2yrs  \n",
       "PersonID                                        \n",
       "27249                    0.0                 0  \n",
       "3324                     0.0                 0  \n",
       "46381                    2.0                 0  \n",
       "40941                    0.0                 0  \n",
       "10912                    0.0                 0  "
      ]
     },
     "execution_count": 14,
     "metadata": {},
     "output_type": "execute_result"
    }
   ],
   "source": [
    "data.head()"
   ]
  },
  {
   "cell_type": "code",
   "execution_count": 15,
   "metadata": {
    "collapsed": true
   },
   "outputs": [],
   "source": [
    "def keep_track_of_missing_values(df):\n",
    "    \"\"\"\n",
    "    Adds columns indicating if original columns had \n",
    "    missing values.\n",
    "    In:\n",
    "        - df: pandas df\n",
    "    Out:\n",
    "        - df: function modifies df inplace\n",
    "        - list of newly created columns\n",
    "    \"\"\"\n",
    "    new_columns = []\n",
    "    \n",
    "    for column in df:\n",
    "        \n",
    "        if df[column].isnull().values.any():\n",
    "            new_col_name = column + \"_missing\"\n",
    "            new_col = np.zeros(len(df), dtype=np.int)\n",
    "            new_col[df[column].isnull()] = 1\n",
    "            df[new_col_name] = new_col\n",
    "            new_columns.append(new_col_name)\n",
    "    return new_columns"
   ]
  },
  {
   "cell_type": "code",
   "execution_count": 16,
   "metadata": {
    "collapsed": false
   },
   "outputs": [],
   "source": [
    "def fill_missing_values_with_class_mean(df, key):\n",
    "    \"\"\"\n",
    "    Replaces missing values with mean of class.\n",
    "    In:\n",
    "        - df: pandas df\n",
    "        - key: column for classes\n",
    "    Out:\n",
    "        - df\n",
    "    \"\"\"\n",
    "    key_col = df[key]\n",
    "    df = df.groupby(key).transform(lambda x: x.fillna(x.mean()))\n",
    "    df[key] = key_col\n",
    "    return df"
   ]
  },
  {
   "cell_type": "code",
   "execution_count": 17,
   "metadata": {
    "collapsed": false
   },
   "outputs": [
    {
     "name": "stdout",
     "output_type": "stream",
     "text": [
      "['MonthlyIncome_missing', 'NumberOfDependents_missing']\n"
     ]
    },
    {
     "data": {
      "image/png": "[encoded data removed]",
      "text/plain": [
       "<matplotlib.figure.Figure at 0x10d7a6320>"
      ]
     },
     "metadata": {},
     "output_type": "display_data"
    }
   ],
   "source": [
    "new_columns = keep_track_of_missing_values(data)\n",
    "data = fill_missing_values_with_class_mean(data, \"SeriousDlqin2yrs\")"
   ]
  },
  {
   "cell_type": "code",
   "execution_count": null,
   "metadata": {
    "collapsed": true
   },
   "outputs": [],
   "source": [
    "#Are the missing values correlated with our target?\n",
    "plot_correlations(data[new_columns + [\"SeriousDlqin2yrs\"]], 'Correlation matrix')"
   ]
  },
  {
   "cell_type": "markdown",
   "metadata": {},
   "source": [
    "There is no correlation between missing values and our target _SeriousDlqin2yrs_."
   ]
  },
  {
   "cell_type": "markdown",
   "metadata": {},
   "source": [
    "----\n",
    "# Building Features"
   ]
  },
  {
   "cell_type": "code",
   "execution_count": 18,
   "metadata": {
    "collapsed": true
   },
   "outputs": [],
   "source": [
    "def discretize_cont_var(df, cont_var, n, drop=False):\n",
    "    \"\"\"\n",
    "    Discretizes  continuous variable.\n",
    "    In:\n",
    "        - df: pandas dataframe\n",
    "        - cont_var: continues variable to be discretized\n",
    "        - n: number of percentiles\n",
    "        - drop: (bool) to drop continous variable\n",
    "    Out:\n",
    "        - df\n",
    "    \"\"\"\n",
    "    step_size = 1/n\n",
    "    bucket_array = np.arange(0, 1+step_size, step_size)\n",
    "    \n",
    "    df[cont_var + \"_disc\"] = pd.qcut(data[cont_var], bucket_array)\n",
    "    df = pd.get_dummies(df, columns=[cont_var + \"_disc\"])\n",
    "    \n",
    "    if drop:\n",
    "        del df[cont_var]\n",
    "    \n",
    "    return df"
   ]
  },
  {
   "cell_type": "code",
   "execution_count": 19,
   "metadata": {
    "collapsed": true
   },
   "outputs": [],
   "source": [
    "def dummify_var(df, cat_vars):\n",
    "    \"\"\"\n",
    "    Takes categorical variable and creates binary/dummy variables from it.\n",
    "    In:\n",
    "        - df: pandas dataframe\n",
    "        - cat_vars: list of categorical variables\n",
    "    Out:\n",
    "        - df: pandas dataframe\n",
    "    \"\"\"\n",
    "    return pd.get_dummies(df, columns=cat_vars)"
   ]
  },
  {
   "cell_type": "code",
   "execution_count": 20,
   "metadata": {
    "collapsed": false
   },
   "outputs": [],
   "source": [
    "data = discretize_cont_var(data, \"age\", 10)\n",
    "data = dummify_var(data, [\"zipcode\"])"
   ]
  },
  {
   "cell_type": "code",
   "execution_count": null,
   "metadata": {
    "collapsed": true
   },
   "outputs": [],
   "source": []
  },
  {
   "cell_type": "code",
   "execution_count": null,
   "metadata": {
    "collapsed": true
   },
   "outputs": [],
   "source": []
  },
  {
   "cell_type": "markdown",
   "metadata": {},
   "source": [
    "----\n",
    "# Training Classifiers"
   ]
  },
  {
   "cell_type": "code",
   "execution_count": 21,
   "metadata": {
    "collapsed": false
   },
   "outputs": [],
   "source": [
    "X_train, X_test, y_train, y_test = train_test_split(data.drop([\"SeriousDlqin2yrs\"], axis=1), data[\"SeriousDlqin2yrs\"], \n",
    "                                                    test_size=0.33, random_state=42)"
   ]
  },
  {
   "cell_type": "code",
   "execution_count": 22,
   "metadata": {
    "collapsed": false
   },
   "outputs": [
    {
     "data": {
      "text/plain": [
       "0    0.93418\n",
       "1    0.06582\n",
       "Name: SeriousDlqin2yrs, dtype: float64"
      ]
     },
     "execution_count": 22,
     "metadata": {},
     "output_type": "execute_result"
    },
    {
     "data": {
      "text/plain": [
       "0    0.931916\n",
       "1    0.068084\n",
       "Name: SeriousDlqin2yrs, dtype: float64"
      ]
     },
     "execution_count": 22,
     "metadata": {},
     "output_type": "execute_result"
    }
   ],
   "source": [
    "y_train.value_counts(normalize=True)\n",
    "y_test.value_counts(normalize=True)"
   ]
  },
  {
   "cell_type": "code",
   "execution_count": 23,
   "metadata": {
    "collapsed": false
   },
   "outputs": [
    {
     "data": {
      "text/plain": [
       "Index(['RevolvingUtilizationOfUnsecuredLines', 'age',\n",
       "       'NumberOfTime30-59DaysPastDueNotWorse', 'DebtRatio', 'MonthlyIncome',\n",
       "       'NumberOfOpenCreditLinesAndLoans', 'NumberOfTimes90DaysLate',\n",
       "       'NumberRealEstateLoansOrLines', 'NumberOfTime60-89DaysPastDueNotWorse',\n",
       "       'NumberOfDependents', 'MonthlyIncome_missing',\n",
       "       'NumberOfDependents_missing', 'age_disc_[21, 33]', 'age_disc_(33, 39]',\n",
       "       'age_disc_(39, 44]', 'age_disc_(44, 48]', 'age_disc_(48, 52]',\n",
       "       'age_disc_(52, 56]', 'age_disc_(56, 61]', 'age_disc_(61, 65]',\n",
       "       'age_disc_(65, 72]', 'age_disc_(72, 109]', 'zipcode_60601',\n",
       "       'zipcode_60618', 'zipcode_60625', 'zipcode_60629', 'zipcode_60637',\n",
       "       'zipcode_60644', 'zipcode_60657', 'zipcode_60804'],\n",
       "      dtype='object')"
      ]
     },
     "execution_count": 23,
     "metadata": {},
     "output_type": "execute_result"
    }
   ],
   "source": [
    "X_train.columns"
   ]
  },
  {
   "cell_type": "code",
   "execution_count": null,
   "metadata": {
    "collapsed": true
   },
   "outputs": [],
   "source": []
  }
 ],
 "metadata": {
  "anaconda-cloud": {},
  "kernelspec": {
   "display_name": "Python [Root]",
   "language": "python",
   "name": "Python [Root]"
  },
  "language_info": {
   "codemirror_mode": {
    "name": "ipython",
    "version": 3
   },
   "file_extension": ".py",
   "mimetype": "text/x-python",
   "name": "python",
   "nbconvert_exporter": "python",
   "pygments_lexer": "ipython3",
   "version": "3.5.2"
  }
 },
 "nbformat": 4,
 "nbformat_minor": 0
}
