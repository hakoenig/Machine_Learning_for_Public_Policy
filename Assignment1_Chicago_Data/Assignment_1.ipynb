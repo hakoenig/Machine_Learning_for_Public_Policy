{
 "cells": [
  {
   "cell_type": "code",
   "execution_count": 1,
   "metadata": {
    "collapsed": true
   },
   "outputs": [],
   "source": [
    "%matplotlib inline\n",
    "\n",
    "import io\n",
    "import os.path\n",
    "import requests\n",
    "import csv\n",
    "import math\n",
    "import json\n",
    "import requests\n",
    "import time\n",
    "import pandas as pd\n",
    "import statsmodels.formula.api as sm\n",
    "import matplotlib.pyplot as plt\n",
    "from requests.auth import HTTPBasicAuth\n",
    "from ast import literal_eval as make_tuple\n",
    "from IPython.core.interactiveshell import InteractiveShell\n",
    "InteractiveShell.ast_node_interactivity = \"all\""
   ]
  },
  {
   "cell_type": "code",
   "execution_count": 2,
   "metadata": {
    "collapsed": true
   },
   "outputs": [],
   "source": [
    "graffiti_url = \"https://data.cityofchicago.org/api/views/hec5-y4x5/rows.csv\"\n",
    "sanitation_url = \"https://data.cityofchicago.org/api/views/me59-5fac/rows.csv\"\n",
    "pothole_url = \"https://data.cityofchicago.org/api/views/7as2-ds3y/rows.csv\"\n",
    "vacant_buildings_url = \"https://data.cityofchicago.org/api/views/7nii-7srd/rows.csv\"\n",
    "community_area_url = \"https://data.cityofchicago.org/api/views/kn9c-c2s2/rows.csv\"\n",
    "#\"https://data.cityofchicago.org/Health-Human-Services/Census-Data-Selected-socioeconomic-indicators-in-C/kn9c-c2s2\"\n",
    "\n",
    "data_dict = {\"graffiti\": (\"data/graffiti.csv\", graffiti_url),\n",
    "             \"sanitation\": (\"data/sanitation.csv\", sanitation_url),\n",
    "             \"pothole\": (\"data/pothole.csv\", pothole_url),\n",
    "             \"buildings\": (\"data/buildings.csv\", vacant_buildings_url),\n",
    "             \"community_area\": (\"data/community_area.csv\", community_area_url),\n",
    "            }"
   ]
  },
  {
   "cell_type": "code",
   "execution_count": 3,
   "metadata": {
    "collapsed": false
   },
   "outputs": [],
   "source": [
    "def get_data(data_type):\n",
    "    \n",
    "    file, url = data_dict[data_type]\n",
    "    \n",
    "    if os.path.exists(file):\n",
    "        return pd.read_csv(file, index_col=0)\n",
    "    else:\n",
    "        content = requests.get(url).content\n",
    "        \n",
    "        data = pd.read_csv(io.StringIO(content.decode('utf-8')))\n",
    "        \n",
    "        # two csv files have duplicate header rows\n",
    "        if data_type == \"sanitation\" or data_type == \"buildings\":\n",
    "            data.drop([0], inplace=True)\n",
    "            data.reset_index(drop=True, inplace=True)\n",
    "        \n",
    "        data.columns = [x.lower() for x in data.columns]\n",
    "        data.to_csv(file)\n",
    "        \n",
    "    return data"
   ]
  },
  {
   "cell_type": "code",
   "execution_count": 4,
   "metadata": {
    "collapsed": false
   },
   "outputs": [],
   "source": [
    "graffiti_data = get_data(\"graffiti\")\n",
    "sanitation_data = get_data(\"sanitation\")\n",
    "pothole_data = get_data(\"pothole\")\n",
    "buildings_data = get_data(\"buildings\")\n",
    "community_area_data = get_data(\"community_area\")\n",
    "\n",
    "#dropping last row from community_area_data, because null value\n",
    "community_area_data.drop(community_area_data.index[len(community_area_data) - 1], inplace=True)"
   ]
  },
  {
   "cell_type": "code",
   "execution_count": 5,
   "metadata": {
    "collapsed": false
   },
   "outputs": [
    {
     "name": "stdout",
     "output_type": "stream",
     "text": [
      "type of service request\n",
      "street address\n",
      "completion date\n",
      "creation date\n",
      "status\n"
     ]
    }
   ],
   "source": [
    "# column names are different for buildings and all other tables\n",
    "# checking which building columns are unique\n",
    "for col_name in set(graffiti_data.columns).intersection(sanitation_data.columns).intersection(pothole_data.columns):\n",
    "    if col_name not in buildings_data.columns:\n",
    "        print(col_name)"
   ]
  },
  {
   "cell_type": "code",
   "execution_count": 6,
   "metadata": {
    "collapsed": true
   },
   "outputs": [],
   "source": [
    "buildings_data.columns = [\n",
    "    'type of service request', 'service request number',\n",
    "       'creation date',\n",
    "       'location of building on the lot (if garage, change type code to bgd).',\n",
    "       'is the building dangerous or hazardous?',\n",
    "       'is building open or boarded?',\n",
    "       'if the building is open, where is the entry point?',\n",
    "       'is the building currently vacant or occupied?',\n",
    "       'is the building vacant due to fire?',\n",
    "       'any people using property? (homeless, childen, gangs)',\n",
    "       'address street number', 'address street direction',\n",
    "       'address street name', 'address street suffix', 'zip code',\n",
    "       'x coordinate', 'y coordinate', 'ward', 'police district',\n",
    "       'community area', 'latitude', 'longitude', 'location'\n",
    "]\n",
    "\n",
    "pothole_data.columns = ['creation date', 'status', 'completion date', 'service request number',\n",
    "       'type of service request', 'current activity', 'most recent action',\n",
    "       'number of potholes filled on block', 'street address', 'zip code',\n",
    "       'x coordinate', 'y coordinate', 'ward', 'police district',\n",
    "       'community area', 'ssa', 'latitude', 'longitude', 'location']"
   ]
  },
  {
   "cell_type": "code",
   "execution_count": 7,
   "metadata": {
    "collapsed": false
   },
   "outputs": [],
   "source": [
    "data = graffiti_data.append(sanitation_data)\n",
    "data = data.append(pothole_data)\n",
    "data = data.append(buildings_data)\n",
    "\n",
    "data.reset_index(drop=True, inplace=True)\n",
    "\n",
    "#chaning format of zip code\n",
    "data[\"zip code\"] = data[\"zip code\"].astype(str).str.replace(\"\\.0\",\"\")\n",
    "\n",
    "# Found entries of Pot Hole and Pothole; Unifying.\n",
    "data.replace(to_replace={\"type of service request\": {'Pot Hole in Street': 'Pothole in Street'}},\n",
    "                 inplace=True)"
   ]
  },
  {
   "cell_type": "code",
   "execution_count": 8,
   "metadata": {
    "collapsed": true
   },
   "outputs": [],
   "source": [
    "# calc response time by city\n",
    "data[\"completion date\"] = pd.to_datetime(data[\"completion date\"], format=\"%m/%d/%Y\")\n",
    "data[\"creation date\"] = pd.to_datetime(data[\"creation date\"], format=\"%m/%d/%Y\")\n",
    "data[\"response time\"] = data[\"completion date\"] - data[\"creation date\"]"
   ]
  },
  {
   "cell_type": "markdown",
   "metadata": {},
   "source": [
    "----\n",
    "## Summary Statistics"
   ]
  },
  {
   "cell_type": "code",
   "execution_count": 9,
   "metadata": {
    "collapsed": false
   },
   "outputs": [
    {
     "name": "stdout",
     "output_type": "stream",
     "text": [
      "Graffiti Removal             855183\n",
      "Pothole in Street            457871\n",
      "Sanitation Code Violation    118826\n",
      "Vacant/Abandoned Building     58733\n",
      "Name: type of service request, dtype: int64\n",
      "\n",
      "Graffiti Removal             0.573712\n",
      "Pothole in Street            0.307170\n",
      "Sanitation Code Violation    0.079716\n",
      "Vacant/Abandoned Building    0.039402\n",
      "Name: type of service request, dtype: float64\n"
     ]
    }
   ],
   "source": [
    "print(data[\"type of service request\"].value_counts())\n",
    "print()\n",
    "print(data[\"type of service request\"].value_counts(normalize=True))"
   ]
  },
  {
   "cell_type": "code",
   "execution_count": 10,
   "metadata": {
    "collapsed": false
   },
   "outputs": [
    {
     "name": "stdout",
     "output_type": "stream",
     "text": [
      "1926-02-05 00:00:00\n",
      "2017-03-29 00:00:00\n",
      "2009-01-12 00:00:00\n",
      "2017-03-29 00:00:00\n",
      "2000-01-03 00:00:00\n",
      "2017-03-29 00:00:00\n",
      "2008-01-18 00:00:00\n",
      "2017-03-29 00:00:00\n"
     ]
    }
   ],
   "source": [
    "service_requests = [\"Graffiti Removal\", \"Pothole in Street\", \n",
    "                    \"Sanitation Code Violation\", \"Vacant/Abandoned Building\"]\n",
    "\n",
    "for service in service_requests:\n",
    "    service_data = data[data[\"type of service request\"] == service][[\"creation date\"]]\n",
    "    print(min(service_data[\"creation date\"]))\n",
    "    print(max(service_data[\"creation date\"]))"
   ]
  },
  {
   "cell_type": "code",
   "execution_count": 11,
   "metadata": {
    "collapsed": true
   },
   "outputs": [],
   "source": [
    "# there are data entries from 1926; likely wrong data entry\n",
    "# for comparison purposes, we only look at data starting in 2009\n",
    "\n",
    "data = data[data[\"creation date\"] > \"2009-01-15 00:00:00\"]"
   ]
  },
  {
   "cell_type": "code",
   "execution_count": 12,
   "metadata": {
    "collapsed": false
   },
   "outputs": [
    {
     "data": {
      "text/plain": [
       "[<matplotlib.lines.Line2D at 0x1309d9a20>]"
      ]
     },
     "execution_count": 12,
     "metadata": {},
     "output_type": "execute_result"
    },
    {
     "data": {
      "text/plain": [
       "[<matplotlib.lines.Line2D at 0x1309d95c0>]"
      ]
     },
     "execution_count": 12,
     "metadata": {},
     "output_type": "execute_result"
    },
    {
     "data": {
      "text/plain": [
       "[<matplotlib.lines.Line2D at 0x1309d9f28>]"
      ]
     },
     "execution_count": 12,
     "metadata": {},
     "output_type": "execute_result"
    },
    {
     "data": {
      "text/plain": [
       "[<matplotlib.lines.Line2D at 0x10f177ac8>]"
      ]
     },
     "execution_count": 12,
     "metadata": {},
     "output_type": "execute_result"
    },
    {
     "data": {
      "text/plain": [
       "<matplotlib.text.Text at 0x1309e1c50>"
      ]
     },
     "execution_count": 12,
     "metadata": {},
     "output_type": "execute_result"
    },
    {
     "data": {
      "text/plain": [
       "<matplotlib.text.Text at 0x1309dabe0>"
      ]
     },
     "execution_count": 12,
     "metadata": {},
     "output_type": "execute_result"
    },
    {
     "data": {
      "text/plain": [
       "<matplotlib.legend.Legend at 0x14d63f978>"
      ]
     },
     "execution_count": 12,
     "metadata": {},
     "output_type": "execute_result"
    },
    {
     "data": {
      "image/png": "[encoded data removed]",
      "text/plain": [
       "<matplotlib.figure.Figure at 0x14d63f9b0>"
      ]
     },
     "metadata": {},
     "output_type": "display_data"
    }
   ],
   "source": [
    "fig, ax = plt.subplots()\n",
    "\n",
    "service_requests = [\"Graffiti Removal\", \"Pothole in Street\", \n",
    "                    \"Sanitation Code Violation\", \"Vacant/Abandoned Building\"]\n",
    "\n",
    "for service in service_requests:\n",
    "\n",
    "    serv_data = data[data[\"type of service request\"] == service][[\"creation date\", \"type of service request\"]]\n",
    "    grouped_by = serv_data.groupby(\"creation date\").count()\n",
    "\n",
    "    ax.plot(grouped_by.index, grouped_by['type of service request'], label=service)\n",
    "\n",
    "plt.xlabel(\"Date\")\n",
    "plt.ylabel(\"# of Requests\")\n",
    "ax.legend(bbox_to_anchor=(1.05, 1), loc=2, borderaxespad=0.)\n",
    "plt.show()"
   ]
  },
  {
   "cell_type": "code",
   "execution_count": 13,
   "metadata": {
    "collapsed": false
   },
   "outputs": [
    {
     "name": "stdout",
     "output_type": "stream",
     "text": [
      "For service request: -- Graffiti Removal --, the 5 ZIP codes with the most requests are:\n",
      "   zip code  count  % of requests\n",
      "32    60632  94954      11.104861\n",
      "8     60608  73968       8.650550\n",
      "47    60647  66962       7.831199\n",
      "18    60618  62354       7.292294\n",
      "23    60623  51463       6.018593\n",
      "\n",
      "For service request: -- Pothole in Street --, the 5 ZIP codes with the most requests are:\n",
      "   zip code  count  % of requests\n",
      "29    60629  18456       4.030838\n",
      "28    60628  15620       3.411449\n",
      "17    60617  15471       3.378907\n",
      "18    60618  15026       3.281718\n",
      "47    60647  14891       3.252233\n",
      "\n",
      "For service request: -- Sanitation Code Violation --, the 5 ZIP codes with the most requests are:\n",
      "   zip code  count  % of requests\n",
      "20    60620   6010       5.059008\n",
      "19    60619   5217       4.391488\n",
      "27    60628   5202       4.378862\n",
      "18    60618   4670       3.931043\n",
      "17    60617   4527       3.810670\n",
      "\n",
      "For service request: -- Vacant/Abandoned Building --, the 5 ZIP codes with the most requests are:\n",
      "   zip code  count  % of requests\n",
      "35    60636   5939      10.117719\n",
      "27    60628   5698       9.707150\n",
      "21    60621   4058       6.913235\n",
      "17    60617   4030       6.865534\n",
      "20    60620   3635       6.192610\n",
      "\n"
     ]
    }
   ],
   "source": [
    "# count most and least often requesting zip code by service request \n",
    "for service in service_requests:\n",
    "\n",
    "    serv_data = data[data[\"type of service request\"] == service][[\"type of service request\", \"zip code\"]]\n",
    "    n_rows = len(serv_data)\n",
    "    \n",
    "    grouped_by = serv_data.groupby(\"zip code\", as_index=False).count()\n",
    "    grouped_by = grouped_by.sort_values('type of service request', ascending=False)\n",
    "    \n",
    "    grouped_by[\"pct\"] = grouped_by[\"type of service request\"].apply(lambda x: 100 * x / n_rows)\n",
    "    grouped_by.columns = [\"zip code\", \"count\", \"% of requests\"]\n",
    "    \n",
    "    print(\"For service request: -- {} --, the 5 ZIP codes with the most requests are:\\n{}\\n\".\n",
    "          format(service, grouped_by.head(5)))"
   ]
  },
  {
   "cell_type": "markdown",
   "metadata": {
    "collapsed": true
   },
   "source": [
    "### Open Question: \n",
    "\n",
    "- How is the amount of requests influenced by population size in that zip code? I.e., which ZIP code population is more likely to call 311?"
   ]
  },
  {
   "cell_type": "code",
   "execution_count": 14,
   "metadata": {
    "collapsed": false
   },
   "outputs": [
    {
     "name": "stdout",
     "output_type": "stream",
     "text": [
      "\n",
      "Data for:  Graffiti Removal\n"
     ]
    },
    {
     "data": {
      "text/plain": [
       "count    854844.000000\n",
       "mean          4.416442\n",
       "std          17.194354\n",
       "min           0.000000\n",
       "25%           0.000000\n",
       "50%           1.000000\n",
       "75%           3.000000\n",
       "max        2528.000000\n",
       "Name: response time, dtype: float64"
      ]
     },
     "execution_count": 14,
     "metadata": {},
     "output_type": "execute_result"
    },
    {
     "data": {
      "text/plain": [
       "<matplotlib.axes._subplots.AxesSubplot at 0x1309dada0>"
      ]
     },
     "execution_count": 14,
     "metadata": {},
     "output_type": "execute_result"
    },
    {
     "data": {
      "text/plain": [
       "(0, 100)"
      ]
     },
     "execution_count": 14,
     "metadata": {},
     "output_type": "execute_result"
    },
    {
     "data": {
      "image/png": "[encoded data removed]",
      "text/plain": [
       "<matplotlib.figure.Figure at 0x10f1c3080>"
      ]
     },
     "metadata": {},
     "output_type": "display_data"
    },
    {
     "name": "stdout",
     "output_type": "stream",
     "text": [
      "\n",
      "Data for:  Pothole in Street\n"
     ]
    },
    {
     "data": {
      "text/plain": [
       "count    454752.000000\n",
       "mean         29.828623\n",
       "std          60.595361\n",
       "min           0.000000\n",
       "25%           1.000000\n",
       "50%           8.000000\n",
       "75%          29.000000\n",
       "max        1009.000000\n",
       "Name: response time, dtype: float64"
      ]
     },
     "execution_count": 14,
     "metadata": {},
     "output_type": "execute_result"
    },
    {
     "data": {
      "text/plain": [
       "<matplotlib.axes._subplots.AxesSubplot at 0x130995358>"
      ]
     },
     "execution_count": 14,
     "metadata": {},
     "output_type": "execute_result"
    },
    {
     "data": {
      "text/plain": [
       "(0, 100)"
      ]
     },
     "execution_count": 14,
     "metadata": {},
     "output_type": "execute_result"
    },
    {
     "data": {
      "image/png": "[encoded data removed]",
      "text/plain": [
       "<matplotlib.figure.Figure at 0x13099aeb8>"
      ]
     },
     "metadata": {},
     "output_type": "display_data"
    },
    {
     "name": "stdout",
     "output_type": "stream",
     "text": [
      "\n",
      "Data for:  Sanitation Code Violation\n"
     ]
    },
    {
     "data": {
      "text/plain": [
       "count    118475.000000\n",
       "mean          8.599249\n",
       "std          33.400740\n",
       "min           0.000000\n",
       "25%           1.000000\n",
       "50%           3.000000\n",
       "75%           8.000000\n",
       "max        1643.000000\n",
       "Name: response time, dtype: float64"
      ]
     },
     "execution_count": 14,
     "metadata": {},
     "output_type": "execute_result"
    },
    {
     "data": {
      "text/plain": [
       "<matplotlib.axes._subplots.AxesSubplot at 0x13091c828>"
      ]
     },
     "execution_count": 14,
     "metadata": {},
     "output_type": "execute_result"
    },
    {
     "data": {
      "text/plain": [
       "(0, 100)"
      ]
     },
     "execution_count": 14,
     "metadata": {},
     "output_type": "execute_result"
    },
    {
     "data": {
      "image/png": "[encoded data removed]",
      "text/plain": [
       "<matplotlib.figure.Figure at 0x1308c8be0>"
      ]
     },
     "metadata": {},
     "output_type": "display_data"
    }
   ],
   "source": [
    "#How long does it take the city to respond to service requests?\n",
    "data[\"response time\"] = data[\"response time\"].astype('timedelta64[D]')\n",
    "\n",
    "#don't have completion date for Vacant/Abandoned Building\n",
    "for service in service_requests[:3]:\n",
    "\n",
    "    serv_data = data[data[\"type of service request\"] == service][[\"type of service request\", \"response time\"]]\n",
    "    \n",
    "    print(\"\\nData for: \", service)\n",
    "    serv_data[\"response time\"].describe()\n",
    "    \n",
    "    serv_data.boxplot(column='response time', meanline=True, showmeans=True, showcaps=True, \n",
    "                showbox=True, showfliers=True)\n",
    "    plt.ylim([0,100])\n",
    "    plt.show()"
   ]
  },
  {
   "cell_type": "markdown",
   "metadata": {},
   "source": [
    "### Interesting Observations\n",
    "- __Pothole in Street__ requests peak during/after winter months which makes sense. It looks like 2014 was an especially hard winter.\n",
    "- While __Graffiti Removal__ does not have that strong of peaks, there still seem to be more requests in warmer months than in colder months of the year.\n",
    "- Overall, the number of total requests decreased over time.\n",
    "- The 2 zip codes, 60632 and 60636, are responsible for more than 10% of all requests for graffiti removals and vacant buildings, respectively.\n",
    "- On average, potholes in street take the longest time to be fixed. Since the requests peak during/after winter, maybe the city needs to hire more companies specifically during that time in order to respond to the requests faster? Or is it not possible to fix potholes when the streets are wet/covered in snow?"
   ]
  },
  {
   "cell_type": "markdown",
   "metadata": {},
   "source": [
    "----\n",
    "# Problem 2: Data Augmentation and APIs"
   ]
  },
  {
   "cell_type": "code",
   "execution_count": 15,
   "metadata": {
    "collapsed": false
   },
   "outputs": [],
   "source": [
    "#Reading API key for CitySDK from textfile\n",
    "with open(\"data/CitySDK_API_Key.txt\",\"r\") as file:\n",
    "    api_key = file.read()"
   ]
  },
  {
   "cell_type": "code",
   "execution_count": 16,
   "metadata": {
    "collapsed": true
   },
   "outputs": [],
   "source": [
    "def get_census_attributes(zip_code):\n",
    "\n",
    "    request_url = \"http://citysdk.commerce.gov\"\n",
    "\n",
    "    request_obj = {\n",
    "        'zip': zip_code,\n",
    "        'state': 'IL',\n",
    "        'level': 'track',\n",
    "        'api': 'acs5',\n",
    "        'year': 2010,\n",
    "        'variables': ['income', 'population', 'age', 'median_house_construction_year', \n",
    "                      'education_bachelors', 'employment_unemployed']\n",
    "    }\n",
    "    try_counter = 0\n",
    "    while try_counter < 4:\n",
    "        try_counter += 1\n",
    "        try:\n",
    "            print(\"Making URL request\")\n",
    "            response = requests.post(request_url, auth=HTTPBasicAuth(api_key, None), json=request_obj, timeout=None)\n",
    "            if response.status_code == 200:\n",
    "                break\n",
    "            elif try_counter == 3:\n",
    "                #API was not returning results for select ZIPs;\n",
    "                #setting values to 0 for now.\n",
    "                return (0,0,0,0,0,0)\n",
    "            \n",
    "            #likely that we got 504 error; delaying next requests\n",
    "            time.sleep(0.5)\n",
    "        except:\n",
    "            raise\n",
    "    \n",
    "    response = response.json()\n",
    "\n",
    "    #avail variables can be found here:\n",
    "    # https://github.com/uscensusbureau/citysdk/blob/master/src/resources/aliases.json\n",
    "    \n",
    "    #Median household income in the past 12 months (in 2013 inflation-adjusted dollars)\n",
    "    income = response['features'][0]['properties']['B19013_001E']\n",
    "\n",
    "    #Total population\n",
    "    population = response['features'][0]['properties']['B01003_001E']\n",
    "\n",
    "    #Median Age\n",
    "    age = response['features'][0]['properties']['B01002_001E']\n",
    "\n",
    "    #median_house_construction_year\n",
    "    median_house_construction_year = response['features'][0]['properties']['B25035_001E']\n",
    "\n",
    "    #number of persons age 25 and over who hold a Bachelor's degree\n",
    "    education_bachelors = response['features'][0]['properties']['B15003_022E']\n",
    "\n",
    "    #Number of unemployed, age 16 or older, in the civilian labor force\n",
    "    unemployed = response['features'][0]['properties']['B23025_005E']\n",
    "    \n",
    "    return (income, population, age, median_house_construction_year, education_bachelors, unemployed)"
   ]
  },
  {
   "cell_type": "code",
   "execution_count": 17,
   "metadata": {
    "collapsed": false
   },
   "outputs": [],
   "source": [
    "census_file = \"data/census.json\"\n",
    "\n",
    "if os.path.exists(census_file):\n",
    "    with open(census_file) as json_file:    \n",
    "        census_dict = json.load(json_file)\n",
    "else:\n",
    "    census_dict = {}\n",
    "        \n",
    "# using set of zip codes instead of lon & lat to \n",
    "# minimize amount of API requests\n",
    "# to-do for future: \n",
    "#     - use lon & lat for higher accuracy\n",
    "#     - OR download census data once\n",
    "\n",
    "zip_codes = set(data['zip code'])\n",
    "for zip_code in zip_codes:\n",
    "    if zip_code != 'nan':\n",
    "        if not zip_code in census_dict:\n",
    "            print(\"Requesting data for zip: {}\".format(zip_code))\n",
    "            census_dict[zip_code] = get_census_attributes(zip_code)"
   ]
  },
  {
   "cell_type": "code",
   "execution_count": 18,
   "metadata": {
    "collapsed": true
   },
   "outputs": [],
   "source": [
    "with open(census_file, 'w') as outfile:\n",
    "    json.dump(census_dict, outfile)"
   ]
  },
  {
   "cell_type": "code",
   "execution_count": 19,
   "metadata": {
    "collapsed": true
   },
   "outputs": [],
   "source": [
    "census_df = pd.DataFrame.from_dict(census_dict, orient='index').reset_index()\n",
    "census_df.columns = [\"zip code\", \"income\", \"population\", \"age\", \"median_house_construction_year\", \n",
    "                     \"education_bachelors\", \"unemployed\"]"
   ]
  },
  {
   "cell_type": "code",
   "execution_count": 20,
   "metadata": {
    "collapsed": false
   },
   "outputs": [],
   "source": [
    "#Merging all three tables: data, community area from CHI open data, and census_df\n",
    "community_area_data.rename(columns = {'community area number':'community area'}, inplace = True)\n",
    "data = data.join(community_area_data.set_index('community area'), on=\"community area\")\n",
    "data = data.join(census_df.set_index(\"zip code\"), on=\"zip code\")"
   ]
  },
  {
   "cell_type": "markdown",
   "metadata": {},
   "source": [
    "### What types of blocks (ZIP codes in this case) get “Vacant and Abandoned Buildings Reported”?"
   ]
  },
  {
   "cell_type": "code",
   "execution_count": 21,
   "metadata": {
    "collapsed": false
   },
   "outputs": [],
   "source": [
    "data[\"population\"] = data[\"population\"].astype(float)\n",
    "data[\"education_bachelors\"] = data[\"education_bachelors\"].astype(float)\n",
    "data[\"unemployed\"] = data[\"unemployed\"].astype(float)\n",
    "\n",
    "data[\"bachelor_rate\"] = data[\"education_bachelors\"] / data[\"population\"] * 100\n",
    "data[\"unempl_rate\"] = data[\"unemployed\"] / data[\"population\"] * 100\n",
    "\n",
    "vacant_data = data[data[\"type of service request\"] == \"Vacant/Abandoned Building\"]\n",
    "vacant_data = vacant_data[[\"income\", \"population\", \"age\", \"median_house_construction_year\", \n",
    "                           \"bachelor_rate\", \"unempl_rate\"]]\n",
    "\n",
    "other_requests = data[data[\"type of service request\"] != \"Vacant/Abandoned Building\"]\n",
    "\n",
    "vacant_data = vacant_data.apply(pd.to_numeric, errors='ignore')"
   ]
  },
  {
   "cell_type": "code",
   "execution_count": 22,
   "metadata": {
    "collapsed": false
   },
   "outputs": [
    {
     "data": {
      "text/html": [
       "<div>\n",
       "<table border=\"1\" class=\"dataframe\">\n",
       "  <thead>\n",
       "    <tr style=\"text-align: right;\">\n",
       "      <th></th>\n",
       "      <th>income</th>\n",
       "      <th>population</th>\n",
       "      <th>age</th>\n",
       "      <th>median_house_construction_year</th>\n",
       "      <th>bachelor_rate</th>\n",
       "      <th>unempl_rate</th>\n",
       "    </tr>\n",
       "  </thead>\n",
       "  <tbody>\n",
       "    <tr>\n",
       "      <th>count</th>\n",
       "      <td>58317.000000</td>\n",
       "      <td>58317.000000</td>\n",
       "      <td>58317.000000</td>\n",
       "      <td>58317.000000</td>\n",
       "      <td>58313.000000</td>\n",
       "      <td>58313.000000</td>\n",
       "    </tr>\n",
       "    <tr>\n",
       "      <th>mean</th>\n",
       "      <td>36760.125778</td>\n",
       "      <td>1399.172660</td>\n",
       "      <td>33.754346</td>\n",
       "      <td>1945.047585</td>\n",
       "      <td>8.019548</td>\n",
       "      <td>8.729883</td>\n",
       "    </tr>\n",
       "    <tr>\n",
       "      <th>std</th>\n",
       "      <td>17598.717817</td>\n",
       "      <td>427.350675</td>\n",
       "      <td>9.205214</td>\n",
       "      <td>21.406672</td>\n",
       "      <td>8.290579</td>\n",
       "      <td>4.225457</td>\n",
       "    </tr>\n",
       "    <tr>\n",
       "      <th>min</th>\n",
       "      <td>0.000000</td>\n",
       "      <td>0.000000</td>\n",
       "      <td>0.000000</td>\n",
       "      <td>0.000000</td>\n",
       "      <td>0.000000</td>\n",
       "      <td>0.000000</td>\n",
       "    </tr>\n",
       "    <tr>\n",
       "      <th>25%</th>\n",
       "      <td>27391.000000</td>\n",
       "      <td>1185.000000</td>\n",
       "      <td>25.900000</td>\n",
       "      <td>1939.000000</td>\n",
       "      <td>3.463649</td>\n",
       "      <td>5.679862</td>\n",
       "    </tr>\n",
       "    <tr>\n",
       "      <th>50%</th>\n",
       "      <td>33750.000000</td>\n",
       "      <td>1370.000000</td>\n",
       "      <td>31.400000</td>\n",
       "      <td>1939.000000</td>\n",
       "      <td>4.963504</td>\n",
       "      <td>9.404849</td>\n",
       "    </tr>\n",
       "    <tr>\n",
       "      <th>75%</th>\n",
       "      <td>38750.000000</td>\n",
       "      <td>1544.000000</td>\n",
       "      <td>37.600000</td>\n",
       "      <td>1940.000000</td>\n",
       "      <td>9.012346</td>\n",
       "      <td>11.285266</td>\n",
       "    </tr>\n",
       "    <tr>\n",
       "      <th>max</th>\n",
       "      <td>145250.000000</td>\n",
       "      <td>3233.000000</td>\n",
       "      <td>58.800000</td>\n",
       "      <td>2002.000000</td>\n",
       "      <td>53.863135</td>\n",
       "      <td>17.412141</td>\n",
       "    </tr>\n",
       "  </tbody>\n",
       "</table>\n",
       "</div>"
      ],
      "text/plain": [
       "              income    population           age  \\\n",
       "count   58317.000000  58317.000000  58317.000000   \n",
       "mean    36760.125778   1399.172660     33.754346   \n",
       "std     17598.717817    427.350675      9.205214   \n",
       "min         0.000000      0.000000      0.000000   \n",
       "25%     27391.000000   1185.000000     25.900000   \n",
       "50%     33750.000000   1370.000000     31.400000   \n",
       "75%     38750.000000   1544.000000     37.600000   \n",
       "max    145250.000000   3233.000000     58.800000   \n",
       "\n",
       "       median_house_construction_year  bachelor_rate   unempl_rate  \n",
       "count                    58317.000000   58313.000000  58313.000000  \n",
       "mean                      1945.047585       8.019548      8.729883  \n",
       "std                         21.406672       8.290579      4.225457  \n",
       "min                          0.000000       0.000000      0.000000  \n",
       "25%                       1939.000000       3.463649      5.679862  \n",
       "50%                       1939.000000       4.963504      9.404849  \n",
       "75%                       1940.000000       9.012346     11.285266  \n",
       "max                       2002.000000      53.863135     17.412141  "
      ]
     },
     "execution_count": 22,
     "metadata": {},
     "output_type": "execute_result"
    }
   ],
   "source": [
    "#General description of the ZIP codes that reported Vacant/Abandoned Building\n",
    "vacant_data.describe()"
   ]
  },
  {
   "cell_type": "code",
   "execution_count": 23,
   "metadata": {
    "collapsed": false
   },
   "outputs": [
    {
     "name": "stdout",
     "output_type": "stream",
     "text": [
      "Difference in Income:\n"
     ]
    },
    {
     "data": {
      "text/plain": [
       "count   -1370696.000\n",
       "mean      -17823.170\n",
       "std        -8085.317\n",
       "min            0.000\n",
       "25%        -6359.000\n",
       "50%       -14676.000\n",
       "75%       -36016.000\n",
       "max            0.000\n",
       "Name: income, dtype: float64"
      ]
     },
     "execution_count": 23,
     "metadata": {},
     "output_type": "execute_result"
    },
    {
     "name": "stdout",
     "output_type": "stream",
     "text": [
      "\n",
      "Difference in Unemployment Rate:\n"
     ]
    },
    {
     "data": {
      "text/plain": [
       "count   -1369815.000\n",
       "mean           2.203\n",
       "std            0.876\n",
       "min            0.000\n",
       "25%            1.478\n",
       "50%            3.725\n",
       "75%            1.880\n",
       "max            0.000\n",
       "Name: unempl_rate, dtype: float64"
      ]
     },
     "execution_count": 23,
     "metadata": {},
     "output_type": "execute_result"
    }
   ],
   "source": [
    "pd.set_option('display.float_format', lambda x: '%.3f' % x)\n",
    "\n",
    "## How do the ZIPs with reported Vacant/Abandoned Buildings differ from \n",
    "## the ZIPs that reported other requests?\n",
    "## Note: Since we are comparing ZIPs with each other, there can be \n",
    "## a significant overlap between the ZIPs that we are comparing.\n",
    "\n",
    "#Does the income matter? \n",
    "print(\"Difference in Income:\")\n",
    "vacant_data.income.describe() - other_requests.income.astype(float).describe()\n",
    "\n",
    "#Does unemployment rate matter?\n",
    "print(\"\\nDifference in Unemployment Rate:\")\n",
    "vacant_data.unempl_rate.describe() - other_requests.unempl_rate.describe()"
   ]
  },
  {
   "cell_type": "markdown",
   "metadata": {},
   "source": [
    "### Answer:\n",
    "Zip codes that got Vacant and Abandoned Buildings reported have a lower income and a slightly higher unemployment rate."
   ]
  },
  {
   "cell_type": "markdown",
   "metadata": {},
   "source": [
    "### What types of blocks (ZIP codes in our case) get “Sanitation Code Complaints”?"
   ]
  },
  {
   "cell_type": "code",
   "execution_count": 24,
   "metadata": {
    "collapsed": true
   },
   "outputs": [],
   "source": [
    "sanitation_data = data[data[\"type of service request\"] == \"Sanitation Code Violation\"]\n",
    "sanitation_data = sanitation_data[[\"income\", \"population\", \"age\", \"median_house_construction_year\", \n",
    "                           \"bachelor_rate\", \"unempl_rate\"]]\n",
    "\n",
    "other_requests = data[data[\"type of service request\"] != \"Sanitation Code Violation\"]\n",
    "\n",
    "sanitation_data = sanitation_data.apply(pd.to_numeric, errors='ignore')"
   ]
  },
  {
   "cell_type": "code",
   "execution_count": 25,
   "metadata": {
    "collapsed": false
   },
   "outputs": [
    {
     "data": {
      "text/html": [
       "<div>\n",
       "<table border=\"1\" class=\"dataframe\">\n",
       "  <thead>\n",
       "    <tr style=\"text-align: right;\">\n",
       "      <th></th>\n",
       "      <th>income</th>\n",
       "      <th>population</th>\n",
       "      <th>age</th>\n",
       "      <th>median_house_construction_year</th>\n",
       "      <th>bachelor_rate</th>\n",
       "      <th>unempl_rate</th>\n",
       "    </tr>\n",
       "  </thead>\n",
       "  <tbody>\n",
       "    <tr>\n",
       "      <th>count</th>\n",
       "      <td>118705.000</td>\n",
       "      <td>118705.000</td>\n",
       "      <td>118705.000</td>\n",
       "      <td>118705.000</td>\n",
       "      <td>118700.000</td>\n",
       "      <td>118700.000</td>\n",
       "    </tr>\n",
       "    <tr>\n",
       "      <th>mean</th>\n",
       "      <td>50050.626</td>\n",
       "      <td>1467.160</td>\n",
       "      <td>34.354</td>\n",
       "      <td>1945.765</td>\n",
       "      <td>13.676</td>\n",
       "      <td>7.194</td>\n",
       "    </tr>\n",
       "    <tr>\n",
       "      <th>std</th>\n",
       "      <td>27517.005</td>\n",
       "      <td>521.885</td>\n",
       "      <td>8.380</td>\n",
       "      <td>19.298</td>\n",
       "      <td>12.656</td>\n",
       "      <td>3.797</td>\n",
       "    </tr>\n",
       "    <tr>\n",
       "      <th>min</th>\n",
       "      <td>0.000</td>\n",
       "      <td>0.000</td>\n",
       "      <td>0.000</td>\n",
       "      <td>0.000</td>\n",
       "      <td>0.000</td>\n",
       "      <td>0.000</td>\n",
       "    </tr>\n",
       "    <tr>\n",
       "      <th>25%</th>\n",
       "      <td>31442.000</td>\n",
       "      <td>1121.000</td>\n",
       "      <td>28.300</td>\n",
       "      <td>1939.000</td>\n",
       "      <td>4.257</td>\n",
       "      <td>4.363</td>\n",
       "    </tr>\n",
       "    <tr>\n",
       "      <th>50%</th>\n",
       "      <td>41053.000</td>\n",
       "      <td>1370.000</td>\n",
       "      <td>33.500</td>\n",
       "      <td>1939.000</td>\n",
       "      <td>9.012</td>\n",
       "      <td>6.642</td>\n",
       "    </tr>\n",
       "    <tr>\n",
       "      <th>75%</th>\n",
       "      <td>69297.000</td>\n",
       "      <td>1739.000</td>\n",
       "      <td>37.600</td>\n",
       "      <td>1946.000</td>\n",
       "      <td>20.821</td>\n",
       "      <td>9.959</td>\n",
       "    </tr>\n",
       "    <tr>\n",
       "      <th>max</th>\n",
       "      <td>145250.000</td>\n",
       "      <td>3233.000</td>\n",
       "      <td>58.800</td>\n",
       "      <td>2002.000</td>\n",
       "      <td>53.863</td>\n",
       "      <td>17.412</td>\n",
       "    </tr>\n",
       "  </tbody>\n",
       "</table>\n",
       "</div>"
      ],
      "text/plain": [
       "          income  population        age  median_house_construction_year  \\\n",
       "count 118705.000  118705.000 118705.000                      118705.000   \n",
       "mean   50050.626    1467.160     34.354                        1945.765   \n",
       "std    27517.005     521.885      8.380                          19.298   \n",
       "min        0.000       0.000      0.000                           0.000   \n",
       "25%    31442.000    1121.000     28.300                        1939.000   \n",
       "50%    41053.000    1370.000     33.500                        1939.000   \n",
       "75%    69297.000    1739.000     37.600                        1946.000   \n",
       "max   145250.000    3233.000     58.800                        2002.000   \n",
       "\n",
       "       bachelor_rate  unempl_rate  \n",
       "count     118700.000   118700.000  \n",
       "mean          13.676        7.194  \n",
       "std           12.656        3.797  \n",
       "min            0.000        0.000  \n",
       "25%            4.257        4.363  \n",
       "50%            9.012        6.642  \n",
       "75%           20.821        9.959  \n",
       "max           53.863       17.412  "
      ]
     },
     "execution_count": 25,
     "metadata": {},
     "output_type": "execute_result"
    }
   ],
   "source": [
    "#General description of the ZIP codes that reported Sanitation Code Complaints\n",
    "sanitation_data.describe()"
   ]
  },
  {
   "cell_type": "code",
   "execution_count": 26,
   "metadata": {
    "collapsed": false
   },
   "outputs": [
    {
     "name": "stdout",
     "output_type": "stream",
     "text": [
      "Difference in Median House Construction Year:\n"
     ]
    },
    {
     "data": {
      "text/plain": [
       "count   -1249920.000\n",
       "mean           1.735\n",
       "std          -32.089\n",
       "min            0.000\n",
       "25%            0.000\n",
       "50%            0.000\n",
       "75%            0.000\n",
       "max            0.000\n",
       "Name: median_house_construction_year, dtype: float64"
      ]
     },
     "execution_count": 26,
     "metadata": {},
     "output_type": "execute_result"
    },
    {
     "name": "stdout",
     "output_type": "stream",
     "text": [
      "Difference in % of population with bachelor degree:\n"
     ]
    },
    {
     "data": {
      "text/plain": [
       "count   -1249041.000\n",
       "mean          -1.498\n",
       "std           -1.057\n",
       "min            0.000\n",
       "25%            0.000\n",
       "50%           -0.282\n",
       "75%           -3.466\n",
       "max            0.000\n",
       "Name: bachelor_rate, dtype: float64"
      ]
     },
     "execution_count": 26,
     "metadata": {},
     "output_type": "execute_result"
    }
   ],
   "source": [
    "#Does age of house construction matter?\n",
    "print(\"Difference in Median House Construction Year:\")\n",
    "sanitation_data.median_house_construction_year.describe() - other_requests.median_house_construction_year.astype(float).describe()\n",
    "\n",
    "#Does % of bachelor degree matter?\n",
    "print(\"Difference in % of population with bachelor degree:\")\n",
    "sanitation_data.bachelor_rate.describe() - other_requests.bachelor_rate.describe()"
   ]
  },
  {
   "cell_type": "markdown",
   "metadata": {},
   "source": [
    "__Answer__: \n",
    "\n",
    "We don't observe strong differences between the ZIP codes that request Sanitation Code complaints and ZIP codes that call 311 for other reasons when it comes to % of population with a bachelor degree or the median house construction year."
   ]
  },
  {
   "cell_type": "code",
   "execution_count": 27,
   "metadata": {
    "collapsed": false
   },
   "outputs": [],
   "source": [
    "# Another approach: Is there a relationship between the relative \n",
    "# frequency with which service requests are made and population attributes? \n",
    "\n",
    "data[\"occur\"] = 1\n",
    "data_gb = data[[\"zip code\", \"type of service request\", \"occur\"]]\n",
    "gb = data_gb.groupby([\"zip code\", \"type of service request\"], as_index=False).count()\n",
    "\n",
    "count_by_zip = data.groupby([\"zip code\"], as_index=False).count()[[\"zip code\", \"occur\"]]\n",
    "count_by_zip.columns = [\"zip code\", \"total_occur\"]\n",
    "\n",
    "gb = gb.join(count_by_zip.set_index('zip code'), on=\"zip code\")\n",
    "gb = gb.join(census_df.set_index(\"zip code\"), on=\"zip code\")\n",
    "gb = gb.apply(pd.to_numeric, errors='ignore')\n",
    "\n",
    "gb[\"rel_occur\"] = gb.occur / gb.total_occur * 100\n",
    "gb[\"bachelor_rate\"] = gb.education_bachelors / gb.population * 100\n",
    "gb[\"unempl_rate\"] = gb.unemployed / gb.population * 100\n",
    "\n",
    "#not 100% accurate, because we would need to look at age of houses \n",
    "#at time of request, but this will need to do for now\n",
    "gb[\"house_age_in_years\"] = 2017 - gb[\"median_house_construction_year\"]\n",
    "\n",
    "#dropping ZIPs with population of 0\n",
    "gb = gb[gb.population != 0]"
   ]
  },
  {
   "cell_type": "code",
   "execution_count": 28,
   "metadata": {
    "collapsed": false
   },
   "outputs": [
    {
     "name": "stdout",
     "output_type": "stream",
     "text": [
      "\n",
      "Correlation Matrix for service: Graffiti Removal\n"
     ]
    },
    {
     "data": {
      "text/html": [
       "<div>\n",
       "<table border=\"1\" class=\"dataframe\">\n",
       "  <thead>\n",
       "    <tr style=\"text-align: right;\">\n",
       "      <th></th>\n",
       "      <th>income</th>\n",
       "      <th>age</th>\n",
       "      <th>rel_occur</th>\n",
       "      <th>bachelor_rate</th>\n",
       "      <th>unempl_rate</th>\n",
       "      <th>house_age_in_years</th>\n",
       "    </tr>\n",
       "  </thead>\n",
       "  <tbody>\n",
       "    <tr>\n",
       "      <th>income</th>\n",
       "      <td>1.000</td>\n",
       "      <td>-0.022</td>\n",
       "      <td>0.252</td>\n",
       "      <td>0.544</td>\n",
       "      <td>-0.505</td>\n",
       "      <td>-0.320</td>\n",
       "    </tr>\n",
       "    <tr>\n",
       "      <th>age</th>\n",
       "      <td>-0.022</td>\n",
       "      <td>1.000</td>\n",
       "      <td>-0.231</td>\n",
       "      <td>0.174</td>\n",
       "      <td>0.096</td>\n",
       "      <td>-0.018</td>\n",
       "    </tr>\n",
       "    <tr>\n",
       "      <th>rel_occur</th>\n",
       "      <td>0.252</td>\n",
       "      <td>-0.231</td>\n",
       "      <td>1.000</td>\n",
       "      <td>0.355</td>\n",
       "      <td>-0.251</td>\n",
       "      <td>-0.008</td>\n",
       "    </tr>\n",
       "    <tr>\n",
       "      <th>bachelor_rate</th>\n",
       "      <td>0.544</td>\n",
       "      <td>0.174</td>\n",
       "      <td>0.355</td>\n",
       "      <td>1.000</td>\n",
       "      <td>-0.257</td>\n",
       "      <td>-0.306</td>\n",
       "    </tr>\n",
       "    <tr>\n",
       "      <th>unempl_rate</th>\n",
       "      <td>-0.505</td>\n",
       "      <td>0.096</td>\n",
       "      <td>-0.251</td>\n",
       "      <td>-0.257</td>\n",
       "      <td>1.000</td>\n",
       "      <td>0.052</td>\n",
       "    </tr>\n",
       "    <tr>\n",
       "      <th>house_age_in_years</th>\n",
       "      <td>-0.320</td>\n",
       "      <td>-0.018</td>\n",
       "      <td>-0.008</td>\n",
       "      <td>-0.306</td>\n",
       "      <td>0.052</td>\n",
       "      <td>1.000</td>\n",
       "    </tr>\n",
       "  </tbody>\n",
       "</table>\n",
       "</div>"
      ],
      "text/plain": [
       "                    income    age  rel_occur  bachelor_rate  unempl_rate  \\\n",
       "income               1.000 -0.022      0.252          0.544       -0.505   \n",
       "age                 -0.022  1.000     -0.231          0.174        0.096   \n",
       "rel_occur            0.252 -0.231      1.000          0.355       -0.251   \n",
       "bachelor_rate        0.544  0.174      0.355          1.000       -0.257   \n",
       "unempl_rate         -0.505  0.096     -0.251         -0.257        1.000   \n",
       "house_age_in_years  -0.320 -0.018     -0.008         -0.306        0.052   \n",
       "\n",
       "                    house_age_in_years  \n",
       "income                          -0.320  \n",
       "age                             -0.018  \n",
       "rel_occur                       -0.008  \n",
       "bachelor_rate                   -0.306  \n",
       "unempl_rate                      0.052  \n",
       "house_age_in_years               1.000  "
      ]
     },
     "execution_count": 28,
     "metadata": {},
     "output_type": "execute_result"
    },
    {
     "data": {
      "text/html": [
       "<table class=\"simpletable\">\n",
       "<caption>OLS Regression Results</caption>\n",
       "<tr>\n",
       "  <th>Dep. Variable:</th>        <td>rel_occur</td>    <th>  R-squared:         </th> <td>   0.241</td>\n",
       "</tr>\n",
       "<tr>\n",
       "  <th>Model:</th>                   <td>OLS</td>       <th>  Adj. R-squared:    </th> <td>   0.169</td>\n",
       "</tr>\n",
       "<tr>\n",
       "  <th>Method:</th>             <td>Least Squares</td>  <th>  F-statistic:       </th> <td>   3.311</td>\n",
       "</tr>\n",
       "<tr>\n",
       "  <th>Date:</th>             <td>Wed, 05 Apr 2017</td> <th>  Prob (F-statistic):</th>  <td>0.0114</td> \n",
       "</tr>\n",
       "<tr>\n",
       "  <th>Time:</th>                 <td>00:50:20</td>     <th>  Log-Likelihood:    </th> <td> -258.63</td>\n",
       "</tr>\n",
       "<tr>\n",
       "  <th>No. Observations:</th>      <td>    58</td>      <th>  AIC:               </th> <td>   529.3</td>\n",
       "</tr>\n",
       "<tr>\n",
       "  <th>Df Residuals:</th>          <td>    52</td>      <th>  BIC:               </th> <td>   541.6</td>\n",
       "</tr>\n",
       "<tr>\n",
       "  <th>Df Model:</th>              <td>     5</td>      <th>                     </th>     <td> </td>   \n",
       "</tr>\n",
       "<tr>\n",
       "  <th>Covariance Type:</th>      <td>nonrobust</td>    <th>                     </th>     <td> </td>   \n",
       "</tr>\n",
       "</table>\n",
       "<table class=\"simpletable\">\n",
       "<tr>\n",
       "           <td></td>             <th>coef</th>     <th>std err</th>      <th>t</th>      <th>P>|t|</th> <th>[95.0% Conf. Int.]</th> \n",
       "</tr>\n",
       "<tr>\n",
       "  <th>Intercept</th>          <td>   58.3793</td> <td>   20.799</td> <td>    2.807</td> <td> 0.007</td> <td>   16.642   100.116</td>\n",
       "</tr>\n",
       "<tr>\n",
       "  <th>income</th>             <td>-2.729e-06</td> <td>    0.000</td> <td>   -0.020</td> <td> 0.984</td> <td>   -0.000     0.000</td>\n",
       "</tr>\n",
       "<tr>\n",
       "  <th>age</th>                <td>   -0.8795</td> <td>    0.380</td> <td>   -2.312</td> <td> 0.025</td> <td>   -1.643    -0.116</td>\n",
       "</tr>\n",
       "<tr>\n",
       "  <th>bachelor_rate</th>      <td>    0.7480</td> <td>    0.273</td> <td>    2.739</td> <td> 0.008</td> <td>    0.200     1.296</td>\n",
       "</tr>\n",
       "<tr>\n",
       "  <th>unempl_rate</th>        <td>   -0.8123</td> <td>    0.916</td> <td>   -0.886</td> <td> 0.380</td> <td>   -2.651     1.027</td>\n",
       "</tr>\n",
       "<tr>\n",
       "  <th>house_age_in_years</th> <td>    0.1373</td> <td>    0.153</td> <td>    0.900</td> <td> 0.372</td> <td>   -0.169     0.443</td>\n",
       "</tr>\n",
       "</table>\n",
       "<table class=\"simpletable\">\n",
       "<tr>\n",
       "  <th>Omnibus:</th>       <td> 0.656</td> <th>  Durbin-Watson:     </th> <td>   2.122</td>\n",
       "</tr>\n",
       "<tr>\n",
       "  <th>Prob(Omnibus):</th> <td> 0.720</td> <th>  Jarque-Bera (JB):  </th> <td>   0.767</td>\n",
       "</tr>\n",
       "<tr>\n",
       "  <th>Skew:</th>          <td> 0.148</td> <th>  Prob(JB):          </th> <td>   0.682</td>\n",
       "</tr>\n",
       "<tr>\n",
       "  <th>Kurtosis:</th>      <td> 2.521</td> <th>  Cond. No.          </th> <td>4.70e+05</td>\n",
       "</tr>\n",
       "</table>"
      ],
      "text/plain": [
       "<class 'statsmodels.iolib.summary.Summary'>\n",
       "\"\"\"\n",
       "                            OLS Regression Results                            \n",
       "==============================================================================\n",
       "Dep. Variable:              rel_occur   R-squared:                       0.241\n",
       "Model:                            OLS   Adj. R-squared:                  0.169\n",
       "Method:                 Least Squares   F-statistic:                     3.311\n",
       "Date:                Wed, 05 Apr 2017   Prob (F-statistic):             0.0114\n",
       "Time:                        00:50:20   Log-Likelihood:                -258.63\n",
       "No. Observations:                  58   AIC:                             529.3\n",
       "Df Residuals:                      52   BIC:                             541.6\n",
       "Df Model:                           5                                         \n",
       "Covariance Type:            nonrobust                                         \n",
       "======================================================================================\n",
       "                         coef    std err          t      P>|t|      [95.0% Conf. Int.]\n",
       "--------------------------------------------------------------------------------------\n",
       "Intercept             58.3793     20.799      2.807      0.007        16.642   100.116\n",
       "income             -2.729e-06      0.000     -0.020      0.984        -0.000     0.000\n",
       "age                   -0.8795      0.380     -2.312      0.025        -1.643    -0.116\n",
       "bachelor_rate          0.7480      0.273      2.739      0.008         0.200     1.296\n",
       "unempl_rate           -0.8123      0.916     -0.886      0.380        -2.651     1.027\n",
       "house_age_in_years     0.1373      0.153      0.900      0.372        -0.169     0.443\n",
       "==============================================================================\n",
       "Omnibus:                        0.656   Durbin-Watson:                   2.122\n",
       "Prob(Omnibus):                  0.720   Jarque-Bera (JB):                0.767\n",
       "Skew:                           0.148   Prob(JB):                        0.682\n",
       "Kurtosis:                       2.521   Cond. No.                     4.70e+05\n",
       "==============================================================================\n",
       "\n",
       "Warnings:\n",
       "[1] Standard Errors assume that the covariance matrix of the errors is correctly specified.\n",
       "[2] The condition number is large, 4.7e+05. This might indicate that there are\n",
       "strong multicollinearity or other numerical problems.\n",
       "\"\"\""
      ]
     },
     "execution_count": 28,
     "metadata": {},
     "output_type": "execute_result"
    },
    {
     "name": "stdout",
     "output_type": "stream",
     "text": [
      "\n",
      "Correlation Matrix for service: Pothole in Street\n"
     ]
    },
    {
     "data": {
      "text/html": [
       "<div>\n",
       "<table border=\"1\" class=\"dataframe\">\n",
       "  <thead>\n",
       "    <tr style=\"text-align: right;\">\n",
       "      <th></th>\n",
       "      <th>income</th>\n",
       "      <th>age</th>\n",
       "      <th>rel_occur</th>\n",
       "      <th>bachelor_rate</th>\n",
       "      <th>unempl_rate</th>\n",
       "      <th>house_age_in_years</th>\n",
       "    </tr>\n",
       "  </thead>\n",
       "  <tbody>\n",
       "    <tr>\n",
       "      <th>income</th>\n",
       "      <td>1.000</td>\n",
       "      <td>-0.022</td>\n",
       "      <td>0.012</td>\n",
       "      <td>0.544</td>\n",
       "      <td>-0.505</td>\n",
       "      <td>-0.320</td>\n",
       "    </tr>\n",
       "    <tr>\n",
       "      <th>age</th>\n",
       "      <td>-0.022</td>\n",
       "      <td>1.000</td>\n",
       "      <td>0.303</td>\n",
       "      <td>0.174</td>\n",
       "      <td>0.096</td>\n",
       "      <td>-0.018</td>\n",
       "    </tr>\n",
       "    <tr>\n",
       "      <th>rel_occur</th>\n",
       "      <td>0.012</td>\n",
       "      <td>0.303</td>\n",
       "      <td>1.000</td>\n",
       "      <td>-0.185</td>\n",
       "      <td>0.012</td>\n",
       "      <td>-0.098</td>\n",
       "    </tr>\n",
       "    <tr>\n",
       "      <th>bachelor_rate</th>\n",
       "      <td>0.544</td>\n",
       "      <td>0.174</td>\n",
       "      <td>-0.185</td>\n",
       "      <td>1.000</td>\n",
       "      <td>-0.257</td>\n",
       "      <td>-0.306</td>\n",
       "    </tr>\n",
       "    <tr>\n",
       "      <th>unempl_rate</th>\n",
       "      <td>-0.505</td>\n",
       "      <td>0.096</td>\n",
       "      <td>0.012</td>\n",
       "      <td>-0.257</td>\n",
       "      <td>1.000</td>\n",
       "      <td>0.052</td>\n",
       "    </tr>\n",
       "    <tr>\n",
       "      <th>house_age_in_years</th>\n",
       "      <td>-0.320</td>\n",
       "      <td>-0.018</td>\n",
       "      <td>-0.098</td>\n",
       "      <td>-0.306</td>\n",
       "      <td>0.052</td>\n",
       "      <td>1.000</td>\n",
       "    </tr>\n",
       "  </tbody>\n",
       "</table>\n",
       "</div>"
      ],
      "text/plain": [
       "                    income    age  rel_occur  bachelor_rate  unempl_rate  \\\n",
       "income               1.000 -0.022      0.012          0.544       -0.505   \n",
       "age                 -0.022  1.000      0.303          0.174        0.096   \n",
       "rel_occur            0.012  0.303      1.000         -0.185        0.012   \n",
       "bachelor_rate        0.544  0.174     -0.185          1.000       -0.257   \n",
       "unempl_rate         -0.505  0.096      0.012         -0.257        1.000   \n",
       "house_age_in_years  -0.320 -0.018     -0.098         -0.306        0.052   \n",
       "\n",
       "                    house_age_in_years  \n",
       "income                          -0.320  \n",
       "age                             -0.018  \n",
       "rel_occur                       -0.098  \n",
       "bachelor_rate                   -0.306  \n",
       "unempl_rate                      0.052  \n",
       "house_age_in_years               1.000  "
      ]
     },
     "execution_count": 28,
     "metadata": {},
     "output_type": "execute_result"
    },
    {
     "data": {
      "text/html": [
       "<table class=\"simpletable\">\n",
       "<caption>OLS Regression Results</caption>\n",
       "<tr>\n",
       "  <th>Dep. Variable:</th>        <td>rel_occur</td>    <th>  R-squared:         </th> <td>   0.205</td>\n",
       "</tr>\n",
       "<tr>\n",
       "  <th>Model:</th>                   <td>OLS</td>       <th>  Adj. R-squared:    </th> <td>   0.129</td>\n",
       "</tr>\n",
       "<tr>\n",
       "  <th>Method:</th>             <td>Least Squares</td>  <th>  F-statistic:       </th> <td>   2.685</td>\n",
       "</tr>\n",
       "<tr>\n",
       "  <th>Date:</th>             <td>Wed, 05 Apr 2017</td> <th>  Prob (F-statistic):</th>  <td>0.0312</td> \n",
       "</tr>\n",
       "<tr>\n",
       "  <th>Time:</th>                 <td>00:50:20</td>     <th>  Log-Likelihood:    </th> <td> -242.27</td>\n",
       "</tr>\n",
       "<tr>\n",
       "  <th>No. Observations:</th>      <td>    58</td>      <th>  AIC:               </th> <td>   496.5</td>\n",
       "</tr>\n",
       "<tr>\n",
       "  <th>Df Residuals:</th>          <td>    52</td>      <th>  BIC:               </th> <td>   508.9</td>\n",
       "</tr>\n",
       "<tr>\n",
       "  <th>Df Model:</th>              <td>     5</td>      <th>                     </th>     <td> </td>   \n",
       "</tr>\n",
       "<tr>\n",
       "  <th>Covariance Type:</th>      <td>nonrobust</td>    <th>                     </th>     <td> </td>   \n",
       "</tr>\n",
       "</table>\n",
       "<table class=\"simpletable\">\n",
       "<tr>\n",
       "           <td></td>             <th>coef</th>     <th>std err</th>      <th>t</th>      <th>P>|t|</th> <th>[95.0% Conf. Int.]</th> \n",
       "</tr>\n",
       "<tr>\n",
       "  <th>Intercept</th>          <td>   25.4503</td> <td>   15.688</td> <td>    1.622</td> <td> 0.111</td> <td>   -6.031    56.931</td>\n",
       "</tr>\n",
       "<tr>\n",
       "  <th>income</th>             <td>    0.0001</td> <td>    0.000</td> <td>    1.004</td> <td> 0.320</td> <td>   -0.000     0.000</td>\n",
       "</tr>\n",
       "<tr>\n",
       "  <th>age</th>                <td>    0.8477</td> <td>    0.287</td> <td>    2.955</td> <td> 0.005</td> <td>    0.272     1.423</td>\n",
       "</tr>\n",
       "<tr>\n",
       "  <th>bachelor_rate</th>      <td>   -0.5375</td> <td>    0.206</td> <td>   -2.609</td> <td> 0.012</td> <td>   -0.951    -0.124</td>\n",
       "</tr>\n",
       "<tr>\n",
       "  <th>unempl_rate</th>        <td>   -0.1543</td> <td>    0.691</td> <td>   -0.223</td> <td> 0.824</td> <td>   -1.541     1.233</td>\n",
       "</tr>\n",
       "<tr>\n",
       "  <th>house_age_in_years</th> <td>   -0.1358</td> <td>    0.115</td> <td>   -1.180</td> <td> 0.243</td> <td>   -0.367     0.095</td>\n",
       "</tr>\n",
       "</table>\n",
       "<table class=\"simpletable\">\n",
       "<tr>\n",
       "  <th>Omnibus:</th>       <td> 0.807</td> <th>  Durbin-Watson:     </th> <td>   2.171</td>\n",
       "</tr>\n",
       "<tr>\n",
       "  <th>Prob(Omnibus):</th> <td> 0.668</td> <th>  Jarque-Bera (JB):  </th> <td>   0.746</td>\n",
       "</tr>\n",
       "<tr>\n",
       "  <th>Skew:</th>          <td> 0.264</td> <th>  Prob(JB):          </th> <td>   0.689</td>\n",
       "</tr>\n",
       "<tr>\n",
       "  <th>Kurtosis:</th>      <td> 2.830</td> <th>  Cond. No.          </th> <td>4.70e+05</td>\n",
       "</tr>\n",
       "</table>"
      ],
      "text/plain": [
       "<class 'statsmodels.iolib.summary.Summary'>\n",
       "\"\"\"\n",
       "                            OLS Regression Results                            \n",
       "==============================================================================\n",
       "Dep. Variable:              rel_occur   R-squared:                       0.205\n",
       "Model:                            OLS   Adj. R-squared:                  0.129\n",
       "Method:                 Least Squares   F-statistic:                     2.685\n",
       "Date:                Wed, 05 Apr 2017   Prob (F-statistic):             0.0312\n",
       "Time:                        00:50:20   Log-Likelihood:                -242.27\n",
       "No. Observations:                  58   AIC:                             496.5\n",
       "Df Residuals:                      52   BIC:                             508.9\n",
       "Df Model:                           5                                         \n",
       "Covariance Type:            nonrobust                                         \n",
       "======================================================================================\n",
       "                         coef    std err          t      P>|t|      [95.0% Conf. Int.]\n",
       "--------------------------------------------------------------------------------------\n",
       "Intercept             25.4503     15.688      1.622      0.111        -6.031    56.931\n",
       "income                 0.0001      0.000      1.004      0.320        -0.000     0.000\n",
       "age                    0.8477      0.287      2.955      0.005         0.272     1.423\n",
       "bachelor_rate         -0.5375      0.206     -2.609      0.012        -0.951    -0.124\n",
       "unempl_rate           -0.1543      0.691     -0.223      0.824        -1.541     1.233\n",
       "house_age_in_years    -0.1358      0.115     -1.180      0.243        -0.367     0.095\n",
       "==============================================================================\n",
       "Omnibus:                        0.807   Durbin-Watson:                   2.171\n",
       "Prob(Omnibus):                  0.668   Jarque-Bera (JB):                0.746\n",
       "Skew:                           0.264   Prob(JB):                        0.689\n",
       "Kurtosis:                       2.830   Cond. No.                     4.70e+05\n",
       "==============================================================================\n",
       "\n",
       "Warnings:\n",
       "[1] Standard Errors assume that the covariance matrix of the errors is correctly specified.\n",
       "[2] The condition number is large, 4.7e+05. This might indicate that there are\n",
       "strong multicollinearity or other numerical problems.\n",
       "\"\"\""
      ]
     },
     "execution_count": 28,
     "metadata": {},
     "output_type": "execute_result"
    },
    {
     "name": "stdout",
     "output_type": "stream",
     "text": [
      "\n",
      "Correlation Matrix for service: Sanitation Code Violation\n"
     ]
    },
    {
     "data": {
      "text/html": [
       "<div>\n",
       "<table border=\"1\" class=\"dataframe\">\n",
       "  <thead>\n",
       "    <tr style=\"text-align: right;\">\n",
       "      <th></th>\n",
       "      <th>income</th>\n",
       "      <th>age</th>\n",
       "      <th>rel_occur</th>\n",
       "      <th>bachelor_rate</th>\n",
       "      <th>unempl_rate</th>\n",
       "      <th>house_age_in_years</th>\n",
       "    </tr>\n",
       "  </thead>\n",
       "  <tbody>\n",
       "    <tr>\n",
       "      <th>income</th>\n",
       "      <td>1.000</td>\n",
       "      <td>-0.022</td>\n",
       "      <td>-0.460</td>\n",
       "      <td>0.544</td>\n",
       "      <td>-0.505</td>\n",
       "      <td>-0.320</td>\n",
       "    </tr>\n",
       "    <tr>\n",
       "      <th>age</th>\n",
       "      <td>-0.022</td>\n",
       "      <td>1.000</td>\n",
       "      <td>0.140</td>\n",
       "      <td>0.174</td>\n",
       "      <td>0.096</td>\n",
       "      <td>-0.018</td>\n",
       "    </tr>\n",
       "    <tr>\n",
       "      <th>rel_occur</th>\n",
       "      <td>-0.460</td>\n",
       "      <td>0.140</td>\n",
       "      <td>1.000</td>\n",
       "      <td>-0.366</td>\n",
       "      <td>0.421</td>\n",
       "      <td>0.177</td>\n",
       "    </tr>\n",
       "    <tr>\n",
       "      <th>bachelor_rate</th>\n",
       "      <td>0.544</td>\n",
       "      <td>0.174</td>\n",
       "      <td>-0.366</td>\n",
       "      <td>1.000</td>\n",
       "      <td>-0.257</td>\n",
       "      <td>-0.306</td>\n",
       "    </tr>\n",
       "    <tr>\n",
       "      <th>unempl_rate</th>\n",
       "      <td>-0.505</td>\n",
       "      <td>0.096</td>\n",
       "      <td>0.421</td>\n",
       "      <td>-0.257</td>\n",
       "      <td>1.000</td>\n",
       "      <td>0.052</td>\n",
       "    </tr>\n",
       "    <tr>\n",
       "      <th>house_age_in_years</th>\n",
       "      <td>-0.320</td>\n",
       "      <td>-0.018</td>\n",
       "      <td>0.177</td>\n",
       "      <td>-0.306</td>\n",
       "      <td>0.052</td>\n",
       "      <td>1.000</td>\n",
       "    </tr>\n",
       "  </tbody>\n",
       "</table>\n",
       "</div>"
      ],
      "text/plain": [
       "                    income    age  rel_occur  bachelor_rate  unempl_rate  \\\n",
       "income               1.000 -0.022     -0.460          0.544       -0.505   \n",
       "age                 -0.022  1.000      0.140          0.174        0.096   \n",
       "rel_occur           -0.460  0.140      1.000         -0.366        0.421   \n",
       "bachelor_rate        0.544  0.174     -0.366          1.000       -0.257   \n",
       "unempl_rate         -0.505  0.096      0.421         -0.257        1.000   \n",
       "house_age_in_years  -0.320 -0.018      0.177         -0.306        0.052   \n",
       "\n",
       "                    house_age_in_years  \n",
       "income                          -0.320  \n",
       "age                             -0.018  \n",
       "rel_occur                        0.177  \n",
       "bachelor_rate                   -0.306  \n",
       "unempl_rate                      0.052  \n",
       "house_age_in_years               1.000  "
      ]
     },
     "execution_count": 28,
     "metadata": {},
     "output_type": "execute_result"
    },
    {
     "data": {
      "text/html": [
       "<table class=\"simpletable\">\n",
       "<caption>OLS Regression Results</caption>\n",
       "<tr>\n",
       "  <th>Dep. Variable:</th>        <td>rel_occur</td>    <th>  R-squared:         </th> <td>   0.302</td>\n",
       "</tr>\n",
       "<tr>\n",
       "  <th>Model:</th>                   <td>OLS</td>       <th>  Adj. R-squared:    </th> <td>   0.235</td>\n",
       "</tr>\n",
       "<tr>\n",
       "  <th>Method:</th>             <td>Least Squares</td>  <th>  F-statistic:       </th> <td>   4.498</td>\n",
       "</tr>\n",
       "<tr>\n",
       "  <th>Date:</th>             <td>Wed, 05 Apr 2017</td> <th>  Prob (F-statistic):</th>  <td>0.00176</td>\n",
       "</tr>\n",
       "<tr>\n",
       "  <th>Time:</th>                 <td>00:50:20</td>     <th>  Log-Likelihood:    </th> <td> -172.67</td>\n",
       "</tr>\n",
       "<tr>\n",
       "  <th>No. Observations:</th>      <td>    58</td>      <th>  AIC:               </th> <td>   357.3</td>\n",
       "</tr>\n",
       "<tr>\n",
       "  <th>Df Residuals:</th>          <td>    52</td>      <th>  BIC:               </th> <td>   369.7</td>\n",
       "</tr>\n",
       "<tr>\n",
       "  <th>Df Model:</th>              <td>     5</td>      <th>                     </th>     <td> </td>   \n",
       "</tr>\n",
       "<tr>\n",
       "  <th>Covariance Type:</th>      <td>nonrobust</td>    <th>                     </th>     <td> </td>   \n",
       "</tr>\n",
       "</table>\n",
       "<table class=\"simpletable\">\n",
       "<tr>\n",
       "           <td></td>             <th>coef</th>     <th>std err</th>      <th>t</th>      <th>P>|t|</th> <th>[95.0% Conf. Int.]</th> \n",
       "</tr>\n",
       "<tr>\n",
       "  <th>Intercept</th>          <td>    6.3154</td> <td>    4.725</td> <td>    1.336</td> <td> 0.187</td> <td>   -3.167    15.798</td>\n",
       "</tr>\n",
       "<tr>\n",
       "  <th>income</th>             <td>-4.111e-05</td> <td> 3.12e-05</td> <td>   -1.318</td> <td> 0.193</td> <td>   -0.000  2.15e-05</td>\n",
       "</tr>\n",
       "<tr>\n",
       "  <th>age</th>                <td>    0.1071</td> <td>    0.086</td> <td>    1.240</td> <td> 0.221</td> <td>   -0.066     0.281</td>\n",
       "</tr>\n",
       "<tr>\n",
       "  <th>bachelor_rate</th>      <td>   -0.0876</td> <td>    0.062</td> <td>   -1.412</td> <td> 0.164</td> <td>   -0.212     0.037</td>\n",
       "</tr>\n",
       "<tr>\n",
       "  <th>unempl_rate</th>        <td>    0.3766</td> <td>    0.208</td> <td>    1.809</td> <td> 0.076</td> <td>   -0.041     0.794</td>\n",
       "</tr>\n",
       "<tr>\n",
       "  <th>house_age_in_years</th> <td>    0.0105</td> <td>    0.035</td> <td>    0.302</td> <td> 0.764</td> <td>   -0.059     0.080</td>\n",
       "</tr>\n",
       "</table>\n",
       "<table class=\"simpletable\">\n",
       "<tr>\n",
       "  <th>Omnibus:</th>       <td> 2.465</td> <th>  Durbin-Watson:     </th> <td>   1.492</td>\n",
       "</tr>\n",
       "<tr>\n",
       "  <th>Prob(Omnibus):</th> <td> 0.292</td> <th>  Jarque-Bera (JB):  </th> <td>   2.357</td>\n",
       "</tr>\n",
       "<tr>\n",
       "  <th>Skew:</th>          <td> 0.473</td> <th>  Prob(JB):          </th> <td>   0.308</td>\n",
       "</tr>\n",
       "<tr>\n",
       "  <th>Kurtosis:</th>      <td> 2.715</td> <th>  Cond. No.          </th> <td>4.70e+05</td>\n",
       "</tr>\n",
       "</table>"
      ],
      "text/plain": [
       "<class 'statsmodels.iolib.summary.Summary'>\n",
       "\"\"\"\n",
       "                            OLS Regression Results                            \n",
       "==============================================================================\n",
       "Dep. Variable:              rel_occur   R-squared:                       0.302\n",
       "Model:                            OLS   Adj. R-squared:                  0.235\n",
       "Method:                 Least Squares   F-statistic:                     4.498\n",
       "Date:                Wed, 05 Apr 2017   Prob (F-statistic):            0.00176\n",
       "Time:                        00:50:20   Log-Likelihood:                -172.67\n",
       "No. Observations:                  58   AIC:                             357.3\n",
       "Df Residuals:                      52   BIC:                             369.7\n",
       "Df Model:                           5                                         \n",
       "Covariance Type:            nonrobust                                         \n",
       "======================================================================================\n",
       "                         coef    std err          t      P>|t|      [95.0% Conf. Int.]\n",
       "--------------------------------------------------------------------------------------\n",
       "Intercept              6.3154      4.725      1.336      0.187        -3.167    15.798\n",
       "income             -4.111e-05   3.12e-05     -1.318      0.193        -0.000  2.15e-05\n",
       "age                    0.1071      0.086      1.240      0.221        -0.066     0.281\n",
       "bachelor_rate         -0.0876      0.062     -1.412      0.164        -0.212     0.037\n",
       "unempl_rate            0.3766      0.208      1.809      0.076        -0.041     0.794\n",
       "house_age_in_years     0.0105      0.035      0.302      0.764        -0.059     0.080\n",
       "==============================================================================\n",
       "Omnibus:                        2.465   Durbin-Watson:                   1.492\n",
       "Prob(Omnibus):                  0.292   Jarque-Bera (JB):                2.357\n",
       "Skew:                           0.473   Prob(JB):                        0.308\n",
       "Kurtosis:                       2.715   Cond. No.                     4.70e+05\n",
       "==============================================================================\n",
       "\n",
       "Warnings:\n",
       "[1] Standard Errors assume that the covariance matrix of the errors is correctly specified.\n",
       "[2] The condition number is large, 4.7e+05. This might indicate that there are\n",
       "strong multicollinearity or other numerical problems.\n",
       "\"\"\""
      ]
     },
     "execution_count": 28,
     "metadata": {},
     "output_type": "execute_result"
    },
    {
     "name": "stdout",
     "output_type": "stream",
     "text": [
      "\n",
      "Correlation Matrix for service: Vacant/Abandoned Building\n"
     ]
    },
    {
     "data": {
      "text/html": [
       "<div>\n",
       "<table border=\"1\" class=\"dataframe\">\n",
       "  <thead>\n",
       "    <tr style=\"text-align: right;\">\n",
       "      <th></th>\n",
       "      <th>income</th>\n",
       "      <th>age</th>\n",
       "      <th>rel_occur</th>\n",
       "      <th>bachelor_rate</th>\n",
       "      <th>unempl_rate</th>\n",
       "      <th>house_age_in_years</th>\n",
       "    </tr>\n",
       "  </thead>\n",
       "  <tbody>\n",
       "    <tr>\n",
       "      <th>income</th>\n",
       "      <td>1.000</td>\n",
       "      <td>-0.022</td>\n",
       "      <td>-0.523</td>\n",
       "      <td>0.544</td>\n",
       "      <td>-0.505</td>\n",
       "      <td>-0.320</td>\n",
       "    </tr>\n",
       "    <tr>\n",
       "      <th>age</th>\n",
       "      <td>-0.022</td>\n",
       "      <td>1.000</td>\n",
       "      <td>-0.089</td>\n",
       "      <td>0.174</td>\n",
       "      <td>0.096</td>\n",
       "      <td>-0.018</td>\n",
       "    </tr>\n",
       "    <tr>\n",
       "      <th>rel_occur</th>\n",
       "      <td>-0.523</td>\n",
       "      <td>-0.089</td>\n",
       "      <td>1.000</td>\n",
       "      <td>-0.453</td>\n",
       "      <td>0.491</td>\n",
       "      <td>0.134</td>\n",
       "    </tr>\n",
       "    <tr>\n",
       "      <th>bachelor_rate</th>\n",
       "      <td>0.544</td>\n",
       "      <td>0.174</td>\n",
       "      <td>-0.453</td>\n",
       "      <td>1.000</td>\n",
       "      <td>-0.257</td>\n",
       "      <td>-0.306</td>\n",
       "    </tr>\n",
       "    <tr>\n",
       "      <th>unempl_rate</th>\n",
       "      <td>-0.505</td>\n",
       "      <td>0.096</td>\n",
       "      <td>0.491</td>\n",
       "      <td>-0.257</td>\n",
       "      <td>1.000</td>\n",
       "      <td>0.052</td>\n",
       "    </tr>\n",
       "    <tr>\n",
       "      <th>house_age_in_years</th>\n",
       "      <td>-0.320</td>\n",
       "      <td>-0.018</td>\n",
       "      <td>0.134</td>\n",
       "      <td>-0.306</td>\n",
       "      <td>0.052</td>\n",
       "      <td>1.000</td>\n",
       "    </tr>\n",
       "  </tbody>\n",
       "</table>\n",
       "</div>"
      ],
      "text/plain": [
       "                    income    age  rel_occur  bachelor_rate  unempl_rate  \\\n",
       "income               1.000 -0.022     -0.523          0.544       -0.505   \n",
       "age                 -0.022  1.000     -0.089          0.174        0.096   \n",
       "rel_occur           -0.523 -0.089      1.000         -0.453        0.491   \n",
       "bachelor_rate        0.544  0.174     -0.453          1.000       -0.257   \n",
       "unempl_rate         -0.505  0.096      0.491         -0.257        1.000   \n",
       "house_age_in_years  -0.320 -0.018      0.134         -0.306        0.052   \n",
       "\n",
       "                    house_age_in_years  \n",
       "income                          -0.320  \n",
       "age                             -0.018  \n",
       "rel_occur                        0.134  \n",
       "bachelor_rate                   -0.306  \n",
       "unempl_rate                      0.052  \n",
       "house_age_in_years               1.000  "
      ]
     },
     "execution_count": 28,
     "metadata": {},
     "output_type": "execute_result"
    },
    {
     "data": {
      "text/html": [
       "<table class=\"simpletable\">\n",
       "<caption>OLS Regression Results</caption>\n",
       "<tr>\n",
       "  <th>Dep. Variable:</th>        <td>rel_occur</td>    <th>  R-squared:         </th> <td>   0.394</td>\n",
       "</tr>\n",
       "<tr>\n",
       "  <th>Model:</th>                   <td>OLS</td>       <th>  Adj. R-squared:    </th> <td>   0.335</td>\n",
       "</tr>\n",
       "<tr>\n",
       "  <th>Method:</th>             <td>Least Squares</td>  <th>  F-statistic:       </th> <td>   6.752</td>\n",
       "</tr>\n",
       "<tr>\n",
       "  <th>Date:</th>             <td>Wed, 05 Apr 2017</td> <th>  Prob (F-statistic):</th> <td>6.45e-05</td>\n",
       "</tr>\n",
       "<tr>\n",
       "  <th>Time:</th>                 <td>00:50:20</td>     <th>  Log-Likelihood:    </th> <td> -180.37</td>\n",
       "</tr>\n",
       "<tr>\n",
       "  <th>No. Observations:</th>      <td>    58</td>      <th>  AIC:               </th> <td>   372.7</td>\n",
       "</tr>\n",
       "<tr>\n",
       "  <th>Df Residuals:</th>          <td>    52</td>      <th>  BIC:               </th> <td>   385.1</td>\n",
       "</tr>\n",
       "<tr>\n",
       "  <th>Df Model:</th>              <td>     5</td>      <th>                     </th>     <td> </td>   \n",
       "</tr>\n",
       "<tr>\n",
       "  <th>Covariance Type:</th>      <td>nonrobust</td>    <th>                     </th>     <td> </td>   \n",
       "</tr>\n",
       "</table>\n",
       "<table class=\"simpletable\">\n",
       "<tr>\n",
       "           <td></td>             <th>coef</th>     <th>std err</th>      <th>t</th>      <th>P>|t|</th> <th>[95.0% Conf. Int.]</th> \n",
       "</tr>\n",
       "<tr>\n",
       "  <th>Intercept</th>          <td>    9.8550</td> <td>    5.397</td> <td>    1.826</td> <td> 0.074</td> <td>   -0.974    20.684</td>\n",
       "</tr>\n",
       "<tr>\n",
       "  <th>income</th>             <td>-6.014e-05</td> <td> 3.56e-05</td> <td>   -1.688</td> <td> 0.097</td> <td>   -0.000  1.13e-05</td>\n",
       "</tr>\n",
       "<tr>\n",
       "  <th>age</th>                <td>   -0.0754</td> <td>    0.099</td> <td>   -0.764</td> <td> 0.449</td> <td>   -0.273     0.123</td>\n",
       "</tr>\n",
       "<tr>\n",
       "  <th>bachelor_rate</th>      <td>   -0.1228</td> <td>    0.071</td> <td>   -1.734</td> <td> 0.089</td> <td>   -0.265     0.019</td>\n",
       "</tr>\n",
       "<tr>\n",
       "  <th>unempl_rate</th>        <td>    0.5900</td> <td>    0.238</td> <td>    2.481</td> <td> 0.016</td> <td>    0.113     1.067</td>\n",
       "</tr>\n",
       "<tr>\n",
       "  <th>house_age_in_years</th> <td>   -0.0120</td> <td>    0.040</td> <td>   -0.303</td> <td> 0.763</td> <td>   -0.091     0.067</td>\n",
       "</tr>\n",
       "</table>\n",
       "<table class=\"simpletable\">\n",
       "<tr>\n",
       "  <th>Omnibus:</th>       <td>14.218</td> <th>  Durbin-Watson:     </th> <td>   1.781</td>\n",
       "</tr>\n",
       "<tr>\n",
       "  <th>Prob(Omnibus):</th> <td> 0.001</td> <th>  Jarque-Bera (JB):  </th> <td>  16.392</td>\n",
       "</tr>\n",
       "<tr>\n",
       "  <th>Skew:</th>          <td> 1.024</td> <th>  Prob(JB):          </th> <td>0.000276</td>\n",
       "</tr>\n",
       "<tr>\n",
       "  <th>Kurtosis:</th>      <td> 4.610</td> <th>  Cond. No.          </th> <td>4.70e+05</td>\n",
       "</tr>\n",
       "</table>"
      ],
      "text/plain": [
       "<class 'statsmodels.iolib.summary.Summary'>\n",
       "\"\"\"\n",
       "                            OLS Regression Results                            \n",
       "==============================================================================\n",
       "Dep. Variable:              rel_occur   R-squared:                       0.394\n",
       "Model:                            OLS   Adj. R-squared:                  0.335\n",
       "Method:                 Least Squares   F-statistic:                     6.752\n",
       "Date:                Wed, 05 Apr 2017   Prob (F-statistic):           6.45e-05\n",
       "Time:                        00:50:20   Log-Likelihood:                -180.37\n",
       "No. Observations:                  58   AIC:                             372.7\n",
       "Df Residuals:                      52   BIC:                             385.1\n",
       "Df Model:                           5                                         \n",
       "Covariance Type:            nonrobust                                         \n",
       "======================================================================================\n",
       "                         coef    std err          t      P>|t|      [95.0% Conf. Int.]\n",
       "--------------------------------------------------------------------------------------\n",
       "Intercept              9.8550      5.397      1.826      0.074        -0.974    20.684\n",
       "income             -6.014e-05   3.56e-05     -1.688      0.097        -0.000  1.13e-05\n",
       "age                   -0.0754      0.099     -0.764      0.449        -0.273     0.123\n",
       "bachelor_rate         -0.1228      0.071     -1.734      0.089        -0.265     0.019\n",
       "unempl_rate            0.5900      0.238      2.481      0.016         0.113     1.067\n",
       "house_age_in_years    -0.0120      0.040     -0.303      0.763        -0.091     0.067\n",
       "==============================================================================\n",
       "Omnibus:                       14.218   Durbin-Watson:                   1.781\n",
       "Prob(Omnibus):                  0.001   Jarque-Bera (JB):               16.392\n",
       "Skew:                           1.024   Prob(JB):                     0.000276\n",
       "Kurtosis:                       4.610   Cond. No.                     4.70e+05\n",
       "==============================================================================\n",
       "\n",
       "Warnings:\n",
       "[1] Standard Errors assume that the covariance matrix of the errors is correctly specified.\n",
       "[2] The condition number is large, 4.7e+05. This might indicate that there are\n",
       "strong multicollinearity or other numerical problems.\n",
       "\"\"\""
      ]
     },
     "execution_count": 28,
     "metadata": {},
     "output_type": "execute_result"
    }
   ],
   "source": [
    "for service in service_requests:\n",
    "    serv_data = gb[gb[\"type of service request\"] == service]\n",
    "    \n",
    "    print(\"\\nCorrelation Matrix for service: {}\".format(service))\n",
    "    serv_data.drop(['occur', 'population','total_occur', 'median_house_construction_year', \n",
    "                    'education_bachelors', 'unemployed'], axis=1).corr()\n",
    "    \n",
    "    #For now, we fit a linear regression (OLS)\n",
    "    result = sm.ols(formula=\"rel_occur ~ income + age + bachelor_rate + unempl_rate + house_age_in_years\",\n",
    "                    data=serv_data).fit()\n",
    "    result.summary()"
   ]
  },
  {
   "cell_type": "markdown",
   "metadata": {},
   "source": [
    "__Observations__:\n",
    "- Graffiti Removal:\n",
    "    - Two variables are significant: age and bachelor_rate.\n",
    "    \n",
    "    All else equal, the lower the age of the population, the higher the relative occurence of graffiti removal requests in that area. \n",
    "    \n",
    "    AND\n",
    "    \n",
    "    All else equal, the higher the rate of individuals with bachelor degrees, the higher the relative occurence of graffiti removal requests in that area.  \n",
    "\n",
    "\n",
    "- Pothole in Street:\n",
    "    - Only one variable is significant: age.\n",
    "    \n",
    "    All else equal, the higher the age of the population, the higher the relative occurence of pothole in street requests in that area. -> Do older individuals care more about potholes in the street, so that they are more likely to focus on such requests? Or do ZIP codes with more potholes in the street have older population so that the population can't complain about e.g., graffities since there are just not as many graffities?\n",
    "\n",
    "\n",
    "- Sanitation Code Violation:\n",
    "    - No variable is significant.\n",
    "    \n",
    "\n",
    "- Vacant/Abandoned Building:\n",
    "    - Only one variable is significant: unempl_rate.\n",
    "    \n",
    "    All else equal, the higher the unemployment rate, the higher the relative occurence of Vacant/Abandoned Building reports in that area.\n",
    "\n",
    "__Caveats/Next Steps:__\n",
    "\n",
    "- Education variable: It would make sense to look at the rates of individuals with _at least_ a bachelor's degree. Other educational variables could be included as well to gain a better understanding.\n",
    "\n",
    "- We are comparing static values from census with a flow of values. This is not being reflected in this analysis. For example, it could be that the unemployment rate was only high in certain areas during the census, but that it sinced has decreased. Therefore, we must assume that the information obtained from the census remained the same over time and was a constant underlying of the 311-requests. This might not be the case. In order to actually determine the influence of certain variables on the service requests, we would ideally have panel data so that we can compare the amount of requests with the change in the variables' values.\n",
    "\n",
    "- We are looking at relative occurence instead of total occurence. Thus, we are not saying that the absolute number of a respective 311 requests rises/falls corresponding to a change in above variables' values. Instead, it could also be the case that the relative importance of certain requests rises/falls as above variables change. "
   ]
  },
  {
   "cell_type": "markdown",
   "metadata": {},
   "source": [
    "### What is the difference in blocks that get “Vacant and Abandoned Buildings Reported” vs “Sanitation Code Complaints”?"
   ]
  },
  {
   "cell_type": "code",
   "execution_count": 29,
   "metadata": {
    "collapsed": false
   },
   "outputs": [
    {
     "name": "stdout",
     "output_type": "stream",
     "text": [
      "Data from ZIPs with Vacant and Abandoned Buildings Reported\n"
     ]
    },
    {
     "data": {
      "text/html": [
       "<div>\n",
       "<table border=\"1\" class=\"dataframe\">\n",
       "  <thead>\n",
       "    <tr style=\"text-align: right;\">\n",
       "      <th></th>\n",
       "      <th>income</th>\n",
       "      <th>population</th>\n",
       "      <th>age</th>\n",
       "      <th>median_house_construction_year</th>\n",
       "      <th>bachelor_rate</th>\n",
       "      <th>unempl_rate</th>\n",
       "    </tr>\n",
       "  </thead>\n",
       "  <tbody>\n",
       "    <tr>\n",
       "      <th>count</th>\n",
       "      <td>58317.000</td>\n",
       "      <td>58317.000</td>\n",
       "      <td>58317.000</td>\n",
       "      <td>58317.000</td>\n",
       "      <td>58313.000</td>\n",
       "      <td>58313.000</td>\n",
       "    </tr>\n",
       "    <tr>\n",
       "      <th>mean</th>\n",
       "      <td>36760.126</td>\n",
       "      <td>1399.173</td>\n",
       "      <td>33.754</td>\n",
       "      <td>1945.048</td>\n",
       "      <td>8.020</td>\n",
       "      <td>8.730</td>\n",
       "    </tr>\n",
       "    <tr>\n",
       "      <th>std</th>\n",
       "      <td>17598.718</td>\n",
       "      <td>427.351</td>\n",
       "      <td>9.205</td>\n",
       "      <td>21.407</td>\n",
       "      <td>8.291</td>\n",
       "      <td>4.225</td>\n",
       "    </tr>\n",
       "    <tr>\n",
       "      <th>min</th>\n",
       "      <td>0.000</td>\n",
       "      <td>0.000</td>\n",
       "      <td>0.000</td>\n",
       "      <td>0.000</td>\n",
       "      <td>0.000</td>\n",
       "      <td>0.000</td>\n",
       "    </tr>\n",
       "    <tr>\n",
       "      <th>25%</th>\n",
       "      <td>27391.000</td>\n",
       "      <td>1185.000</td>\n",
       "      <td>25.900</td>\n",
       "      <td>1939.000</td>\n",
       "      <td>3.464</td>\n",
       "      <td>5.680</td>\n",
       "    </tr>\n",
       "    <tr>\n",
       "      <th>50%</th>\n",
       "      <td>33750.000</td>\n",
       "      <td>1370.000</td>\n",
       "      <td>31.400</td>\n",
       "      <td>1939.000</td>\n",
       "      <td>4.964</td>\n",
       "      <td>9.405</td>\n",
       "    </tr>\n",
       "    <tr>\n",
       "      <th>75%</th>\n",
       "      <td>38750.000</td>\n",
       "      <td>1544.000</td>\n",
       "      <td>37.600</td>\n",
       "      <td>1940.000</td>\n",
       "      <td>9.012</td>\n",
       "      <td>11.285</td>\n",
       "    </tr>\n",
       "    <tr>\n",
       "      <th>max</th>\n",
       "      <td>145250.000</td>\n",
       "      <td>3233.000</td>\n",
       "      <td>58.800</td>\n",
       "      <td>2002.000</td>\n",
       "      <td>53.863</td>\n",
       "      <td>17.412</td>\n",
       "    </tr>\n",
       "  </tbody>\n",
       "</table>\n",
       "</div>"
      ],
      "text/plain": [
       "          income  population       age  median_house_construction_year  \\\n",
       "count  58317.000   58317.000 58317.000                       58317.000   \n",
       "mean   36760.126    1399.173    33.754                        1945.048   \n",
       "std    17598.718     427.351     9.205                          21.407   \n",
       "min        0.000       0.000     0.000                           0.000   \n",
       "25%    27391.000    1185.000    25.900                        1939.000   \n",
       "50%    33750.000    1370.000    31.400                        1939.000   \n",
       "75%    38750.000    1544.000    37.600                        1940.000   \n",
       "max   145250.000    3233.000    58.800                        2002.000   \n",
       "\n",
       "       bachelor_rate  unempl_rate  \n",
       "count      58313.000    58313.000  \n",
       "mean           8.020        8.730  \n",
       "std            8.291        4.225  \n",
       "min            0.000        0.000  \n",
       "25%            3.464        5.680  \n",
       "50%            4.964        9.405  \n",
       "75%            9.012       11.285  \n",
       "max           53.863       17.412  "
      ]
     },
     "execution_count": 29,
     "metadata": {},
     "output_type": "execute_result"
    },
    {
     "name": "stdout",
     "output_type": "stream",
     "text": [
      "\n",
      "Data from ZIPs with Sanitation Code Complaints\n"
     ]
    },
    {
     "data": {
      "text/html": [
       "<div>\n",
       "<table border=\"1\" class=\"dataframe\">\n",
       "  <thead>\n",
       "    <tr style=\"text-align: right;\">\n",
       "      <th></th>\n",
       "      <th>income</th>\n",
       "      <th>population</th>\n",
       "      <th>age</th>\n",
       "      <th>median_house_construction_year</th>\n",
       "      <th>bachelor_rate</th>\n",
       "      <th>unempl_rate</th>\n",
       "    </tr>\n",
       "  </thead>\n",
       "  <tbody>\n",
       "    <tr>\n",
       "      <th>count</th>\n",
       "      <td>118705.000</td>\n",
       "      <td>118705.000</td>\n",
       "      <td>118705.000</td>\n",
       "      <td>118705.000</td>\n",
       "      <td>118700.000</td>\n",
       "      <td>118700.000</td>\n",
       "    </tr>\n",
       "    <tr>\n",
       "      <th>mean</th>\n",
       "      <td>50050.626</td>\n",
       "      <td>1467.160</td>\n",
       "      <td>34.354</td>\n",
       "      <td>1945.765</td>\n",
       "      <td>13.676</td>\n",
       "      <td>7.194</td>\n",
       "    </tr>\n",
       "    <tr>\n",
       "      <th>std</th>\n",
       "      <td>27517.005</td>\n",
       "      <td>521.885</td>\n",
       "      <td>8.380</td>\n",
       "      <td>19.298</td>\n",
       "      <td>12.656</td>\n",
       "      <td>3.797</td>\n",
       "    </tr>\n",
       "    <tr>\n",
       "      <th>min</th>\n",
       "      <td>0.000</td>\n",
       "      <td>0.000</td>\n",
       "      <td>0.000</td>\n",
       "      <td>0.000</td>\n",
       "      <td>0.000</td>\n",
       "      <td>0.000</td>\n",
       "    </tr>\n",
       "    <tr>\n",
       "      <th>25%</th>\n",
       "      <td>31442.000</td>\n",
       "      <td>1121.000</td>\n",
       "      <td>28.300</td>\n",
       "      <td>1939.000</td>\n",
       "      <td>4.257</td>\n",
       "      <td>4.363</td>\n",
       "    </tr>\n",
       "    <tr>\n",
       "      <th>50%</th>\n",
       "      <td>41053.000</td>\n",
       "      <td>1370.000</td>\n",
       "      <td>33.500</td>\n",
       "      <td>1939.000</td>\n",
       "      <td>9.012</td>\n",
       "      <td>6.642</td>\n",
       "    </tr>\n",
       "    <tr>\n",
       "      <th>75%</th>\n",
       "      <td>69297.000</td>\n",
       "      <td>1739.000</td>\n",
       "      <td>37.600</td>\n",
       "      <td>1946.000</td>\n",
       "      <td>20.821</td>\n",
       "      <td>9.959</td>\n",
       "    </tr>\n",
       "    <tr>\n",
       "      <th>max</th>\n",
       "      <td>145250.000</td>\n",
       "      <td>3233.000</td>\n",
       "      <td>58.800</td>\n",
       "      <td>2002.000</td>\n",
       "      <td>53.863</td>\n",
       "      <td>17.412</td>\n",
       "    </tr>\n",
       "  </tbody>\n",
       "</table>\n",
       "</div>"
      ],
      "text/plain": [
       "          income  population        age  median_house_construction_year  \\\n",
       "count 118705.000  118705.000 118705.000                      118705.000   \n",
       "mean   50050.626    1467.160     34.354                        1945.765   \n",
       "std    27517.005     521.885      8.380                          19.298   \n",
       "min        0.000       0.000      0.000                           0.000   \n",
       "25%    31442.000    1121.000     28.300                        1939.000   \n",
       "50%    41053.000    1370.000     33.500                        1939.000   \n",
       "75%    69297.000    1739.000     37.600                        1946.000   \n",
       "max   145250.000    3233.000     58.800                        2002.000   \n",
       "\n",
       "       bachelor_rate  unempl_rate  \n",
       "count     118700.000   118700.000  \n",
       "mean          13.676        7.194  \n",
       "std           12.656        3.797  \n",
       "min            0.000        0.000  \n",
       "25%            4.257        4.363  \n",
       "50%            9.012        6.642  \n",
       "75%           20.821        9.959  \n",
       "max           53.863       17.412  "
      ]
     },
     "execution_count": 29,
     "metadata": {},
     "output_type": "execute_result"
    },
    {
     "name": "stdout",
     "output_type": "stream",
     "text": [
      "\n",
      "Comparison: Sanitation - Vacant\n"
     ]
    },
    {
     "data": {
      "text/html": [
       "<div>\n",
       "<table border=\"1\" class=\"dataframe\">\n",
       "  <thead>\n",
       "    <tr style=\"text-align: right;\">\n",
       "      <th></th>\n",
       "      <th>income</th>\n",
       "      <th>population</th>\n",
       "      <th>age</th>\n",
       "      <th>median_house_construction_year</th>\n",
       "      <th>bachelor_rate</th>\n",
       "      <th>unempl_rate</th>\n",
       "    </tr>\n",
       "  </thead>\n",
       "  <tbody>\n",
       "    <tr>\n",
       "      <th>count</th>\n",
       "      <td>60388.000</td>\n",
       "      <td>60388.000</td>\n",
       "      <td>60388.000</td>\n",
       "      <td>60388.000</td>\n",
       "      <td>60387.000</td>\n",
       "      <td>60387.000</td>\n",
       "    </tr>\n",
       "    <tr>\n",
       "      <th>mean</th>\n",
       "      <td>13290.501</td>\n",
       "      <td>67.987</td>\n",
       "      <td>0.600</td>\n",
       "      <td>0.717</td>\n",
       "      <td>5.657</td>\n",
       "      <td>-1.536</td>\n",
       "    </tr>\n",
       "    <tr>\n",
       "      <th>std</th>\n",
       "      <td>9918.287</td>\n",
       "      <td>94.534</td>\n",
       "      <td>-0.825</td>\n",
       "      <td>-2.108</td>\n",
       "      <td>4.365</td>\n",
       "      <td>-0.428</td>\n",
       "    </tr>\n",
       "    <tr>\n",
       "      <th>min</th>\n",
       "      <td>0.000</td>\n",
       "      <td>0.000</td>\n",
       "      <td>0.000</td>\n",
       "      <td>0.000</td>\n",
       "      <td>0.000</td>\n",
       "      <td>0.000</td>\n",
       "    </tr>\n",
       "    <tr>\n",
       "      <th>25%</th>\n",
       "      <td>4051.000</td>\n",
       "      <td>-64.000</td>\n",
       "      <td>2.400</td>\n",
       "      <td>0.000</td>\n",
       "      <td>0.793</td>\n",
       "      <td>-1.317</td>\n",
       "    </tr>\n",
       "    <tr>\n",
       "      <th>50%</th>\n",
       "      <td>7303.000</td>\n",
       "      <td>0.000</td>\n",
       "      <td>2.100</td>\n",
       "      <td>0.000</td>\n",
       "      <td>4.049</td>\n",
       "      <td>-2.763</td>\n",
       "    </tr>\n",
       "    <tr>\n",
       "      <th>75%</th>\n",
       "      <td>30547.000</td>\n",
       "      <td>195.000</td>\n",
       "      <td>0.000</td>\n",
       "      <td>6.000</td>\n",
       "      <td>11.809</td>\n",
       "      <td>-1.326</td>\n",
       "    </tr>\n",
       "    <tr>\n",
       "      <th>max</th>\n",
       "      <td>0.000</td>\n",
       "      <td>0.000</td>\n",
       "      <td>0.000</td>\n",
       "      <td>0.000</td>\n",
       "      <td>0.000</td>\n",
       "      <td>0.000</td>\n",
       "    </tr>\n",
       "  </tbody>\n",
       "</table>\n",
       "</div>"
      ],
      "text/plain": [
       "         income  population       age  median_house_construction_year  \\\n",
       "count 60388.000   60388.000 60388.000                       60388.000   \n",
       "mean  13290.501      67.987     0.600                           0.717   \n",
       "std    9918.287      94.534    -0.825                          -2.108   \n",
       "min       0.000       0.000     0.000                           0.000   \n",
       "25%    4051.000     -64.000     2.400                           0.000   \n",
       "50%    7303.000       0.000     2.100                           0.000   \n",
       "75%   30547.000     195.000     0.000                           6.000   \n",
       "max       0.000       0.000     0.000                           0.000   \n",
       "\n",
       "       bachelor_rate  unempl_rate  \n",
       "count      60387.000    60387.000  \n",
       "mean           5.657       -1.536  \n",
       "std            4.365       -0.428  \n",
       "min            0.000        0.000  \n",
       "25%            0.793       -1.317  \n",
       "50%            4.049       -2.763  \n",
       "75%           11.809       -1.326  \n",
       "max            0.000        0.000  "
      ]
     },
     "execution_count": 29,
     "metadata": {},
     "output_type": "execute_result"
    }
   ],
   "source": [
    "print(\"Data from ZIPs with Vacant and Abandoned Buildings Reported\")\n",
    "vacant_data.describe()\n",
    "print(\"\\nData from ZIPs with Sanitation Code Complaints\")\n",
    "sanitation_data.describe()\n",
    "print(\"\\nComparison: Sanitation - Vacant\")\n",
    "sanitation_data.describe() - vacant_data.describe()"
   ]
  },
  {
   "cell_type": "markdown",
   "metadata": {},
   "source": [
    "__Answer__:\n",
    "\n",
    "On average, the ZIPs that have Sanitation complaints have a...\n",
    "    - higher income\n",
    "    - higher rate of individuals with a bachelor's degree\n",
    "    - lower unemployment rate\n",
    "   than the ZIPs that get “Vacant and Abandoned Buildings Reported”. "
   ]
  },
  {
   "cell_type": "code",
   "execution_count": 40,
   "metadata": {
    "collapsed": false
   },
   "outputs": [
    {
     "data": {
      "text/html": [
       "<div>\n",
       "<table border=\"1\" class=\"dataframe\">\n",
       "  <thead>\n",
       "    <tr style=\"text-align: right;\">\n",
       "      <th></th>\n",
       "      <th>zip code</th>\n",
       "      <th>type of service request</th>\n",
       "      <th>occur</th>\n",
       "    </tr>\n",
       "  </thead>\n",
       "  <tbody>\n",
       "    <tr>\n",
       "      <th>80</th>\n",
       "      <td>60620</td>\n",
       "      <td>Graffiti Removal</td>\n",
       "      <td>1967</td>\n",
       "    </tr>\n",
       "    <tr>\n",
       "      <th>81</th>\n",
       "      <td>60620</td>\n",
       "      <td>Pothole in Street</td>\n",
       "      <td>14621</td>\n",
       "    </tr>\n",
       "    <tr>\n",
       "      <th>82</th>\n",
       "      <td>60620</td>\n",
       "      <td>Sanitation Code Violation</td>\n",
       "      <td>6010</td>\n",
       "    </tr>\n",
       "    <tr>\n",
       "      <th>83</th>\n",
       "      <td>60620</td>\n",
       "      <td>Vacant/Abandoned Building</td>\n",
       "      <td>3635</td>\n",
       "    </tr>\n",
       "  </tbody>\n",
       "</table>\n",
       "</div>"
      ],
      "text/plain": [
       "   zip code    type of service request  occur\n",
       "80    60620           Graffiti Removal   1967\n",
       "81    60620          Pothole in Street  14621\n",
       "82    60620  Sanitation Code Violation   6010\n",
       "83    60620  Vacant/Abandoned Building   3635"
      ]
     },
     "execution_count": 40,
     "metadata": {},
     "output_type": "execute_result"
    }
   ],
   "source": [
    "gb[gb[\"zip code\"] == \"60620\"][[\"zip code\", \"type of service request\", \"occur\"]]"
   ]
  },
  {
   "cell_type": "code",
   "execution_count": 50,
   "metadata": {
    "collapsed": false
   },
   "outputs": [
    {
     "data": {
      "text/plain": [
       "11912"
      ]
     },
     "execution_count": 50,
     "metadata": {},
     "output_type": "execute_result"
    }
   ],
   "source": [
    "uptown_data = data[data[\"community area name\"] == \"Uptown\"]\n",
    "len(uptown_data[uptown_data[\"type of service request\"] == \"Graffiti Removal\"])"
   ]
  },
  {
   "cell_type": "code",
   "execution_count": 62,
   "metadata": {
    "collapsed": false
   },
   "outputs": [
    {
     "data": {
      "text/plain": [
       "62415"
      ]
     },
     "execution_count": 62,
     "metadata": {},
     "output_type": "execute_result"
    }
   ],
   "source": [
    "lawndale_data = data[(data[\"community area name\"] == \"North Lawndale\") | (data[\"community area name\"] == \"South Lawndale\")]\n",
    "len(lawndale_data[lawndale_data[\"type of service request\"] == \"Graffiti Removal\"])"
   ]
  },
  {
   "cell_type": "code",
   "execution_count": null,
   "metadata": {
    "collapsed": true
   },
   "outputs": [],
   "source": []
  }
 ],
 "metadata": {
  "anaconda-cloud": {},
  "kernelspec": {
   "display_name": "Python [Root]",
   "language": "python",
   "name": "Python [Root]"
  },
  "language_info": {
   "codemirror_mode": {
    "name": "ipython",
    "version": 3
   },
   "file_extension": ".py",
   "mimetype": "text/x-python",
   "name": "python",
   "nbconvert_exporter": "python",
   "pygments_lexer": "ipython3",
   "version": "3.5.2"
  }
 },
 "nbformat": 4,
 "nbformat_minor": 0
}
